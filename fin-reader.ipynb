{
 "cells": [
  {
   "cell_type": "markdown",
   "metadata": {
    "collapsed": true
   },
   "source": [
    "# Pandas - Finance Data Reader\n",
    "\n",
    "### Contents"
   ]
  },
  {
   "cell_type": "code",
   "execution_count": 3,
   "metadata": {
    "collapsed": false
   },
   "outputs": [
    {
     "data": {
      "text/html": [
       "<style>body {\n",
       "    margin: 0;\n",
       "    font-family: Serif;\n",
       "}\n",
       "table.dataframe {\n",
       "    border-collapse: collapse;\n",
       "    border: none;\n",
       "}\n",
       "table.dataframe tr {\n",
       "    border: none;\n",
       "}\n",
       "table.dataframe td, table.dataframe th {\n",
       "    margin: 0;\n",
       "    border: 1px solid white;\n",
       "    padding-left: 0.25em;\n",
       "    padding-right: 0.25em;\n",
       "    font-family: Serif;\n",
       "}\n",
       "table.dataframe th:not(:empty) {\n",
       "    background-color: #fec;\n",
       "    text-align: center;\n",
       "    font-weight: bold;\n",
       "    padding-left: 0.25em;\n",
       "    padding-right: 0.25em;\n",
       "    font-family: Serif;\n",
       "}\n",
       "table.dataframe tr:nth-child(2) th:empty {\n",
       "    border-left: none;\n",
       "    border-right: 1px dashed #888;\n",
       "}\n",
       "table.dataframe td {\n",
       "    border: 2px solid #ccf;\n",
       "    background-color: #f4f4ff;\n",
       "}h3 {\n",
       "    color: white;\n",
       "    background-color: black;\n",
       "    padding: 0.5em;\n",
       "    font-family: Sans;\n",
       "}\n",
       "</style>"
      ],
      "text/plain": [
       "<IPython.core.display.HTML object>"
      ]
     },
     "execution_count": 3,
     "metadata": {},
     "output_type": "execute_result"
    }
   ],
   "source": [
    "from IPython.core.display import HTML\n",
    "css = open('styles/style-table.css').read() + open('styles/style-notebook.css').read()\n",
    "HTML('<style>{}</style>'.format(css))"
   ]
  },
  {
   "cell_type": "code",
   "execution_count": 4,
   "metadata": {
    "collapsed": false
   },
   "outputs": [],
   "source": [
    "# Usual stuff...\n",
    "import numpy as np\n",
    "import pandas as pd\n",
    "from pandas.tseries.offsets import Day, MonthEnd\n",
    "import pandas_datareader as pdr\n",
    "import pandas_datareader.data as web\n",
    "import seaborn as sns\n",
    "\n",
    "import datetime\n",
    "#pd.set_option('display.notebook_repr_html', False)"
   ]
  },
  {
   "cell_type": "code",
   "execution_count": 5,
   "metadata": {
    "collapsed": false
   },
   "outputs": [
    {
     "data": {
      "text/plain": [
       "datetime.date(2007, 1, 1)"
      ]
     },
     "execution_count": 5,
     "metadata": {},
     "output_type": "execute_result"
    }
   ],
   "source": [
    "start = datetime.datetime(2007,01,01).date()\n",
    "start"
   ]
  },
  {
   "cell_type": "code",
   "execution_count": 6,
   "metadata": {
    "collapsed": false
   },
   "outputs": [
    {
     "data": {
      "text/plain": [
       "datetime.date(2016, 6, 28)"
      ]
     },
     "execution_count": 6,
     "metadata": {},
     "output_type": "execute_result"
    }
   ],
   "source": [
    "end = pd.datetime.now()  - 1* Day()\n",
    "end = end.date()\n",
    "end"
   ]
  },
  {
   "cell_type": "markdown",
   "metadata": {},
   "source": [
    "### Caching\n",
    "\n",
    "Needed so that we don't hit the server repeatedly and get IP banned."
   ]
  },
  {
   "cell_type": "code",
   "execution_count": 7,
   "metadata": {
    "collapsed": false
   },
   "outputs": [],
   "source": [
    "import requests_cache\n",
    "expire_after = datetime.timedelta(days=1)\n",
    "session = requests_cache.CachedSession(cache_name='cache', backend='sqlite', expire_after=expire_after)"
   ]
  },
  {
   "cell_type": "code",
   "execution_count": 8,
   "metadata": {
    "collapsed": false
   },
   "outputs": [
    {
     "data": {
      "text/html": [
       "<div>\n",
       "<table border=\"1\" class=\"dataframe\">\n",
       "  <thead>\n",
       "    <tr style=\"text-align: right;\">\n",
       "      <th></th>\n",
       "      <th>VIXCLS</th>\n",
       "    </tr>\n",
       "    <tr>\n",
       "      <th>DATE</th>\n",
       "      <th></th>\n",
       "    </tr>\n",
       "  </thead>\n",
       "  <tbody>\n",
       "    <tr>\n",
       "      <th>2016-06-21</th>\n",
       "      <td>18.48</td>\n",
       "    </tr>\n",
       "    <tr>\n",
       "      <th>2016-06-22</th>\n",
       "      <td>21.17</td>\n",
       "    </tr>\n",
       "    <tr>\n",
       "      <th>2016-06-23</th>\n",
       "      <td>17.25</td>\n",
       "    </tr>\n",
       "    <tr>\n",
       "      <th>2016-06-24</th>\n",
       "      <td>25.76</td>\n",
       "    </tr>\n",
       "    <tr>\n",
       "      <th>2016-06-27</th>\n",
       "      <td>23.85</td>\n",
       "    </tr>\n",
       "  </tbody>\n",
       "</table>\n",
       "</div>"
      ],
      "text/plain": [
       "            VIXCLS\n",
       "DATE              \n",
       "2016-06-21   18.48\n",
       "2016-06-22   21.17\n",
       "2016-06-23   17.25\n",
       "2016-06-24   25.76\n",
       "2016-06-27   23.85"
      ]
     },
     "execution_count": 8,
     "metadata": {},
     "output_type": "execute_result"
    }
   ],
   "source": [
    "# quick test\n",
    "vix = web.DataReader(\"VIXCLS\", 'fred', session=session)\n",
    "vix.dropna()\n",
    "vix.tail()"
   ]
  },
  {
   "cell_type": "code",
   "execution_count": 7,
   "metadata": {
    "collapsed": false
   },
   "outputs": [
    {
     "data": {
      "text/html": [
       "<div>\n",
       "<table border=\"1\" class=\"dataframe\">\n",
       "  <thead>\n",
       "    <tr style=\"text-align: right;\">\n",
       "      <th></th>\n",
       "      <th>Open</th>\n",
       "      <th>High</th>\n",
       "      <th>Low</th>\n",
       "      <th>Close</th>\n",
       "      <th>Volume</th>\n",
       "      <th>Adj Close</th>\n",
       "    </tr>\n",
       "    <tr>\n",
       "      <th>Date</th>\n",
       "      <th></th>\n",
       "      <th></th>\n",
       "      <th></th>\n",
       "      <th></th>\n",
       "      <th></th>\n",
       "      <th></th>\n",
       "    </tr>\n",
       "  </thead>\n",
       "  <tbody>\n",
       "    <tr>\n",
       "      <th>2007-01-03</th>\n",
       "      <td>142.250000</td>\n",
       "      <td>142.860001</td>\n",
       "      <td>140.570007</td>\n",
       "      <td>141.369995</td>\n",
       "      <td>94807600</td>\n",
       "      <td>116.069465</td>\n",
       "    </tr>\n",
       "    <tr>\n",
       "      <th>2007-01-04</th>\n",
       "      <td>141.229996</td>\n",
       "      <td>142.050003</td>\n",
       "      <td>140.610001</td>\n",
       "      <td>141.669998</td>\n",
       "      <td>69620600</td>\n",
       "      <td>116.315778</td>\n",
       "    </tr>\n",
       "    <tr>\n",
       "      <th>2007-01-05</th>\n",
       "      <td>141.330002</td>\n",
       "      <td>141.399994</td>\n",
       "      <td>140.380005</td>\n",
       "      <td>140.539993</td>\n",
       "      <td>76645300</td>\n",
       "      <td>115.388006</td>\n",
       "    </tr>\n",
       "    <tr>\n",
       "      <th>2007-01-08</th>\n",
       "      <td>140.820007</td>\n",
       "      <td>141.410004</td>\n",
       "      <td>140.250000</td>\n",
       "      <td>141.190002</td>\n",
       "      <td>71655000</td>\n",
       "      <td>115.921685</td>\n",
       "    </tr>\n",
       "    <tr>\n",
       "      <th>2007-01-09</th>\n",
       "      <td>141.309998</td>\n",
       "      <td>141.600006</td>\n",
       "      <td>140.399994</td>\n",
       "      <td>141.070007</td>\n",
       "      <td>75680100</td>\n",
       "      <td>115.823165</td>\n",
       "    </tr>\n",
       "  </tbody>\n",
       "</table>\n",
       "</div>"
      ],
      "text/plain": [
       "                  Open        High         Low       Close    Volume  \\\n",
       "Date                                                                   \n",
       "2007-01-03  142.250000  142.860001  140.570007  141.369995  94807600   \n",
       "2007-01-04  141.229996  142.050003  140.610001  141.669998  69620600   \n",
       "2007-01-05  141.330002  141.399994  140.380005  140.539993  76645300   \n",
       "2007-01-08  140.820007  141.410004  140.250000  141.190002  71655000   \n",
       "2007-01-09  141.309998  141.600006  140.399994  141.070007  75680100   \n",
       "\n",
       "             Adj Close  \n",
       "Date                    \n",
       "2007-01-03  116.069465  \n",
       "2007-01-04  116.315778  \n",
       "2007-01-05  115.388006  \n",
       "2007-01-08  115.921685  \n",
       "2007-01-09  115.823165  "
      ]
     },
     "execution_count": 7,
     "metadata": {},
     "output_type": "execute_result"
    }
   ],
   "source": [
    "spy = web.DataReader(\"SPY\", 'yahoo', start, end, session=session)\n",
    "spy.head()"
   ]
  },
  {
   "cell_type": "markdown",
   "metadata": {},
   "source": [
    "### Yahoo Finance"
   ]
  },
  {
   "cell_type": "markdown",
   "metadata": {},
   "source": [
    "#### Get stock data from Yahoo"
   ]
  },
  {
   "cell_type": "code",
   "execution_count": 8,
   "metadata": {
    "collapsed": false
   },
   "outputs": [
    {
     "data": {
      "text/html": [
       "<div>\n",
       "<table border=\"1\" class=\"dataframe\">\n",
       "  <thead>\n",
       "    <tr style=\"text-align: right;\">\n",
       "      <th></th>\n",
       "      <th>Open</th>\n",
       "      <th>High</th>\n",
       "      <th>Low</th>\n",
       "      <th>Close</th>\n",
       "      <th>Volume</th>\n",
       "      <th>Adj Close</th>\n",
       "    </tr>\n",
       "    <tr>\n",
       "      <th>Date</th>\n",
       "      <th></th>\n",
       "      <th></th>\n",
       "      <th></th>\n",
       "      <th></th>\n",
       "      <th></th>\n",
       "      <th></th>\n",
       "    </tr>\n",
       "  </thead>\n",
       "  <tbody>\n",
       "    <tr>\n",
       "      <th>2007-01-03</th>\n",
       "      <td>86.289999</td>\n",
       "      <td>86.579999</td>\n",
       "      <td>81.899999</td>\n",
       "      <td>83.800002</td>\n",
       "      <td>309579900</td>\n",
       "      <td>11.019520</td>\n",
       "    </tr>\n",
       "    <tr>\n",
       "      <th>2007-01-04</th>\n",
       "      <td>84.050001</td>\n",
       "      <td>85.949998</td>\n",
       "      <td>83.820003</td>\n",
       "      <td>85.659998</td>\n",
       "      <td>211815100</td>\n",
       "      <td>11.264106</td>\n",
       "    </tr>\n",
       "    <tr>\n",
       "      <th>2007-01-05</th>\n",
       "      <td>85.770000</td>\n",
       "      <td>86.199997</td>\n",
       "      <td>84.400002</td>\n",
       "      <td>85.049997</td>\n",
       "      <td>208685400</td>\n",
       "      <td>11.183892</td>\n",
       "    </tr>\n",
       "    <tr>\n",
       "      <th>2007-01-08</th>\n",
       "      <td>85.959998</td>\n",
       "      <td>86.529998</td>\n",
       "      <td>85.280003</td>\n",
       "      <td>85.470000</td>\n",
       "      <td>199276700</td>\n",
       "      <td>11.239121</td>\n",
       "    </tr>\n",
       "    <tr>\n",
       "      <th>2007-01-09</th>\n",
       "      <td>86.450003</td>\n",
       "      <td>92.979999</td>\n",
       "      <td>85.150000</td>\n",
       "      <td>92.570003</td>\n",
       "      <td>837324600</td>\n",
       "      <td>12.172756</td>\n",
       "    </tr>\n",
       "  </tbody>\n",
       "</table>\n",
       "</div>"
      ],
      "text/plain": [
       "                 Open       High        Low      Close     Volume  Adj Close\n",
       "Date                                                                        \n",
       "2007-01-03  86.289999  86.579999  81.899999  83.800002  309579900  11.019520\n",
       "2007-01-04  84.050001  85.949998  83.820003  85.659998  211815100  11.264106\n",
       "2007-01-05  85.770000  86.199997  84.400002  85.049997  208685400  11.183892\n",
       "2007-01-08  85.959998  86.529998  85.280003  85.470000  199276700  11.239121\n",
       "2007-01-09  86.450003  92.979999  85.150000  92.570003  837324600  12.172756"
      ]
     },
     "execution_count": 8,
     "metadata": {},
     "output_type": "execute_result"
    }
   ],
   "source": [
    "aapl = web.DataReader(\"AAPL\", 'yahoo', start, end, session=session)\n",
    "aapl.head()"
   ]
  },
  {
   "cell_type": "markdown",
   "metadata": {
    "collapsed": true
   },
   "source": [
    "#### Get All company actions from Yahoo"
   ]
  },
  {
   "cell_type": "code",
   "execution_count": 9,
   "metadata": {
    "collapsed": false
   },
   "outputs": [
    {
     "data": {
      "text/html": [
       "<div>\n",
       "<table border=\"1\" class=\"dataframe\">\n",
       "  <thead>\n",
       "    <tr style=\"text-align: right;\">\n",
       "      <th></th>\n",
       "      <th>action</th>\n",
       "      <th>value</th>\n",
       "    </tr>\n",
       "  </thead>\n",
       "  <tbody>\n",
       "    <tr>\n",
       "      <th>2016-05-05</th>\n",
       "      <td>DIVIDEND</td>\n",
       "      <td>0.57</td>\n",
       "    </tr>\n",
       "    <tr>\n",
       "      <th>2016-02-04</th>\n",
       "      <td>DIVIDEND</td>\n",
       "      <td>0.52</td>\n",
       "    </tr>\n",
       "    <tr>\n",
       "      <th>2015-11-05</th>\n",
       "      <td>DIVIDEND</td>\n",
       "      <td>0.52</td>\n",
       "    </tr>\n",
       "    <tr>\n",
       "      <th>2015-08-06</th>\n",
       "      <td>DIVIDEND</td>\n",
       "      <td>0.52</td>\n",
       "    </tr>\n",
       "    <tr>\n",
       "      <th>2015-05-07</th>\n",
       "      <td>DIVIDEND</td>\n",
       "      <td>0.52</td>\n",
       "    </tr>\n",
       "  </tbody>\n",
       "</table>\n",
       "</div>"
      ],
      "text/plain": [
       "              action  value\n",
       "2016-05-05  DIVIDEND   0.57\n",
       "2016-02-04  DIVIDEND   0.52\n",
       "2015-11-05  DIVIDEND   0.52\n",
       "2015-08-06  DIVIDEND   0.52\n",
       "2015-05-07  DIVIDEND   0.52"
      ]
     },
     "execution_count": 9,
     "metadata": {},
     "output_type": "execute_result"
    }
   ],
   "source": [
    "actions = web.DataReader(\"AAPL\", \"yahoo-actions\", start, end, session=session)\n",
    "actions.head(5)"
   ]
  },
  {
   "cell_type": "markdown",
   "metadata": {},
   "source": [
    "#### Get historical dividends from Yahoo..."
   ]
  },
  {
   "cell_type": "code",
   "execution_count": 10,
   "metadata": {
    "collapsed": false
   },
   "outputs": [
    {
     "data": {
      "text/html": [
       "<div>\n",
       "<table border=\"1\" class=\"dataframe\">\n",
       "  <thead>\n",
       "    <tr style=\"text-align: right;\">\n",
       "      <th></th>\n",
       "      <th>action</th>\n",
       "      <th>value</th>\n",
       "    </tr>\n",
       "  </thead>\n",
       "  <tbody>\n",
       "    <tr>\n",
       "      <th>2016-05-05</th>\n",
       "      <td>DIVIDEND</td>\n",
       "      <td>0.57</td>\n",
       "    </tr>\n",
       "    <tr>\n",
       "      <th>2016-02-04</th>\n",
       "      <td>DIVIDEND</td>\n",
       "      <td>0.52</td>\n",
       "    </tr>\n",
       "    <tr>\n",
       "      <th>2015-11-05</th>\n",
       "      <td>DIVIDEND</td>\n",
       "      <td>0.52</td>\n",
       "    </tr>\n",
       "    <tr>\n",
       "      <th>2015-08-06</th>\n",
       "      <td>DIVIDEND</td>\n",
       "      <td>0.52</td>\n",
       "    </tr>\n",
       "    <tr>\n",
       "      <th>2015-05-07</th>\n",
       "      <td>DIVIDEND</td>\n",
       "      <td>0.52</td>\n",
       "    </tr>\n",
       "  </tbody>\n",
       "</table>\n",
       "</div>"
      ],
      "text/plain": [
       "              action  value\n",
       "2016-05-05  DIVIDEND   0.57\n",
       "2016-02-04  DIVIDEND   0.52\n",
       "2015-11-05  DIVIDEND   0.52\n",
       "2015-08-06  DIVIDEND   0.52\n",
       "2015-05-07  DIVIDEND   0.52"
      ]
     },
     "execution_count": 10,
     "metadata": {},
     "output_type": "execute_result"
    }
   ],
   "source": [
    "aapl_dividends = actions[actions.action == 'DIVIDEND']\n",
    "aapl_dividends.head()"
   ]
  },
  {
   "cell_type": "code",
   "execution_count": 11,
   "metadata": {
    "collapsed": false
   },
   "outputs": [
    {
     "data": {
      "text/html": [
       "<div>\n",
       "<table border=\"1\" class=\"dataframe\">\n",
       "  <thead>\n",
       "    <tr style=\"text-align: right;\">\n",
       "      <th></th>\n",
       "      <th>Open</th>\n",
       "      <th>Close</th>\n",
       "      <th>Low</th>\n",
       "      <th>High</th>\n",
       "      <th>Adj Close</th>\n",
       "      <th>Volume</th>\n",
       "    </tr>\n",
       "    <tr>\n",
       "      <th>Date</th>\n",
       "      <th></th>\n",
       "      <th></th>\n",
       "      <th></th>\n",
       "      <th></th>\n",
       "      <th></th>\n",
       "      <th></th>\n",
       "    </tr>\n",
       "  </thead>\n",
       "  <tbody>\n",
       "    <tr>\n",
       "      <th>2016-06-03</th>\n",
       "      <td>99.440002</td>\n",
       "      <td>97.720001</td>\n",
       "      <td>96.629997</td>\n",
       "      <td>100.470001</td>\n",
       "      <td>97.720001</td>\n",
       "      <td>147431800</td>\n",
       "    </tr>\n",
       "    <tr>\n",
       "      <th>2016-06-10</th>\n",
       "      <td>97.790001</td>\n",
       "      <td>99.650002</td>\n",
       "      <td>97.449997</td>\n",
       "      <td>101.889999</td>\n",
       "      <td>99.650002</td>\n",
       "      <td>120903800</td>\n",
       "    </tr>\n",
       "    <tr>\n",
       "      <th>2016-06-17</th>\n",
       "      <td>98.529999</td>\n",
       "      <td>97.550003</td>\n",
       "      <td>96.070000</td>\n",
       "      <td>99.349998</td>\n",
       "      <td>97.550003</td>\n",
       "      <td>161435900</td>\n",
       "    </tr>\n",
       "    <tr>\n",
       "      <th>2016-06-24</th>\n",
       "      <td>96.620003</td>\n",
       "      <td>96.099998</td>\n",
       "      <td>94.680000</td>\n",
       "      <td>96.889999</td>\n",
       "      <td>96.099998</td>\n",
       "      <td>190601400</td>\n",
       "    </tr>\n",
       "    <tr>\n",
       "      <th>2016-07-01</th>\n",
       "      <td>92.910004</td>\n",
       "      <td>93.589996</td>\n",
       "      <td>91.500000</td>\n",
       "      <td>94.660004</td>\n",
       "      <td>93.589996</td>\n",
       "      <td>157695100</td>\n",
       "    </tr>\n",
       "  </tbody>\n",
       "</table>\n",
       "</div>"
      ],
      "text/plain": [
       "                 Open      Close        Low        High  Adj Close     Volume\n",
       "Date                                                                         \n",
       "2016-06-03  99.440002  97.720001  96.629997  100.470001  97.720001  147431800\n",
       "2016-06-10  97.790001  99.650002  97.449997  101.889999  99.650002  120903800\n",
       "2016-06-17  98.529999  97.550003  96.070000   99.349998  97.550003  161435900\n",
       "2016-06-24  96.620003  96.099998  94.680000   96.889999  96.099998  190601400\n",
       "2016-07-01  92.910004  93.589996  91.500000   94.660004  93.589996  157695100"
      ]
     },
     "execution_count": 11,
     "metadata": {},
     "output_type": "execute_result"
    }
   ],
   "source": [
    "# Get Weekly Series\n",
    "ohlc_dict = {                                                                                                             \n",
    "    'Open':'first',\n",
    "    'High':'max',\n",
    "    'Low':'min',\n",
    "    'Close': 'last',\n",
    "    'Volume': 'sum',\n",
    "    'Adj Close': 'last'\n",
    "}\n",
    "\n",
    "aapl_weekly = aapl.resample('W-FRI', closed='left').apply(ohlc_dict)\n",
    "aapl_weekly = aapl_weekly[aapl_weekly.columns[::-1]]\n",
    "aapl_weekly.tail()"
   ]
  },
  {
   "cell_type": "markdown",
   "metadata": {},
   "source": [
    "#### Get Monthly Series"
   ]
  },
  {
   "cell_type": "code",
   "execution_count": 12,
   "metadata": {
    "collapsed": false
   },
   "outputs": [
    {
     "data": {
      "text/html": [
       "<div>\n",
       "<table border=\"1\" class=\"dataframe\">\n",
       "  <thead>\n",
       "    <tr style=\"text-align: right;\">\n",
       "      <th></th>\n",
       "      <th>Open</th>\n",
       "      <th>Close</th>\n",
       "      <th>Low</th>\n",
       "      <th>High</th>\n",
       "      <th>Adj Close</th>\n",
       "      <th>Volume</th>\n",
       "    </tr>\n",
       "    <tr>\n",
       "      <th>Date</th>\n",
       "      <th></th>\n",
       "      <th></th>\n",
       "      <th></th>\n",
       "      <th></th>\n",
       "      <th></th>\n",
       "      <th></th>\n",
       "    </tr>\n",
       "  </thead>\n",
       "  <tbody>\n",
       "    <tr>\n",
       "      <th>2016-02-29</th>\n",
       "      <td>94.790001</td>\n",
       "      <td>96.910004</td>\n",
       "      <td>92.589996</td>\n",
       "      <td>98.889999</td>\n",
       "      <td>96.323543</td>\n",
       "      <td>840062800</td>\n",
       "    </tr>\n",
       "    <tr>\n",
       "      <th>2016-03-31</th>\n",
       "      <td>96.860001</td>\n",
       "      <td>109.559998</td>\n",
       "      <td>96.650002</td>\n",
       "      <td>110.419998</td>\n",
       "      <td>108.896984</td>\n",
       "      <td>755377500</td>\n",
       "    </tr>\n",
       "    <tr>\n",
       "      <th>2016-04-29</th>\n",
       "      <td>109.720001</td>\n",
       "      <td>94.830002</td>\n",
       "      <td>94.250000</td>\n",
       "      <td>112.389999</td>\n",
       "      <td>94.256129</td>\n",
       "      <td>829740600</td>\n",
       "    </tr>\n",
       "    <tr>\n",
       "      <th>2016-05-31</th>\n",
       "      <td>93.989998</td>\n",
       "      <td>100.349998</td>\n",
       "      <td>89.470001</td>\n",
       "      <td>100.730003</td>\n",
       "      <td>100.349998</td>\n",
       "      <td>924290200</td>\n",
       "    </tr>\n",
       "    <tr>\n",
       "      <th>2016-06-30</th>\n",
       "      <td>99.599998</td>\n",
       "      <td>93.589996</td>\n",
       "      <td>91.500000</td>\n",
       "      <td>101.889999</td>\n",
       "      <td>93.589996</td>\n",
       "      <td>741838500</td>\n",
       "    </tr>\n",
       "  </tbody>\n",
       "</table>\n",
       "</div>"
      ],
      "text/plain": [
       "                  Open       Close        Low        High   Adj Close  \\\n",
       "Date                                                                    \n",
       "2016-02-29   94.790001   96.910004  92.589996   98.889999   96.323543   \n",
       "2016-03-31   96.860001  109.559998  96.650002  110.419998  108.896984   \n",
       "2016-04-29  109.720001   94.830002  94.250000  112.389999   94.256129   \n",
       "2016-05-31   93.989998  100.349998  89.470001  100.730003  100.349998   \n",
       "2016-06-30   99.599998   93.589996  91.500000  101.889999   93.589996   \n",
       "\n",
       "               Volume  \n",
       "Date                   \n",
       "2016-02-29  840062800  \n",
       "2016-03-31  755377500  \n",
       "2016-04-29  829740600  \n",
       "2016-05-31  924290200  \n",
       "2016-06-30  741838500  "
      ]
     },
     "execution_count": 12,
     "metadata": {},
     "output_type": "execute_result"
    }
   ],
   "source": [
    "aapl_monthly = aapl.resample('BM', closed='left').apply(ohlc_dict)\n",
    "aapl_monthly = aapl_monthly[aapl_monthly.columns[::-1]]\n",
    "aapl_monthly.tail()"
   ]
  },
  {
   "cell_type": "markdown",
   "metadata": {},
   "source": [
    "#### On how to get data for multiple symbols... Example: SPDR Sectors & SPY"
   ]
  },
  {
   "cell_type": "code",
   "execution_count": 13,
   "metadata": {
    "collapsed": false
   },
   "outputs": [],
   "source": [
    "# Get data for S&P500 Sectors\n",
    "sector_list = ['XLY','XLP','XLE','XLF','XLV','XLI', 'XLB', 'XLK', 'XLU' ]\n",
    "lookback_years = 3 # in years\n",
    "\n",
    "# Set up End and Start times for data grab\n",
    "end = datetime.datetime.now()\n",
    "start = datetime.datetime(end.year - lookback_years, end.month, end.day)\n",
    "\n",
    "#For loop for grabing yahoo finance data and setting as a dataframe\n",
    "for symbol in sector_list:   \n",
    "    # Set DataFrame as the Stock Ticker\n",
    "    globals()[symbol] = web.DataReader(symbol,'yahoo',start,end, session=session)\n",
    "    \n",
    "SPY = web.DataReader(\"SPY\", 'yahoo', start, end)"
   ]
  },
  {
   "cell_type": "code",
   "execution_count": 14,
   "metadata": {
    "collapsed": false
   },
   "outputs": [
    {
     "data": {
      "text/html": [
       "<div>\n",
       "<table border=\"1\" class=\"dataframe\">\n",
       "  <thead>\n",
       "    <tr style=\"text-align: right;\">\n",
       "      <th></th>\n",
       "      <th>Open</th>\n",
       "      <th>High</th>\n",
       "      <th>Low</th>\n",
       "      <th>Close</th>\n",
       "      <th>Volume</th>\n",
       "      <th>Adj Close</th>\n",
       "    </tr>\n",
       "  </thead>\n",
       "  <tbody>\n",
       "    <tr>\n",
       "      <th>count</th>\n",
       "      <td>755.00</td>\n",
       "      <td>755.00</td>\n",
       "      <td>755.00</td>\n",
       "      <td>755.00</td>\n",
       "      <td>7.550000e+02</td>\n",
       "      <td>755.00</td>\n",
       "    </tr>\n",
       "    <tr>\n",
       "      <th>mean</th>\n",
       "      <td>195.28</td>\n",
       "      <td>196.19</td>\n",
       "      <td>194.31</td>\n",
       "      <td>195.33</td>\n",
       "      <td>1.161978e+08</td>\n",
       "      <td>189.24</td>\n",
       "    </tr>\n",
       "    <tr>\n",
       "      <th>std</th>\n",
       "      <td>13.60</td>\n",
       "      <td>13.65</td>\n",
       "      <td>13.55</td>\n",
       "      <td>13.59</td>\n",
       "      <td>4.996066e+07</td>\n",
       "      <td>15.66</td>\n",
       "    </tr>\n",
       "    <tr>\n",
       "      <th>min</th>\n",
       "      <td>160.48</td>\n",
       "      <td>161.77</td>\n",
       "      <td>160.22</td>\n",
       "      <td>161.21</td>\n",
       "      <td>3.731780e+07</td>\n",
       "      <td>151.76</td>\n",
       "    </tr>\n",
       "    <tr>\n",
       "      <th>25%</th>\n",
       "      <td>186.23</td>\n",
       "      <td>187.24</td>\n",
       "      <td>184.94</td>\n",
       "      <td>186.29</td>\n",
       "      <td>8.265650e+07</td>\n",
       "      <td>178.08</td>\n",
       "    </tr>\n",
       "    <tr>\n",
       "      <th>50%</th>\n",
       "      <td>198.43</td>\n",
       "      <td>199.26</td>\n",
       "      <td>197.52</td>\n",
       "      <td>198.47</td>\n",
       "      <td>1.039684e+08</td>\n",
       "      <td>192.22</td>\n",
       "    </tr>\n",
       "    <tr>\n",
       "      <th>75%</th>\n",
       "      <td>207.07</td>\n",
       "      <td>208.16</td>\n",
       "      <td>205.85</td>\n",
       "      <td>207.11</td>\n",
       "      <td>1.359947e+08</td>\n",
       "      <td>203.29</td>\n",
       "    </tr>\n",
       "    <tr>\n",
       "      <th>max</th>\n",
       "      <td>213.24</td>\n",
       "      <td>213.78</td>\n",
       "      <td>212.91</td>\n",
       "      <td>213.50</td>\n",
       "      <td>5.072443e+08</td>\n",
       "      <td>211.27</td>\n",
       "    </tr>\n",
       "  </tbody>\n",
       "</table>\n",
       "</div>"
      ],
      "text/plain": [
       "         Open    High     Low   Close        Volume  Adj Close\n",
       "count  755.00  755.00  755.00  755.00  7.550000e+02     755.00\n",
       "mean   195.28  196.19  194.31  195.33  1.161978e+08     189.24\n",
       "std     13.60   13.65   13.55   13.59  4.996066e+07      15.66\n",
       "min    160.48  161.77  160.22  161.21  3.731780e+07     151.76\n",
       "25%    186.23  187.24  184.94  186.29  8.265650e+07     178.08\n",
       "50%    198.43  199.26  197.52  198.47  1.039684e+08     192.22\n",
       "75%    207.07  208.16  205.85  207.11  1.359947e+08     203.29\n",
       "max    213.24  213.78  212.91  213.50  5.072443e+08     211.27"
      ]
     },
     "execution_count": 14,
     "metadata": {},
     "output_type": "execute_result"
    }
   ],
   "source": [
    "SPY.describe().round(2)"
   ]
  },
  {
   "cell_type": "code",
   "execution_count": 15,
   "metadata": {
    "collapsed": false
   },
   "outputs": [
    {
     "data": {
      "text/html": [
       "<div>\n",
       "<table border=\"1\" class=\"dataframe\">\n",
       "  <thead>\n",
       "    <tr style=\"text-align: right;\">\n",
       "      <th></th>\n",
       "      <th>Open</th>\n",
       "      <th>High</th>\n",
       "      <th>Low</th>\n",
       "      <th>Close</th>\n",
       "      <th>Volume</th>\n",
       "      <th>Adj Close</th>\n",
       "    </tr>\n",
       "  </thead>\n",
       "  <tbody>\n",
       "    <tr>\n",
       "      <th>count</th>\n",
       "      <td>755.00</td>\n",
       "      <td>755.00</td>\n",
       "      <td>755.00</td>\n",
       "      <td>755.00</td>\n",
       "      <td>755.00</td>\n",
       "      <td>755.00</td>\n",
       "    </tr>\n",
       "    <tr>\n",
       "      <th>mean</th>\n",
       "      <td>64.66</td>\n",
       "      <td>65.04</td>\n",
       "      <td>64.22</td>\n",
       "      <td>64.66</td>\n",
       "      <td>9780538.41</td>\n",
       "      <td>63.24</td>\n",
       "    </tr>\n",
       "    <tr>\n",
       "      <th>std</th>\n",
       "      <td>7.92</td>\n",
       "      <td>7.99</td>\n",
       "      <td>7.84</td>\n",
       "      <td>7.91</td>\n",
       "      <td>5925749.28</td>\n",
       "      <td>8.35</td>\n",
       "    </tr>\n",
       "    <tr>\n",
       "      <th>min</th>\n",
       "      <td>47.46</td>\n",
       "      <td>47.73</td>\n",
       "      <td>47.18</td>\n",
       "      <td>47.57</td>\n",
       "      <td>2366700.00</td>\n",
       "      <td>45.51</td>\n",
       "    </tr>\n",
       "    <tr>\n",
       "      <th>25%</th>\n",
       "      <td>58.26</td>\n",
       "      <td>58.54</td>\n",
       "      <td>57.87</td>\n",
       "      <td>58.18</td>\n",
       "      <td>5878600.00</td>\n",
       "      <td>56.30</td>\n",
       "    </tr>\n",
       "    <tr>\n",
       "      <th>50%</th>\n",
       "      <td>67.18</td>\n",
       "      <td>67.74</td>\n",
       "      <td>66.53</td>\n",
       "      <td>67.22</td>\n",
       "      <td>8325100.00</td>\n",
       "      <td>66.26</td>\n",
       "    </tr>\n",
       "    <tr>\n",
       "      <th>75%</th>\n",
       "      <td>71.01</td>\n",
       "      <td>71.53</td>\n",
       "      <td>70.73</td>\n",
       "      <td>71.10</td>\n",
       "      <td>11749700.00</td>\n",
       "      <td>70.34</td>\n",
       "    </tr>\n",
       "    <tr>\n",
       "      <th>max</th>\n",
       "      <td>77.20</td>\n",
       "      <td>77.40</td>\n",
       "      <td>76.99</td>\n",
       "      <td>77.22</td>\n",
       "      <td>66470200.00</td>\n",
       "      <td>76.04</td>\n",
       "    </tr>\n",
       "  </tbody>\n",
       "</table>\n",
       "</div>"
      ],
      "text/plain": [
       "         Open    High     Low   Close       Volume  Adj Close\n",
       "count  755.00  755.00  755.00  755.00       755.00     755.00\n",
       "mean    64.66   65.04   64.22   64.66   9780538.41      63.24\n",
       "std      7.92    7.99    7.84    7.91   5925749.28       8.35\n",
       "min     47.46   47.73   47.18   47.57   2366700.00      45.51\n",
       "25%     58.26   58.54   57.87   58.18   5878600.00      56.30\n",
       "50%     67.18   67.74   66.53   67.22   8325100.00      66.26\n",
       "75%     71.01   71.53   70.73   71.10  11749700.00      70.34\n",
       "max     77.20   77.40   76.99   77.22  66470200.00      76.04"
      ]
     },
     "execution_count": 15,
     "metadata": {},
     "output_type": "execute_result"
    }
   ],
   "source": [
    "XLV.describe().round(2)"
   ]
  },
  {
   "cell_type": "markdown",
   "metadata": {},
   "source": [
    "### Google Finance"
   ]
  },
  {
   "cell_type": "code",
   "execution_count": 16,
   "metadata": {
    "collapsed": false
   },
   "outputs": [
    {
     "data": {
      "text/html": [
       "<div>\n",
       "<table border=\"1\" class=\"dataframe\">\n",
       "  <thead>\n",
       "    <tr style=\"text-align: right;\">\n",
       "      <th></th>\n",
       "      <th>Open</th>\n",
       "      <th>High</th>\n",
       "      <th>Low</th>\n",
       "      <th>Close</th>\n",
       "      <th>Volume</th>\n",
       "    </tr>\n",
       "    <tr>\n",
       "      <th>Date</th>\n",
       "      <th></th>\n",
       "      <th></th>\n",
       "      <th></th>\n",
       "      <th></th>\n",
       "      <th></th>\n",
       "    </tr>\n",
       "  </thead>\n",
       "  <tbody>\n",
       "    <tr>\n",
       "      <th>2016-06-23</th>\n",
       "      <td>95.94</td>\n",
       "      <td>96.29</td>\n",
       "      <td>95.25</td>\n",
       "      <td>96.10</td>\n",
       "      <td>32240187</td>\n",
       "    </tr>\n",
       "    <tr>\n",
       "      <th>2016-06-24</th>\n",
       "      <td>92.91</td>\n",
       "      <td>94.66</td>\n",
       "      <td>92.65</td>\n",
       "      <td>93.40</td>\n",
       "      <td>75311356</td>\n",
       "    </tr>\n",
       "    <tr>\n",
       "      <th>2016-06-27</th>\n",
       "      <td>93.00</td>\n",
       "      <td>93.05</td>\n",
       "      <td>91.50</td>\n",
       "      <td>92.04</td>\n",
       "      <td>46622188</td>\n",
       "    </tr>\n",
       "    <tr>\n",
       "      <th>2016-06-28</th>\n",
       "      <td>92.90</td>\n",
       "      <td>93.66</td>\n",
       "      <td>92.14</td>\n",
       "      <td>93.59</td>\n",
       "      <td>40444914</td>\n",
       "    </tr>\n",
       "    <tr>\n",
       "      <th>2016-06-29</th>\n",
       "      <td>93.97</td>\n",
       "      <td>94.55</td>\n",
       "      <td>93.63</td>\n",
       "      <td>94.40</td>\n",
       "      <td>36427827</td>\n",
       "    </tr>\n",
       "  </tbody>\n",
       "</table>\n",
       "</div>"
      ],
      "text/plain": [
       "             Open   High    Low  Close    Volume\n",
       "Date                                            \n",
       "2016-06-23  95.94  96.29  95.25  96.10  32240187\n",
       "2016-06-24  92.91  94.66  92.65  93.40  75311356\n",
       "2016-06-27  93.00  93.05  91.50  92.04  46622188\n",
       "2016-06-28  92.90  93.66  92.14  93.59  40444914\n",
       "2016-06-29  93.97  94.55  93.63  94.40  36427827"
      ]
     },
     "execution_count": 16,
     "metadata": {},
     "output_type": "execute_result"
    }
   ],
   "source": [
    "aapl = web.DataReader(\"AAPL\", 'google', start, end, session=session)\n",
    "aapl.tail()"
   ]
  },
  {
   "cell_type": "markdown",
   "metadata": {},
   "source": [
    "### St Louis FRED"
   ]
  },
  {
   "cell_type": "markdown",
   "metadata": {},
   "source": [
    "#### Get 30 yr mortgage rates"
   ]
  },
  {
   "cell_type": "code",
   "execution_count": 13,
   "metadata": {
    "collapsed": false
   },
   "outputs": [
    {
     "data": {
      "text/plain": [
       "<matplotlib.axes._subplots.AxesSubplot at 0x117b67e50>"
      ]
     },
     "execution_count": 13,
     "metadata": {},
     "output_type": "execute_result"
    }
   ],
   "source": [
    "import pandas_datareader.fred as fred\n",
    "mortgage_rate= fred.FredReader(\"MORTGAGE30US\", start, end, session=session).read()\n",
    "mortgage_rate.columns=[\"30 Yr Mortgae Rates\"]\n",
    "mortgage_rate\n",
    "mortgage_rate.plot()"
   ]
  },
  {
   "cell_type": "markdown",
   "metadata": {},
   "source": [
    "#### Get GDP numbers"
   ]
  },
  {
   "cell_type": "code",
   "execution_count": 18,
   "metadata": {
    "collapsed": false
   },
   "outputs": [
    {
     "data": {
      "text/html": [
       "<div>\n",
       "<table border=\"1\" class=\"dataframe\">\n",
       "  <thead>\n",
       "    <tr style=\"text-align: right;\">\n",
       "      <th></th>\n",
       "      <th>GDP</th>\n",
       "    </tr>\n",
       "    <tr>\n",
       "      <th>DATE</th>\n",
       "      <th></th>\n",
       "    </tr>\n",
       "  </thead>\n",
       "  <tbody>\n",
       "    <tr>\n",
       "      <th>2015-01-01</th>\n",
       "      <td>17649.3</td>\n",
       "    </tr>\n",
       "    <tr>\n",
       "      <th>2015-04-01</th>\n",
       "      <td>17913.7</td>\n",
       "    </tr>\n",
       "    <tr>\n",
       "      <th>2015-07-01</th>\n",
       "      <td>18060.2</td>\n",
       "    </tr>\n",
       "    <tr>\n",
       "      <th>2015-10-01</th>\n",
       "      <td>18164.8</td>\n",
       "    </tr>\n",
       "    <tr>\n",
       "      <th>2016-01-01</th>\n",
       "      <td>18230.1</td>\n",
       "    </tr>\n",
       "  </tbody>\n",
       "</table>\n",
       "</div>"
      ],
      "text/plain": [
       "                GDP\n",
       "DATE               \n",
       "2015-01-01  17649.3\n",
       "2015-04-01  17913.7\n",
       "2015-07-01  18060.2\n",
       "2015-10-01  18164.8\n",
       "2016-01-01  18230.1"
      ]
     },
     "execution_count": 18,
     "metadata": {},
     "output_type": "execute_result"
    }
   ],
   "source": [
    "gdp = fred.FredReader(\"GDP\", start, end, session=session).read()\n",
    "gdp.tail()"
   ]
  },
  {
   "cell_type": "markdown",
   "metadata": {},
   "source": [
    "#### Get Inflation numbers via alertnate approach"
   ]
  },
  {
   "cell_type": "code",
   "execution_count": 19,
   "metadata": {
    "collapsed": false
   },
   "outputs": [],
   "source": [
    "gdp = web.DataReader(\"GDP\", \"fred\", start, end, session=session)\n",
    "inflation = web.DataReader([\"CPIAUCSL\", \"CPILFESL\"], \"fred\", start, end, session=session)"
   ]
  },
  {
   "cell_type": "code",
   "execution_count": 20,
   "metadata": {
    "collapsed": false
   },
   "outputs": [
    {
     "data": {
      "text/html": [
       "<div>\n",
       "<table border=\"1\" class=\"dataframe\">\n",
       "  <thead>\n",
       "    <tr style=\"text-align: right;\">\n",
       "      <th></th>\n",
       "      <th>CPIAUCSL</th>\n",
       "      <th>CPILFESL</th>\n",
       "    </tr>\n",
       "    <tr>\n",
       "      <th>DATE</th>\n",
       "      <th></th>\n",
       "      <th></th>\n",
       "    </tr>\n",
       "  </thead>\n",
       "  <tbody>\n",
       "    <tr>\n",
       "      <th>2016-01-01</th>\n",
       "      <td>238.107</td>\n",
       "      <td>245.232</td>\n",
       "    </tr>\n",
       "    <tr>\n",
       "      <th>2016-02-01</th>\n",
       "      <td>237.707</td>\n",
       "      <td>245.925</td>\n",
       "    </tr>\n",
       "    <tr>\n",
       "      <th>2016-03-01</th>\n",
       "      <td>237.920</td>\n",
       "      <td>246.095</td>\n",
       "    </tr>\n",
       "    <tr>\n",
       "      <th>2016-04-01</th>\n",
       "      <td>238.890</td>\n",
       "      <td>246.574</td>\n",
       "    </tr>\n",
       "    <tr>\n",
       "      <th>2016-05-01</th>\n",
       "      <td>239.410</td>\n",
       "      <td>247.074</td>\n",
       "    </tr>\n",
       "  </tbody>\n",
       "</table>\n",
       "</div>"
      ],
      "text/plain": [
       "            CPIAUCSL  CPILFESL\n",
       "DATE                          \n",
       "2016-01-01   238.107   245.232\n",
       "2016-02-01   237.707   245.925\n",
       "2016-03-01   237.920   246.095\n",
       "2016-04-01   238.890   246.574\n",
       "2016-05-01   239.410   247.074"
      ]
     },
     "execution_count": 20,
     "metadata": {},
     "output_type": "execute_result"
    }
   ],
   "source": [
    "inflation.tail()"
   ]
  },
  {
   "cell_type": "code",
   "execution_count": 21,
   "metadata": {
    "collapsed": false
   },
   "outputs": [
    {
     "data": {
      "text/html": [
       "<div>\n",
       "<table border=\"1\" class=\"dataframe\">\n",
       "  <thead>\n",
       "    <tr style=\"text-align: right;\">\n",
       "      <th></th>\n",
       "      <th>GDP</th>\n",
       "    </tr>\n",
       "    <tr>\n",
       "      <th>DATE</th>\n",
       "      <th></th>\n",
       "    </tr>\n",
       "  </thead>\n",
       "  <tbody>\n",
       "    <tr>\n",
       "      <th>2015-01-01</th>\n",
       "      <td>17649.3</td>\n",
       "    </tr>\n",
       "    <tr>\n",
       "      <th>2015-04-01</th>\n",
       "      <td>17913.7</td>\n",
       "    </tr>\n",
       "    <tr>\n",
       "      <th>2015-07-01</th>\n",
       "      <td>18060.2</td>\n",
       "    </tr>\n",
       "    <tr>\n",
       "      <th>2015-10-01</th>\n",
       "      <td>18164.8</td>\n",
       "    </tr>\n",
       "    <tr>\n",
       "      <th>2016-01-01</th>\n",
       "      <td>18230.1</td>\n",
       "    </tr>\n",
       "  </tbody>\n",
       "</table>\n",
       "</div>"
      ],
      "text/plain": [
       "                GDP\n",
       "DATE               \n",
       "2015-01-01  17649.3\n",
       "2015-04-01  17913.7\n",
       "2015-07-01  18060.2\n",
       "2015-10-01  18164.8\n",
       "2016-01-01  18230.1"
      ]
     },
     "execution_count": 21,
     "metadata": {},
     "output_type": "execute_result"
    }
   ],
   "source": [
    "gdp.tail()"
   ]
  },
  {
   "cell_type": "code",
   "execution_count": null,
   "metadata": {
    "collapsed": true
   },
   "outputs": [],
   "source": []
  },
  {
   "cell_type": "markdown",
   "metadata": {},
   "source": [
    "### Fama/French"
   ]
  },
  {
   "cell_type": "markdown",
   "metadata": {},
   "source": [
    "#### Get Available Datasets"
   ]
  },
  {
   "cell_type": "code",
   "execution_count": 22,
   "metadata": {
    "collapsed": false
   },
   "outputs": [
    {
     "name": "stdout",
     "output_type": "stream",
     "text": [
      "Total Datasets:196\n"
     ]
    },
    {
     "data": {
      "text/plain": [
       "['F-F_Research_Data_Factors',\n",
       " 'F-F_Research_Data_Factors_weekly',\n",
       " 'F-F_Research_Data_Factors_daily',\n",
       " 'F-F_Research_Data_5_Factors_2x3',\n",
       " 'F-F_Research_Data_5_Factors_2x3_daily']"
      ]
     },
     "execution_count": 22,
     "metadata": {},
     "output_type": "execute_result"
    }
   ],
   "source": [
    "import pandas_datareader.famafrench as famafrench\n",
    "datasets = famafrench.get_available_datasets()\n",
    "print(\"Total Datasets:{}\".format(len(datasets)))\n",
    "datasets[:5]"
   ]
  },
  {
   "cell_type": "markdown",
   "metadata": {},
   "source": [
    "#### Get Industry Portfolios"
   ]
  },
  {
   "cell_type": "code",
   "execution_count": 23,
   "metadata": {
    "collapsed": true
   },
   "outputs": [],
   "source": [
    "ind_folios = web.DataReader(\"5_Industry_Portfolios\", \"famafrench\", session=session)"
   ]
  },
  {
   "cell_type": "code",
   "execution_count": 24,
   "metadata": {
    "collapsed": false
   },
   "outputs": [
    {
     "name": "stdout",
     "output_type": "stream",
     "text": [
      "5 Industry Portfolios\n",
      "---------------------\n",
      "\n",
      "This file was created by CMPT_IND_RETS using the 201512 CRSP database. It contains value- and equal-weighted returns for 5 industry portfolios. The portfolios are constructed at the end of June. The annual returns are from January to December. Missing data are indicated by -99.99 or -999. Copyright 2015 Kenneth R. French\n",
      "\n",
      "  0 : Average Value Weighted Returns -- Monthly (72 rows x 5 cols)\n",
      "  1 : Average Equal Weighted Returns -- Monthly (72 rows x 5 cols)\n",
      "  2 : Average Value Weighted Returns -- Annual (6 rows x 5 cols)\n",
      "  3 : Average Equal Weighted Returns -- Annual (6 rows x 5 cols)\n",
      "  4 : Number of Firms in Portfolios (72 rows x 5 cols)\n",
      "  5 : Average Firm Size (72 rows x 5 cols)\n",
      "  6 : Sum of BE / Sum of ME (6 rows x 5 cols)\n",
      "  7 : Value-Weighted Average of BE/ME (6 rows x 5 cols)\n"
     ]
    }
   ],
   "source": [
    "#ind_folios.keys()\n",
    "print(ind_folios.get(\"DESCR\"))"
   ]
  },
  {
   "cell_type": "markdown",
   "metadata": {},
   "source": [
    "### World Bank"
   ]
  },
  {
   "cell_type": "code",
   "execution_count": 25,
   "metadata": {
    "collapsed": true
   },
   "outputs": [],
   "source": [
    "import pandas_datareader.wb as wb"
   ]
  },
  {
   "cell_type": "code",
   "execution_count": 26,
   "metadata": {
    "collapsed": false
   },
   "outputs": [
    {
     "data": {
      "text/html": [
       "<div>\n",
       "<table border=\"1\" class=\"dataframe\">\n",
       "  <thead>\n",
       "    <tr style=\"text-align: right;\">\n",
       "      <th></th>\n",
       "      <th>id</th>\n",
       "      <th>name</th>\n",
       "      <th>source</th>\n",
       "      <th>sourceNote</th>\n",
       "      <th>sourceOrganization</th>\n",
       "      <th>topics</th>\n",
       "    </tr>\n",
       "  </thead>\n",
       "  <tbody>\n",
       "    <tr>\n",
       "      <th>0</th>\n",
       "      <td>1.0.HCount.1.90usd</td>\n",
       "      <td>Poverty Headcount ($1.90 a day)</td>\n",
       "      <td>LAC Equity Lab</td>\n",
       "      <td>The poverty headcount index measures the propo...</td>\n",
       "      <td>LAC Equity Lab tabulations of SEDLAC (CEDLAS a...</td>\n",
       "      <td>Poverty</td>\n",
       "    </tr>\n",
       "    <tr>\n",
       "      <th>1</th>\n",
       "      <td>1.0.HCount.2.5usd</td>\n",
       "      <td>Poverty Headcount ($2.50 a day)</td>\n",
       "      <td>LAC Equity Lab</td>\n",
       "      <td>The poverty headcount index measures the propo...</td>\n",
       "      <td>LAC Equity Lab tabulations of SEDLAC (CEDLAS a...</td>\n",
       "      <td>Poverty</td>\n",
       "    </tr>\n",
       "    <tr>\n",
       "      <th>2</th>\n",
       "      <td>1.0.HCount.Mid10to50</td>\n",
       "      <td>Middle Class ($10-50 a day) Headcount</td>\n",
       "      <td>LAC Equity Lab</td>\n",
       "      <td>The poverty headcount index measures the propo...</td>\n",
       "      <td>LAC Equity Lab tabulations of SEDLAC (CEDLAS a...</td>\n",
       "      <td>Poverty</td>\n",
       "    </tr>\n",
       "    <tr>\n",
       "      <th>3</th>\n",
       "      <td>1.0.HCount.Ofcl</td>\n",
       "      <td>Official Moderate Poverty Rate-National</td>\n",
       "      <td>LAC Equity Lab</td>\n",
       "      <td>The poverty headcount index measures the propo...</td>\n",
       "      <td>LAC Equity Lab tabulations of data from Nation...</td>\n",
       "      <td>Poverty</td>\n",
       "    </tr>\n",
       "    <tr>\n",
       "      <th>4</th>\n",
       "      <td>1.0.HCount.Poor4uds</td>\n",
       "      <td>Poverty Headcount ($4 a day)</td>\n",
       "      <td>LAC Equity Lab</td>\n",
       "      <td>The poverty headcount index measures the propo...</td>\n",
       "      <td>LAC Equity Lab tabulations of SEDLAC (CEDLAS a...</td>\n",
       "      <td>Poverty</td>\n",
       "    </tr>\n",
       "  </tbody>\n",
       "</table>\n",
       "</div>"
      ],
      "text/plain": [
       "                     id                                     name  \\\n",
       "0    1.0.HCount.1.90usd          Poverty Headcount ($1.90 a day)   \n",
       "1     1.0.HCount.2.5usd          Poverty Headcount ($2.50 a day)   \n",
       "2  1.0.HCount.Mid10to50    Middle Class ($10-50 a day) Headcount   \n",
       "3       1.0.HCount.Ofcl  Official Moderate Poverty Rate-National   \n",
       "4   1.0.HCount.Poor4uds             Poverty Headcount ($4 a day)   \n",
       "\n",
       "           source                                         sourceNote  \\\n",
       "0  LAC Equity Lab  The poverty headcount index measures the propo...   \n",
       "1  LAC Equity Lab  The poverty headcount index measures the propo...   \n",
       "2  LAC Equity Lab  The poverty headcount index measures the propo...   \n",
       "3  LAC Equity Lab  The poverty headcount index measures the propo...   \n",
       "4  LAC Equity Lab  The poverty headcount index measures the propo...   \n",
       "\n",
       "                                  sourceOrganization    topics  \n",
       "0  LAC Equity Lab tabulations of SEDLAC (CEDLAS a...  Poverty   \n",
       "1  LAC Equity Lab tabulations of SEDLAC (CEDLAS a...  Poverty   \n",
       "2  LAC Equity Lab tabulations of SEDLAC (CEDLAS a...  Poverty   \n",
       "3  LAC Equity Lab tabulations of data from Nation...  Poverty   \n",
       "4  LAC Equity Lab tabulations of SEDLAC (CEDLAS a...  Poverty   "
      ]
     },
     "execution_count": 26,
     "metadata": {},
     "output_type": "execute_result"
    }
   ],
   "source": [
    "wb.get_indicators(session=session).head()"
   ]
  },
  {
   "cell_type": "code",
   "execution_count": 27,
   "metadata": {
    "collapsed": false
   },
   "outputs": [
    {
     "data": {
      "text/plain": [
       "array([u'Poverty ', '', u'Education ', u'Social Protection & Labor',\n",
       "       u'Economy & Growth', u'Agriculture & Rural Development  ',\n",
       "       u'Agriculture & Rural Development   ; Climate Change',\n",
       "       u'Agriculture & Rural Development   ; Climate Change ; Environment ',\n",
       "       u'Climate Change ; Urban Development  ; Environment ',\n",
       "       u'Climate Change ; Environment ',\n",
       "       u'Agriculture & Rural Development   ; Environment ',\n",
       "       u'Urban Development  ; Environment ',\n",
       "       u'Economy & Growth ; Private Sector ; Trade',\n",
       "       u'Economy & Growth ; Trade',\n",
       "       u'Economy & Growth ; Science & Technology ',\n",
       "       u'Economy & Growth ; External Debt ; Trade',\n",
       "       u'Economy & Growth ; Financial Sector ',\n",
       "       u'Economy & Growth ; External Debt',\n",
       "       u'Economy & Growth ; External Debt ; Aid Effectiveness ',\n",
       "       u'Economy & Growth ; Infrastructure  ; Trade',\n",
       "       u'Economy & Growth ; Financial Sector  ; External Debt',\n",
       "       u'Economy & Growth ; Financial Sector  ; Climate Change',\n",
       "       u'Financial Sector ', u'Aid Effectiveness ',\n",
       "       u'Millenium development goals', u'External Debt',\n",
       "       u'Aid Effectiveness  ; External Debt',\n",
       "       u'Financial Sector  ; External Debt',\n",
       "       u'Aid Effectiveness  ; Economy & Growth ; External Debt',\n",
       "       u'Environment ', u'Energy & Mining  ; Environment ',\n",
       "       u'Agriculture & Rural Development   ; Energy & Mining ',\n",
       "       u'Energy & Mining  ; Urban Development ',\n",
       "       u'Energy & Mining  ; Climate Change ; Environment ',\n",
       "       u'Energy & Mining  ; Climate Change ; Infrastructure ',\n",
       "       u'Energy & Mining  ; Infrastructure ', u'Energy & Mining ',\n",
       "       u'Energy & Mining  ; Trade', u'Energy & Mining  ; Climate Change',\n",
       "       u'Urban Development ',\n",
       "       u'Poverty  ; Urban Development  ; Environment ',\n",
       "       u'Climate Change ; Urban Development ',\n",
       "       u'Agriculture & Rural Development   ; Infrastructure  ; Environment ',\n",
       "       u'Infrastructure  ; Environment ',\n",
       "       u'Climate Change ; Infrastructure  ; Environment ',\n",
       "       u'Financial Sector  ; Private Sector', u'Public Sector ',\n",
       "       u'Science & Technology ', u'Economy & Growth ; Public Sector ',\n",
       "       u'Public Sector  ; Trade', u'Private Sector',\n",
       "       u'Climate Change ; Private Sector',\n",
       "       u'Financial Sector  ; Private Sector ; Public Sector ',\n",
       "       u'Private Sector ; Trade', u'Energy & Mining  ; Private Sector',\n",
       "       u'Private Sector ; Gender', u'Private Sector ; Public Sector ',\n",
       "       u'Infrastructure ',\n",
       "       u'Energy & Mining  ; Infrastructure  ; Private Sector',\n",
       "       u'Infrastructure  ; Private Sector',\n",
       "       u'Climate Change ; Public Sector ', u'Trade ; Private Sector',\n",
       "       u'Agriculture & Rural Development   ; Economy & Growth',\n",
       "       u'Agriculture & Rural Development   ; Economy & Growth ; Climate Change',\n",
       "       u'Economy & Growth ; Environment ',\n",
       "       u'Economy & Growth ; Energy & Mining  ; Environment ',\n",
       "       u'Economy & Growth ; Energy & Mining ', u'Education  ; Gender',\n",
       "       u'Education  ; Gender ; Social Development ',\n",
       "       u'Gender ; Education ',\n",
       "       u'Aid Effectiveness  ; Climate Change ; Education  ; Gender ; Social Development ',\n",
       "       u'Gender', u'Aid Effectiveness  ; Climate Change ; Education ',\n",
       "       u'Public Sector  ; Gender',\n",
       "       u'Public Sector  ; Gender ; Social Development ',\n",
       "       u'Health  ; Gender', u'Health ', u'Health  ; Aid Effectiveness ',\n",
       "       u'Gender ; Health ',\n",
       "       u'Health  ; Aid Effectiveness  ; Climate Change',\n",
       "       u'Agriculture & Rural Development   ; Climate Change ; Infrastructure  ; Health ',\n",
       "       u'Climate Change ; Infrastructure  ; Health  ; Urban Development ',\n",
       "       u'Climate Change ; Infrastructure  ; Health ',\n",
       "       u'Health  ; Gender ; Social Development ',\n",
       "       u'Health  ; Climate Change',\n",
       "       u'Agriculture & Rural Development   ; Health ',\n",
       "       u'Health  ; Urban Development ',\n",
       "       u'Health  ; Gender ; Aid Effectiveness ',\n",
       "       u'Poverty  ; Aid Effectiveness ',\n",
       "       u'Poverty  ; Aid Effectiveness  ; Climate Change',\n",
       "       u'Agriculture & Rural Development   ; Poverty ',\n",
       "       u'Poverty  ; Urban Development ', u'Financial Sector  ; Poverty ',\n",
       "       u'Social Protection & Labor ; Gender',\n",
       "       u'Agriculture & Rural Development   ; Social Protection & Labor ; Gender',\n",
       "       u'Agriculture & Rural Development   ; Social Protection & Labor',\n",
       "       u'Social Protection & Labor ; Gender ; Social Development ',\n",
       "       u'Social Protection & Labor ; Aid Effectiveness ',\n",
       "       u'Social Protection & Labor ; Social Development ',\n",
       "       u'Education  ; Social Protection & Labor ; Gender',\n",
       "       u'Education  ; Social Protection & Labor',\n",
       "       u'Education  ; Social Protection & Labor ; Gender ; Social Development ',\n",
       "       u'Education  ; Financial Sector  ; Health ',\n",
       "       u'Financial Sector  ; Health  ; Aid Effectiveness ',\n",
       "       u'Health  ; Social Development ', u'Financial Sector  ; Health ',\n",
       "       u'Education  ; Health ', u'Climate Change ; Health ',\n",
       "       u'Agriculture & Rural Development   ; Private Sector ; Trade',\n",
       "       u'Energy & Mining  ; Private Sector ; Trade',\n",
       "       u'Infrastructure  ; Private Sector ; Trade',\n",
       "       u'Private Sector ; Science & Technology  ; Trade',\n",
       "       u'Financial Sector  ; Gender'], dtype=object)"
      ]
     },
     "execution_count": 27,
     "metadata": {},
     "output_type": "execute_result"
    }
   ],
   "source": [
    "# Get list of all indicators maintained by World Bank\n",
    "wb.get_indicators(session=session).topics.unique()"
   ]
  },
  {
   "cell_type": "code",
   "execution_count": 28,
   "metadata": {
    "collapsed": false
   },
   "outputs": [
    {
     "data": {
      "text/html": [
       "<div>\n",
       "<table border=\"1\" class=\"dataframe\">\n",
       "  <thead>\n",
       "    <tr style=\"text-align: right;\">\n",
       "      <th></th>\n",
       "      <th>id</th>\n",
       "      <th>name</th>\n",
       "    </tr>\n",
       "  </thead>\n",
       "  <tbody>\n",
       "    <tr>\n",
       "      <th>685</th>\n",
       "      <td>6.0.GDPpc_constant</td>\n",
       "      <td>GDP per capita, PPP (constant 2011 internation...</td>\n",
       "    </tr>\n",
       "    <tr>\n",
       "      <th>7452</th>\n",
       "      <td>NY.GDP.PCAP.KD</td>\n",
       "      <td>GDP per capita (constant 2005 US$)</td>\n",
       "    </tr>\n",
       "    <tr>\n",
       "      <th>7454</th>\n",
       "      <td>NY.GDP.PCAP.KN</td>\n",
       "      <td>GDP per capita (constant LCU)</td>\n",
       "    </tr>\n",
       "    <tr>\n",
       "      <th>7456</th>\n",
       "      <td>NY.GDP.PCAP.PP.KD</td>\n",
       "      <td>GDP per capita, PPP (constant 2011 internation...</td>\n",
       "    </tr>\n",
       "  </tbody>\n",
       "</table>\n",
       "</div>"
      ],
      "text/plain": [
       "                      id                                               name\n",
       "685   6.0.GDPpc_constant  GDP per capita, PPP (constant 2011 internation...\n",
       "7452      NY.GDP.PCAP.KD                 GDP per capita (constant 2005 US$)\n",
       "7454      NY.GDP.PCAP.KN                      GDP per capita (constant LCU)\n",
       "7456   NY.GDP.PCAP.PP.KD  GDP per capita, PPP (constant 2011 internation..."
      ]
     },
     "execution_count": 28,
     "metadata": {},
     "output_type": "execute_result"
    }
   ],
   "source": [
    "# Find datasets by patterns\n",
    "wb.search('gdp.*capita.*const').iloc[:,:2]"
   ]
  },
  {
   "cell_type": "code",
   "execution_count": 29,
   "metadata": {
    "collapsed": false
   },
   "outputs": [
    {
     "data": {
      "text/html": [
       "<div>\n",
       "<table border=\"1\" class=\"dataframe\">\n",
       "  <thead>\n",
       "    <tr style=\"text-align: right;\">\n",
       "      <th></th>\n",
       "      <th></th>\n",
       "      <th>NY.GDP.PCAP.KD</th>\n",
       "    </tr>\n",
       "    <tr>\n",
       "      <th>country</th>\n",
       "      <th>year</th>\n",
       "      <th></th>\n",
       "    </tr>\n",
       "  </thead>\n",
       "  <tbody>\n",
       "    <tr>\n",
       "      <th rowspan=\"4\" valign=\"top\">Canada</th>\n",
       "      <th>2008</th>\n",
       "      <td>37086.898159</td>\n",
       "    </tr>\n",
       "    <tr>\n",
       "      <th>2007</th>\n",
       "      <td>37054.878287</td>\n",
       "    </tr>\n",
       "    <tr>\n",
       "      <th>2006</th>\n",
       "      <td>36679.368924</td>\n",
       "    </tr>\n",
       "    <tr>\n",
       "      <th>2005</th>\n",
       "      <td>36028.232490</td>\n",
       "    </tr>\n",
       "    <tr>\n",
       "      <th>Mexico</th>\n",
       "      <th>2008</th>\n",
       "      <td>8275.465345</td>\n",
       "    </tr>\n",
       "  </tbody>\n",
       "</table>\n",
       "</div>"
      ],
      "text/plain": [
       "              NY.GDP.PCAP.KD\n",
       "country year                \n",
       "Canada  2008    37086.898159\n",
       "        2007    37054.878287\n",
       "        2006    36679.368924\n",
       "        2005    36028.232490\n",
       "Mexico  2008     8275.465345"
      ]
     },
     "execution_count": 29,
     "metadata": {},
     "output_type": "execute_result"
    }
   ],
   "source": [
    "# Get GDP of US, Canada & Mexico\n",
    "dat = wb.download(indicator='NY.GDP.PCAP.KD', country=['US', 'CA', 'MX'], start=2005, end=2008, session=session)\n",
    "dat.head()"
   ]
  },
  {
   "cell_type": "code",
   "execution_count": 30,
   "metadata": {
    "collapsed": false
   },
   "outputs": [
    {
     "data": {
      "text/html": [
       "<div>\n",
       "<table border=\"1\" class=\"dataframe\">\n",
       "  <thead>\n",
       "    <tr style=\"text-align: right;\">\n",
       "      <th></th>\n",
       "      <th>NY.GDP.PCAP.KD</th>\n",
       "    </tr>\n",
       "    <tr>\n",
       "      <th>country</th>\n",
       "      <th></th>\n",
       "    </tr>\n",
       "  </thead>\n",
       "  <tbody>\n",
       "    <tr>\n",
       "      <th>Canada</th>\n",
       "      <td>36712.344465</td>\n",
       "    </tr>\n",
       "    <tr>\n",
       "      <th>Mexico</th>\n",
       "      <td>8156.805312</td>\n",
       "    </tr>\n",
       "    <tr>\n",
       "      <th>United States</th>\n",
       "      <td>44910.605024</td>\n",
       "    </tr>\n",
       "  </tbody>\n",
       "</table>\n",
       "</div>"
      ],
      "text/plain": [
       "               NY.GDP.PCAP.KD\n",
       "country                      \n",
       "Canada           36712.344465\n",
       "Mexico            8156.805312\n",
       "United States    44910.605024"
      ]
     },
     "execution_count": 30,
     "metadata": {},
     "output_type": "execute_result"
    }
   ],
   "source": [
    "# Group GDP of the countries\n",
    "dat.groupby(level=0).mean()"
   ]
  },
  {
   "cell_type": "markdown",
   "metadata": {},
   "source": [
    "### Quandl"
   ]
  },
  {
   "cell_type": "code",
   "execution_count": 31,
   "metadata": {
    "collapsed": false
   },
   "outputs": [],
   "source": [
    "import quandl\n",
    "gdpq = quandl.get(\"FRED/GDP\", start_date = start, end_date=end, session=session)\n",
    "aaplq = quandl.get(\"WIKI/AAPL\", start_date = start, end_date=end, session=session)"
   ]
  },
  {
   "cell_type": "code",
   "execution_count": 32,
   "metadata": {
    "collapsed": false
   },
   "outputs": [
    {
     "name": "stdout",
     "output_type": "stream",
     "text": [
      "GDP(FRED):\n",
      "DatetimeIndex(['2013-07-01', '2013-10-01', '2014-01-01', '2014-04-01',\n",
      "               '2014-07-01', '2014-10-01', '2015-01-01', '2015-04-01',\n",
      "               '2015-07-01', '2015-10-01', '2016-01-01'],\n",
      "              dtype='datetime64[ns]', name=u'DATE', freq=None), \n",
      " GDP(Quandl):\n",
      "DatetimeIndex(['2013-07-01', '2013-10-01', '2014-01-01', '2014-04-01',\n",
      "               '2014-07-01', '2014-10-01', '2015-01-01', '2015-04-01',\n",
      "               '2015-07-01', '2015-10-01', '2016-01-01'],\n",
      "              dtype='datetime64[ns]', name=u'DATE', freq=None)\n",
      "Same data: True\n"
     ]
    }
   ],
   "source": [
    "# See if gdp data from FRED is same as gdp data from Quandl\n",
    "print(\"GDP(FRED):\\n{}, \\n GDP(Quandl):\\n{}\".format(gdp.index, gdpq.index))\n",
    "is_same = (gdpq.iloc[:,0] == gdp.iloc[:,0]).all()\n",
    "print(\"Same data: {}\".format(is_same))"
   ]
  },
  {
   "cell_type": "code",
   "execution_count": 33,
   "metadata": {
    "collapsed": false
   },
   "outputs": [
    {
     "name": "stdout",
     "output_type": "stream",
     "text": [
      "('AAPL(Quandl):', Index([u'Open', u'High', u'Low', u'Close', u'Volume', u'Ex-Dividend',\n",
      "       u'Split Ratio', u'Adj. Open', u'Adj. High', u'Adj. Low', u'Adj. Close',\n",
      "       u'Adj. Volume'],\n",
      "      dtype='object'))\n",
      "('AAPL(Yahoo):', Index([u'Open', u'High', u'Low', u'Close', u'Volume'], dtype='object'))\n"
     ]
    }
   ],
   "source": [
    "print(\"AAPL(Quandl):\",aaplq.columns)\n",
    "print(\"AAPL(Yahoo):\", aapl.columns)"
   ]
  },
  {
   "cell_type": "code",
   "execution_count": 34,
   "metadata": {
    "collapsed": false
   },
   "outputs": [
    {
     "name": "stdout",
     "output_type": "stream",
     "text": [
      "             Open    High    Low  Close\n",
      "Date                                   \n",
      "2016-06-23  95.94  96.290  95.25  96.10\n",
      "2016-06-24  92.91  94.655  92.65  93.40\n",
      "2016-06-27  93.00  93.050  91.50  92.08\n",
      "2016-06-28  92.90  93.660  92.14  93.59\n",
      "2016-06-29  93.97  94.550  93.63  94.40\n",
      "             Open   High    Low  Close\n",
      "Date                                  \n",
      "2016-06-23  95.94  96.29  95.25  96.10\n",
      "2016-06-24  92.91  94.66  92.65  93.40\n",
      "2016-06-27  93.00  93.05  91.50  92.04\n",
      "2016-06-28  92.90  93.66  92.14  93.59\n",
      "2016-06-29  93.97  94.55  93.63  94.40\n",
      "Same data: Open     True\n",
      "High     True\n",
      "Low      True\n",
      "Close    True\n",
      "dtype: bool\n"
     ]
    }
   ],
   "source": [
    "# See if aapl data from YAHOO is same as aapl data from Quandl\n",
    "df1 = aaplq.iloc[:,0:4].tail() # pick last four columns.\n",
    "df2 = aapl.iloc[:,0:4].tail()\n",
    "\n",
    "df1.name = \"Quandl\"\n",
    "df2.name = \"Yahoo\"\n",
    "print(df1)\n",
    "print(df2)\n",
    "\n",
    "is_same = (aaplq.iloc[:,0:4] == aapl.iloc[:,0:4]).any()\n",
    "print(\"Same data: {}\".format(is_same))"
   ]
  },
  {
   "cell_type": "code",
   "execution_count": 35,
   "metadata": {
    "collapsed": false
   },
   "outputs": [],
   "source": [
    "?web.DataReader"
   ]
  },
  {
   "cell_type": "code",
   "execution_count": null,
   "metadata": {
    "collapsed": true
   },
   "outputs": [],
   "source": []
  }
 ],
 "metadata": {
  "anaconda-cloud": {},
  "kernelspec": {
   "display_name": "Python [Root]",
   "language": "python",
   "name": "Python [Root]"
  },
  "language_info": {
   "codemirror_mode": {
    "name": "ipython",
    "version": 2
   },
   "file_extension": ".py",
   "mimetype": "text/x-python",
   "name": "python",
   "nbconvert_exporter": "python",
   "pygments_lexer": "ipython2",
   "version": "2.7.12"
  }
 },
 "nbformat": 4,
 "nbformat_minor": 0
}
