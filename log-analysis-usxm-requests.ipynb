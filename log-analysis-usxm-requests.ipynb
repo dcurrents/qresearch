{
 "cells": [
  {
   "cell_type": "markdown",
   "metadata": {},
   "source": [
    "# Log Analytics - USX Manager (REST Calls Log)\n",
    "\n",
    "This notebook provides a quick summary analytics on the REST api calls made to an USX Management Server. \n",
    "\n",
    "The input to this notebook could be either usx-manager-requests.log / usxm-agent-requests.log "
   ]
  },
  {
   "cell_type": "code",
   "execution_count": 2,
   "metadata": {
    "collapsed": false
   },
   "outputs": [
    {
     "data": {
      "text/html": [
       "<style>body {\n",
       "    margin: 0;\n",
       "    font-family:Times New Roman, Sans, Serif;\n",
       "\tfont-size:medium;\n",
       "}\n",
       "table.dataframe {\n",
       "    border-collapse: collapse;\n",
       "    border: none;\n",
       "}\n",
       "table.dataframe tr {\n",
       "    border: none;\n",
       "}\n",
       "table.dataframe td, table.dataframe th {\n",
       "    margin: 0;\n",
       "    border: 1px solid white;\n",
       "    padding-left: 0.25em;\n",
       "    padding-right: 0.25em;\n",
       "    font-family: Serif;\n",
       "}\n",
       "table.dataframe th:not(:empty) {\n",
       "    background-color: #fec;\n",
       "    text-align: center;\n",
       "    font-weight: bold;\n",
       "    padding-left: 0.25em;\n",
       "    padding-right: 0.25em;\n",
       "    font-family: Serif;\n",
       "}\n",
       "table.dataframe tr:nth-child(2) th:empty {\n",
       "    border-left: none;\n",
       "    border-right: 1px dashed #888;\n",
       "}\n",
       "table.dataframe td {\n",
       "    border: 2px solid #ccf;\n",
       "    background-color: #f4f4ff;\n",
       "}h3 {\n",
       "    color: white;\n",
       "    background-color: darkslategray;\n",
       "    padding: 0.5em;\n",
       "    font-family: Times New Roman, Sans;\n",
       "}\n",
       "</style>"
      ],
      "text/plain": [
       "<IPython.core.display.HTML object>"
      ]
     },
     "execution_count": 2,
     "metadata": {},
     "output_type": "execute_result"
    }
   ],
   "source": [
    "%matplotlib inline\n",
    "\n",
    "from IPython.core.display import HTML\n",
    "from IPython.display import Image\n",
    "\n",
    "# Libraries\n",
    "import apachelog, sys\n",
    "import numpy as np\n",
    "import matplotlib as mpl\n",
    "import matplotlib.pyplot as plt\n",
    "import matplotlib.ticker as ticker\n",
    "import numpy as npb\n",
    "import pandas as pd\n",
    "import datetime as dt\n",
    "from matplotlib.dates import DayLocator, HourLocator, MinuteLocator, AutoDateLocator, DateFormatter\n",
    "from seasonal import fit_seasons, adjust_seasons, fit_trend\n",
    "\n",
    "import seaborn as sns\n",
    "\n",
    "# Style Setting\n",
    "sns.set(style=\"ticks\", color_codes=True)\n",
    "sns.set_context(\"notebook\")\n",
    "sns.set_style(\"darkgrid\")\n",
    "\n",
    "# Notebook Style Setting\n",
    "css = open('styles/style-table.css').read() + open('styles/style-notebook.css').read()\n",
    "HTML('<style>{}</style>'.format(css))"
   ]
  },
  {
   "cell_type": "code",
   "execution_count": 3,
   "metadata": {
    "collapsed": false
   },
   "outputs": [
    {
     "data": {
      "text/html": [
       "<script>\n",
       "code_show=true; \n",
       "function code_toggle() {\n",
       " if (code_show){\n",
       " $('div.input').hide();\n",
       " } else {\n",
       " $('div.input').show();\n",
       " }\n",
       " code_show = !code_show\n",
       "} \n",
       "$( document ).ready(code_toggle);\n",
       "</script>\n",
       "<form action=\"javascript:code_toggle()\"><input type=\"submit\" value=\"Toggle Code On/Off\"></form>"
      ],
      "text/plain": [
       "<IPython.core.display.HTML object>"
      ]
     },
     "execution_count": 3,
     "metadata": {},
     "output_type": "execute_result"
    }
   ],
   "source": [
    "HTML('''<script>\n",
    "code_show=true; \n",
    "function code_toggle() {\n",
    " if (code_show){\n",
    " $('div.input').hide();\n",
    " } else {\n",
    " $('div.input').show();\n",
    " }\n",
    " code_show = !code_show\n",
    "} \n",
    "$( document ).ready(code_toggle);\n",
    "</script>\n",
    "<form action=\"javascript:code_toggle()\"><input type=\"submit\" value=\"Toggle Code On/Off\"></form>''')"
   ]
  },
  {
   "cell_type": "markdown",
   "metadata": {},
   "source": [
    "### USXM REST Calls Log\n",
    "\n",
    "Below is the format of the log and a short description of every element:\n",
    "    \n",
    "    format = r'%h  %l %u %t \\\"%r\\\" %>s %b \\\"%i\\\" \\\"%{User-Agent}i\\\" %T'\n",
    "    \n",
    "    %V          - the server name according to the UseCanonicalName setting\n",
    "    %h          - remote host (ie the client IP)\n",
    "    %l          - identity of the user determined by identd (not usually used since not reliable)\n",
    "    %u          - user name determined by HTTP authentication\n",
    "    %t          - time the server finished processing the request.\n",
    "    %r          - request line from the client. (\"GET / HTTP/1.0\")\n",
    "    %>s         - status code sent from the server to the client (200, 404 etc.)\n",
    "    %b          - size of the response to the client (in bytes)\n",
    "    \\\"%i\\\"      - Referer is the page that linked to this URL.\n",
    "    User-agent  - the browser identification string\n",
    "    %T          - Apache request time  "
   ]
  },
  {
   "cell_type": "markdown",
   "metadata": {},
   "source": [
    "#### Sample Log Statement\n",
    "\n",
    "10.19.14.134 - - [26/Aug/2016:06:32:21 +0000] \"GET /usxmanager/metrics?target=alias(summarize(*.%7BUSX_8b8419cf-9193-330e-a7f6-f8a9bbcfdc3b%7D.VolumeCapOffloadCollector.%7BCapacity_Offload_Percent%7D,%225min%22,%22avg%22),%22Deduplication%20Ratio%20(%25)%22)&from=-1hours&until=now&format=json&lineMode=connected&noCache=true&width=500&height=250&jsonp=jQuery1110014890684454986425_1472191760944&_=1472191761024 HTTP/1.1\" 200 - \"https://10.19.12.100:8443/index.html\" \"Mozilla/5.0 (Windows NT 6.1; WOW64) AppleWebKit/537.36 (KHTML, like Gecko) Chrome/52.0.2743.116 Safari/537.36\" 24\n"
   ]
  },
  {
   "cell_type": "code",
   "execution_count": null,
   "metadata": {
    "collapsed": false
   },
   "outputs": [],
   "source": [
    "# Functions\n",
    "def dash2nan(x):\n",
    "    if x == '-':\n",
    "        x = np.nan\n",
    "    else:\n",
    "        x = int(x)/1024\n",
    "    return x\n",
    "\n",
    "def gmet(x):\n",
    "    x = x.split()\n",
    "    return x[0]\n",
    "\n",
    "def read_web_log(filename):\n",
    "    # Create format\n",
    "    logformat =  r\"%h %l %u %t \\\"%r\\\" %>s %b \\\"%{Referer}i\\\" \\\"%{User-agent}i\\\" %T\"\n",
    "\n",
    "    # Create parser\n",
    "    logparser = apachelog.parser(logformat)\n",
    "    \n",
    "    log = open(filename).readlines()\n",
    "    log_list = []\n",
    "    for line in log:\n",
    "       try:\n",
    "          data = logparser.parse(line)\n",
    "       except:\n",
    "          sys.stderr.write(\"Unable to parse %s\" % line)\n",
    "       data['%t'] = data['%t'][1:12]+' '+data['%t'][13:21]+' '+data['%t'][22:27]\n",
    "       log_list.append(data)\n",
    "        \n",
    "    # Convert to dataframe\n",
    "    df = pd.DataFrame(log_list)\n",
    "    \n",
    "    # Rename columns\n",
    "    df = df.rename(columns={'%>s': 'Status', '%b':'Size','%h':'USX_IP', '%r':'Request', '%t': 'Time'})\n",
    "    \n",
    "    # Convert Time column to datetime format and make an index out of it (pop will drop original Time column):\n",
    "    df.index = pd.to_datetime(df.pop('Time'))\n",
    "    \n",
    "    # Convert Status variable to int:\n",
    "    df['Status'] = df['Status'].astype('int')\n",
    "\n",
    "    # Convert '-' to NA for b column\n",
    "    df['Size'] = df['Size'].apply(dash2nan)\n",
    "    \n",
    "    # Populate method columns\n",
    "    df['Method'] = df.Request.apply(gmet)\n",
    "    \n",
    "    return df[['Status', 'USX_IP', 'Method', 'Request','Size']]\n",
    "\n",
    "def get_method_ip_stats(df):\n",
    "    method_ip = df.groupby(['Method', 'USX_IP']).size()\n",
    "    return method_ip\n",
    "\n",
    "def get_ip_status_stats(df):\n",
    "    ips_status = df.groupby(['USX_IP', 'Status']).size()\n",
    "    ips_status.sort_values(inplace=True, ascending=False)\n",
    "    return ips_status\n",
    "\n",
    "def get_status_details(df, t_span='H'):\n",
    "    df_200 = df['Status'][df['Status'] == 200].resample(t_span, how='count')\n",
    "    df_204 = df['Status'][df['Status'] == 204].resample(t_span, how='count')\n",
    "    df_302 = df['Status'][df['Status'] == 302].resample(t_span, how='count')\n",
    "    df_304 = df['Status'][df['Status'] == 304].resample(t_span, how='count')\n",
    "    df_400 = df['Status'][df['Status'] == 400].resample(t_span, how='count')\n",
    "    df_401 = df['Status'][df['Status'] == 401].resample(t_span, how='count')\n",
    "    df_403 = df['Status'][df['Status'] == 403].resample(t_span, how='count')\n",
    "    df_404 = df['Status'][df['Status'] == 404].resample(t_span, how='count')\n",
    "    df_499 = df['Status'][df['Status'] == 499].resample(t_span, how='count')\n",
    "    df_500 = df['Status'][df['Status'] == 500].resample(t_span, how='count')\n",
    "    df_502 = df['Status'][df['Status'] == 502].resample(t_span, how='count')\n",
    "    df_504 = df['Status'][df['Status'] == 504].resample(t_span, how='count')\n",
    "    \n",
    "    status_df = pd.DataFrame({'OK':df_200, 'No Content':df_204, 'Not Modified':df_304, \n",
    "                              'Bad Request':df_400, 'Not Found':df_404, 'UnAuthorized':df_401,\n",
    "                              'Forbidden':df_403, 'Server Error':df_500, 'Bad Gateway':df_502, 'Gateway Timeout':df_504,})\n",
    "    status_df.fillna(0, inplace=True)\n",
    "    return status_df\n",
    "\n",
    "def create_line_plot(metric_name, series):\n",
    "    '''\n",
    "        Create line plot using seaborn\n",
    "    '''\n",
    "    # Create line chart\n",
    "    fig = plt.figure(figsize=(15, 6))\n",
    "    fig.suptitle(metric_name + ' Chart', fontsize=12, fontweight='bold')\n",
    "    ax = plt.gca()\n",
    "    ax.xaxis.set_major_locator(HourLocator(interval=12))\n",
    "    ax.xaxis.set_major_formatter(DateFormatter('%m/%d %I:%M %p')) # TimeFormat : http://strftime.org/\n",
    "    plt.plot(series, color='steelblue')\n",
    "    plt.xlabel(\"timestamp\", fontweight='bold')\n",
    "    plt.ylabel(metric_name)\n",
    "    plt.gcf().autofmt_xdate()\n",
    "    return"
   ]
  },
  {
   "cell_type": "code",
   "execution_count": null,
   "metadata": {
    "collapsed": false
   },
   "outputs": [
    {
     "name": "stdout",
     "output_type": "stream",
     "text": [
      "Reading the log file...Printing last 10 log statements in table form...\n"
     ]
    }
   ],
   "source": [
    "print(\"Reading the log file...Printing last 10 log statements in table form...\")\n",
    "df = read_web_log('data/usxm-server-request.log')\n",
    "df.tail(10)"
   ]
  },
  {
   "cell_type": "markdown",
   "metadata": {},
   "source": [
    "### REST API Calls stats....\n",
    "\n",
    "**Note on API Method Types:** -\n",
    "\n",
    "1. **GET** = Get Data\n",
    "2. **POST** = Create Config Data\n",
    "3. **PUT** = Update Config Data\n",
    "4. **DELETE** = Delete Config\n"
   ]
  },
  {
   "cell_type": "code",
   "execution_count": null,
   "metadata": {
    "collapsed": false
   },
   "outputs": [],
   "source": [
    "method_ip = get_method_ip_stats(df)\n",
    "fig = plt.figure(figsize=(15, 4))\n",
    "fig.suptitle('USX IP - API Method (All)', fontsize=12, fontweight='bold', verticalalignment='baseline')\n",
    "g= method_ip.plot(kind='bar')\n",
    "g.set_ylabel(\"Call Count\", fontsize=12)\n",
    "\n",
    "method_ip.sort_values(ascending=False, inplace=True)\n",
    "df1 = pd.DataFrame({'(Method, USX_IP)':method_ip.index, 'Count':method_ip.values})\n",
    "print(\"Top 10: \")\n",
    "df1.head(10)"
   ]
  },
  {
   "cell_type": "markdown",
   "metadata": {},
   "source": [
    "**API Calls Status Codes:**    \n",
    "* 101  -      Success   - Switching Protocols\n",
    "* 200  -      Success   - OK \n",
    "* 204  -      Success   - No Content \n",
    "* 302  -      Success   - Found\n",
    "* 304  -      Success   - Not modified\n",
    "* 400  -      Success   - Bad request\n",
    "* 404  -      Success   - Not Found\n",
    "* 401  -      Success   - Unauthorized\n",
    "* 403  -      Success   - Forbidden\n",
    "* 499  -      Failure   - Client closed request\n",
    "* 500  -      Failure   - Internal server error\n",
    "* 502  -      Failure   - Bad Gateway\n",
    "* 504  -      Failure   - Gateway timeout\n"
   ]
  },
  {
   "cell_type": "code",
   "execution_count": null,
   "metadata": {
    "collapsed": false
   },
   "outputs": [],
   "source": [
    "ips_status = get_ip_status_stats(df)\n",
    "fig = plt.figure(figsize=(15, 4))\n",
    "fig.suptitle('USX_IP - API Response Status (All)', fontsize=12, fontweight='bold', verticalalignment='baseline')\n",
    "g = ips_status.plot(kind='bar')\n",
    "g.set_ylabel(\"Call Count\", fontsize=12)\n",
    "\n",
    "ips_status.sort_values(ascending=False, inplace=True)\n",
    "df1 = pd.DataFrame({'(USX_IP, API Response)':ips_status.index, 'Count':ips_status.values})\n",
    "print(\"Top 10: \")\n",
    "df1.head(10)"
   ]
  },
  {
   "cell_type": "markdown",
   "metadata": {},
   "source": [
    "#### Aggregated on hourly scale...."
   ]
  },
  {
   "cell_type": "code",
   "execution_count": null,
   "metadata": {
    "collapsed": false
   },
   "outputs": [],
   "source": [
    "df_s = df['Request'].resample('1H', how='count')\n",
    "create_line_plot(\"REST API Calls\", df_s)"
   ]
  },
  {
   "cell_type": "code",
   "execution_count": null,
   "metadata": {
    "collapsed": false
   },
   "outputs": [],
   "source": [
    "success_df = df[df['Status'].isin([101, 200, 204, 302, 304, 400, 401, 403, 404])].resample(\"1H\", how='count')\n",
    "fail_df = df[df['Status'].isin([499, 500, 502, 504])].resample(\"1H\", how='count')\n",
    "\n",
    "create_line_plot(\"Successful API Calls\", success_df['Status'])\n",
    "create_line_plot(\"Failed API Calls\", fail_df['Status'])\n"
   ]
  },
  {
   "cell_type": "markdown",
   "metadata": {},
   "source": [
    "### Top REST API Calls...\n",
    "\n",
    "Top 10 REST API Calls..."
   ]
  },
  {
   "cell_type": "code",
   "execution_count": null,
   "metadata": {
    "collapsed": false
   },
   "outputs": [],
   "source": [
    "g = df['Request'].value_counts().head(10) \n",
    "df1 = pd.DataFrame({'REST API Call':g.index, 'Count':g.values})\n",
    "df1"
   ]
  },
  {
   "cell_type": "markdown",
   "metadata": {},
   "source": [
    "Top REST API calls response status & count **aggregated at hourly** scale...."
   ]
  },
  {
   "cell_type": "code",
   "execution_count": null,
   "metadata": {
    "collapsed": false
   },
   "outputs": [],
   "source": [
    "status_df = get_status_details(df)\n",
    "g = status_df.plot(kind='line', figsize=(15, 5))\n",
    "g.set_ylabel(\"Count\", fontsize=12)"
   ]
  },
  {
   "cell_type": "markdown",
   "metadata": {},
   "source": [
    "Last 10 hours in tabular form..."
   ]
  },
  {
   "cell_type": "code",
   "execution_count": null,
   "metadata": {
    "collapsed": false
   },
   "outputs": [],
   "source": [
    "status_df.tail(10)"
   ]
  },
  {
   "cell_type": "code",
   "execution_count": null,
   "metadata": {
    "collapsed": true
   },
   "outputs": [],
   "source": []
  },
  {
   "cell_type": "markdown",
   "metadata": {},
   "source": [
    "### Stats on REST API whose response size is greater than 2 KB\n",
    "\n",
    "How many REST API calls whose response size is > 2 KB?"
   ]
  },
  {
   "cell_type": "code",
   "execution_count": null,
   "metadata": {
    "collapsed": false
   },
   "outputs": [],
   "source": [
    "# Choose all requests with the size of the response larger than 2 Kb (remember we convert bytes to KB):\n",
    "df_2kb = df[df['Size']> 2]\n",
    "grouped_status = df_2kb.groupby('Size')\n",
    "g=grouped_status.size().plot(kind='bar')\n",
    "g.set_xlabel(\"Response Size (KB)\")\n",
    "g.set_ylabel(\"Num Requests\")\n",
    "\n",
    "temp = df_2kb['Size'].value_counts()\n",
    "temp.sort_values(ascending=False, inplace=True)\n",
    "df1 = pd.DataFrame({'Response Size (KB)':temp.index, 'Call Count':temp.values})\n",
    "df1"
   ]
  },
  {
   "cell_type": "markdown",
   "metadata": {},
   "source": [
    "Which nodes are invoking these rest api calls and how many calls?"
   ]
  },
  {
   "cell_type": "code",
   "execution_count": null,
   "metadata": {
    "collapsed": false
   },
   "outputs": [],
   "source": [
    "grouped_status2 = df_2kb.groupby('USX_IP')\n",
    "g=grouped_status2.size().plot(kind='bar')\n",
    "g.set_xlabel(\"IP Address\")\n",
    "g.set_ylabel(\"Num Requests\")\n",
    "\n",
    "temp = df_2kb['USX_IP'].value_counts()\n",
    "temp.sort_values(ascending=False, inplace=True)\n",
    "df1 = pd.DataFrame({'USX_IP':temp.index, 'Call Count':temp.values})\n",
    "df1"
   ]
  },
  {
   "cell_type": "markdown",
   "metadata": {},
   "source": [
    "What are the status of these large rest response api calls and count?"
   ]
  },
  {
   "cell_type": "code",
   "execution_count": null,
   "metadata": {
    "collapsed": false
   },
   "outputs": [],
   "source": [
    "grouped_status1 = df_2kb.groupby('Status')\n",
    "g=grouped_status1.size().plot(kind='bar')\n",
    "g.set_xlabel(\"Status\")\n",
    "g.set_ylabel(\"Num Requests\")\n",
    "\n",
    "temp = df_2kb['Status'].value_counts()\n",
    "temp.sort_values(ascending=False, inplace=True)\n",
    "df1 = pd.DataFrame({'Status (respose_size > 2KB)':temp.index, 'Call Count':temp.values})\n",
    "df1"
   ]
  },
  {
   "cell_type": "markdown",
   "metadata": {},
   "source": [
    "What are these frequently called REST APIs whose response size > 2KB?"
   ]
  },
  {
   "cell_type": "code",
   "execution_count": null,
   "metadata": {
    "collapsed": false
   },
   "outputs": [],
   "source": [
    "temp = df_2kb['Request'].value_counts()\n",
    "temp.sort_values(ascending=False, inplace=True)\n",
    "df1 = pd.DataFrame({'Top APIs (respose_size > 2KB)':temp.index, 'Call Count':temp.values})\n",
    "df1"
   ]
  },
  {
   "cell_type": "markdown",
   "metadata": {
    "collapsed": true
   },
   "source": [
    "### Additional Investigations...\n",
    "\n",
    "We have too many calls from 127.0.0.1 (see 1st section for details). What are the calls?"
   ]
  },
  {
   "cell_type": "code",
   "execution_count": null,
   "metadata": {
    "collapsed": false
   },
   "outputs": [],
   "source": [
    "print(\"Printing last 10 calls from 127.0.0.1...\")\n",
    "df[df.USX_IP =='127.0.0.1'].tail(10)"
   ]
  },
  {
   "cell_type": "code",
   "execution_count": null,
   "metadata": {
    "collapsed": true
   },
   "outputs": [],
   "source": []
  }
 ],
 "metadata": {
  "anaconda-cloud": {},
  "kernelspec": {
   "display_name": "Python [Root]",
   "language": "python",
   "name": "Python [Root]"
  },
  "language_info": {
   "codemirror_mode": {
    "name": "ipython",
    "version": 2
   },
   "file_extension": ".py",
   "mimetype": "text/x-python",
   "name": "python",
   "nbconvert_exporter": "python",
   "pygments_lexer": "ipython2",
   "version": "2.7.12"
  }
 },
 "nbformat": 4,
 "nbformat_minor": 0
}
