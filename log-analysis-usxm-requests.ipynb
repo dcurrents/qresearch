{
 "cells": [
  {
   "cell_type": "markdown",
   "metadata": {},
   "source": [
    "# Log Analytics - USX Manager (REST Calls)\n",
    "\n",
    "This notebook provides a quick summary analytics on the REST api calls made to an USX Management Server. \n",
    "\n",
    "The input to this notebook could be either usx-manager-requests.log / usxm-agent-requests.log "
   ]
  },
  {
   "cell_type": "code",
   "execution_count": 47,
   "metadata": {
    "collapsed": false
   },
   "outputs": [
    {
     "data": {
      "text/html": [
       "<style>body {\n",
       "    margin: 0;\n",
       "    font-family:Times New Roman, Sans, Serif;\n",
       "\tfont-size:medium;\n",
       "}\n",
       "table.dataframe {\n",
       "    border-collapse: collapse;\n",
       "    border: none;\n",
       "}\n",
       "table.dataframe tr {\n",
       "    border: none;\n",
       "}\n",
       "table.dataframe td, table.dataframe th {\n",
       "    margin: 0;\n",
       "    border: 1px solid white;\n",
       "    padding-left: 0.25em;\n",
       "    padding-right: 0.25em;\n",
       "    font-family: Serif;\n",
       "}\n",
       "table.dataframe th:not(:empty) {\n",
       "    background-color: #fec;\n",
       "    text-align: center;\n",
       "    font-weight: bold;\n",
       "    padding-left: 0.25em;\n",
       "    padding-right: 0.25em;\n",
       "    font-family: Serif;\n",
       "}\n",
       "table.dataframe tr:nth-child(2) th:empty {\n",
       "    border-left: none;\n",
       "    border-right: 1px dashed #888;\n",
       "}\n",
       "table.dataframe td {\n",
       "    border: 2px solid #ccf;\n",
       "    background-color: #f4f4ff;\n",
       "}h3 {\n",
       "    color: white;\n",
       "    background-color: darkslategray;\n",
       "    padding: 0.5em;\n",
       "    font-family: Times New Roman, Sans;\n",
       "}\n",
       "</style>"
      ],
      "text/plain": [
       "<IPython.core.display.HTML object>"
      ]
     },
     "execution_count": 47,
     "metadata": {},
     "output_type": "execute_result"
    }
   ],
   "source": [
    "%matplotlib inline\n",
    "\n",
    "from IPython.core.display import HTML\n",
    "from IPython.display import Image\n",
    "\n",
    "# Libraries\n",
    "import apachelog, sys\n",
    "import numpy as np\n",
    "import matplotlib as mpl\n",
    "import matplotlib.pyplot as plt\n",
    "import matplotlib.ticker as ticker\n",
    "import numpy as npb\n",
    "import pandas as pd\n",
    "import datetime as dt\n",
    "from matplotlib.dates import DayLocator, HourLocator, MinuteLocator, AutoDateLocator, DateFormatter\n",
    "from seasonal import fit_seasons, adjust_seasons, fit_trend\n",
    "\n",
    "import seaborn as sns\n",
    "\n",
    "# Style Setting\n",
    "sns.set(style=\"ticks\", color_codes=True)\n",
    "sns.set_context(\"notebook\")\n",
    "sns.set_style(\"darkgrid\")\n",
    "\n",
    "# Notebook Style Setting\n",
    "css = open('styles/style-table.css').read() + open('styles/style-notebook.css').read()\n",
    "HTML('<style>{}</style>'.format(css))"
   ]
  },
  {
   "cell_type": "code",
   "execution_count": 48,
   "metadata": {
    "collapsed": false
   },
   "outputs": [
    {
     "data": {
      "text/html": [
       "<script>\n",
       "code_show=true; \n",
       "function code_toggle() {\n",
       " if (code_show){\n",
       " $('div.input').hide();\n",
       " } else {\n",
       " $('div.input').show();\n",
       " }\n",
       " code_show = !code_show\n",
       "} \n",
       "$( document ).ready(code_toggle);\n",
       "</script>\n",
       "<form action=\"javascript:code_toggle()\"><input type=\"submit\" value=\"Toggle Code On/Off\"></form>"
      ],
      "text/plain": [
       "<IPython.core.display.HTML object>"
      ]
     },
     "execution_count": 48,
     "metadata": {},
     "output_type": "execute_result"
    }
   ],
   "source": [
    "HTML('''<script>\n",
    "code_show=true; \n",
    "function code_toggle() {\n",
    " if (code_show){\n",
    " $('div.input').hide();\n",
    " } else {\n",
    " $('div.input').show();\n",
    " }\n",
    " code_show = !code_show\n",
    "} \n",
    "$( document ).ready(code_toggle);\n",
    "</script>\n",
    "<form action=\"javascript:code_toggle()\"><input type=\"submit\" value=\"Toggle Code On/Off\"></form>''')"
   ]
  },
  {
   "cell_type": "markdown",
   "metadata": {},
   "source": [
    "### USXM REST Calls Log\n",
    "\n",
    "Below is the log format itself and a short description of every element:\n",
    "    \n",
    "    format = r'%h  %l %u %t \\\"%r\\\" %>s %b \\\"%i\\\" \\\"%{User-Agent}i\\\" %T'\n",
    "    \n",
    "    %V          - the server name according to the UseCanonicalName setting\n",
    "    %h          - remote host (ie the client IP)\n",
    "    %l          - identity of the user determined by identd (not usually used since not reliable)\n",
    "    %u          - user name determined by HTTP authentication\n",
    "    %t          - time the server finished processing the request.\n",
    "    %r          - request line from the client. (\"GET / HTTP/1.0\")\n",
    "    %>s         - status code sent from the server to the client (200, 404 etc.)\n",
    "    %b          - size of the response to the client (in bytes)\n",
    "    \\\"%i\\\"      - Referer is the page that linked to this URL.\n",
    "    User-agent  - the browser identification string\n",
    "    %T          - Apache request time  "
   ]
  },
  {
   "cell_type": "markdown",
   "metadata": {},
   "source": [
    "#### Sample Log Statement\n",
    "\n",
    "10.19.14.134 - - [26/Aug/2016:06:32:21 +0000] \"GET /usxmanager/metrics?target=alias(summarize(*.%7BUSX_8b8419cf-9193-330e-a7f6-f8a9bbcfdc3b%7D.VolumeCapOffloadCollector.%7BCapacity_Offload_Percent%7D,%225min%22,%22avg%22),%22Deduplication%20Ratio%20(%25)%22)&from=-1hours&until=now&format=json&lineMode=connected&noCache=true&width=500&height=250&jsonp=jQuery1110014890684454986425_1472191760944&_=1472191761024 HTTP/1.1\" 200 - \"https://10.19.12.100:8443/index.html\" \"Mozilla/5.0 (Windows NT 6.1; WOW64) AppleWebKit/537.36 (KHTML, like Gecko) Chrome/52.0.2743.116 Safari/537.36\" 24\n"
   ]
  },
  {
   "cell_type": "code",
   "execution_count": 49,
   "metadata": {
    "collapsed": false
   },
   "outputs": [],
   "source": [
    "# Functions\n",
    "def dash2nan(x):\n",
    "    if x == '-':\n",
    "        x = np.nan\n",
    "    else:\n",
    "        x = int(x)/1024\n",
    "    return x\n",
    "\n",
    "def gmet(x):\n",
    "    x = x.split()\n",
    "    return x[0]\n",
    "\n",
    "def read_web_log(filename):\n",
    "    # Create format\n",
    "    logformat =  r\"%h %l %u %t \\\"%r\\\" %>s %b \\\"%{Referer}i\\\" \\\"%{User-agent}i\\\" %T\"\n",
    "\n",
    "    # Create parser\n",
    "    logparser = apachelog.parser(logformat)\n",
    "    \n",
    "    log = open(filename).readlines()\n",
    "    log_list = []\n",
    "    for line in log:\n",
    "       try:\n",
    "          data = logparser.parse(line)\n",
    "       except:\n",
    "          sys.stderr.write(\"Unable to parse %s\" % line)\n",
    "       data['%t'] = data['%t'][1:12]+' '+data['%t'][13:21]+' '+data['%t'][22:27]\n",
    "       log_list.append(data)\n",
    "        \n",
    "    # Convert to dataframe\n",
    "    df = pd.DataFrame(log_list)\n",
    "    \n",
    "    # Rename columns\n",
    "    df = df.rename(columns={'%>s': 'Status', '%b':'Size','%h':'IP', '%r':'Request', '%t': 'Time'})\n",
    "    \n",
    "    # Convert Time column to datetime format and make an index out of it (pop will drop original Time column):\n",
    "    df.index = pd.to_datetime(df.pop('Time'))\n",
    "    \n",
    "    # Convert Status variable to int:\n",
    "    df['Status'] = df['Status'].astype('int')\n",
    "\n",
    "    # Convert '-' to NA for b column\n",
    "    df['Size'] = df['Size'].apply(dash2nan)\n",
    "    \n",
    "    # Populate method columns\n",
    "    df['Method'] = df.Request.apply(gmet)\n",
    "    \n",
    "    return df[['Status', 'IP', 'Method', 'Request','Size']]\n",
    "\n",
    "def get_method_ip_stats(df):\n",
    "    method_ip = df.groupby(['Method', 'IP']).size()\n",
    "    return method_ip\n",
    "\n",
    "def get_ip_status_stats(df):\n",
    "    ips_status = df.groupby(['IP', 'Status']).size()\n",
    "    ips_status.sort_values(inplace=True, ascending=False)\n",
    "    return ips_status\n",
    "\n",
    "def get_status_details(df, t_span='H'):\n",
    "    df_404 = df['Status'][df['Status'] == 404].resample(t_span, how='count')\n",
    "    df_403 = df['Status'][df['Status'] == 403].resample(t_span, how='count')\n",
    "    df_301 = df['Status'][df['Status'] == 301].resample(t_span, how='count')\n",
    "    df_304 = df['Status'][df['Status'] == 304].resample(t_span, how='count')\n",
    "    df_200 = df['Status'][df['Status'] == 200].resample(t_span, how='count')\n",
    "    df_500 = df['Status'][df['Status'] == 500].resample(t_span, how='count')\n",
    "    status_df = pd.DataFrame({'OK':df_200, 'ServerError':df_500, 'NotFound':df_404, 'UnAuthorized':df_403,})\n",
    "    status_df.fillna(0, inplace=True)\n",
    "    return status_df\n"
   ]
  },
  {
   "cell_type": "code",
   "execution_count": 50,
   "metadata": {
    "collapsed": false
   },
   "outputs": [
    {
     "name": "stdout",
     "output_type": "stream",
     "text": [
      "Reading the log file...Printing last few log statements in table form\n"
     ]
    },
    {
     "data": {
      "text/html": [
       "<div>\n",
       "<table border=\"1\" class=\"dataframe\">\n",
       "  <thead>\n",
       "    <tr style=\"text-align: right;\">\n",
       "      <th></th>\n",
       "      <th>Status</th>\n",
       "      <th>IP</th>\n",
       "      <th>Method</th>\n",
       "      <th>Request</th>\n",
       "      <th>Size</th>\n",
       "    </tr>\n",
       "    <tr>\n",
       "      <th>Time</th>\n",
       "      <th></th>\n",
       "      <th></th>\n",
       "      <th></th>\n",
       "      <th></th>\n",
       "      <th></th>\n",
       "    </tr>\n",
       "  </thead>\n",
       "  <tbody>\n",
       "    <tr>\n",
       "      <th>2016-09-02 20:05:01</th>\n",
       "      <td>200</td>\n",
       "      <td>10.19.12.100</td>\n",
       "      <td>GET</td>\n",
       "      <td>GET /usxmanager/usxmanager HTTP/1.1</td>\n",
       "      <td>2</td>\n",
       "    </tr>\n",
       "    <tr>\n",
       "      <th>2016-09-02 20:05:05</th>\n",
       "      <td>200</td>\n",
       "      <td>127.0.0.1</td>\n",
       "      <td>GET</td>\n",
       "      <td>GET /usxmanager/usx/inventory/servicevm/contai...</td>\n",
       "      <td>0</td>\n",
       "    </tr>\n",
       "    <tr>\n",
       "      <th>2016-09-02 20:05:05</th>\n",
       "      <td>200</td>\n",
       "      <td>127.0.0.1</td>\n",
       "      <td>GET</td>\n",
       "      <td>GET /usxmanager/usx/inventory/volume/container...</td>\n",
       "      <td>NaN</td>\n",
       "    </tr>\n",
       "    <tr>\n",
       "      <th>2016-09-02 20:05:12</th>\n",
       "      <td>200</td>\n",
       "      <td>127.0.0.1</td>\n",
       "      <td>PUT</td>\n",
       "      <td>PUT /usxmanager/services/INSIGHT/10.19.12.100 ...</td>\n",
       "      <td>0</td>\n",
       "    </tr>\n",
       "    <tr>\n",
       "      <th>2016-09-02 20:06:12</th>\n",
       "      <td>200</td>\n",
       "      <td>127.0.0.1</td>\n",
       "      <td>PUT</td>\n",
       "      <td>PUT /usxmanager/services/INSIGHT/10.19.12.100 ...</td>\n",
       "      <td>0</td>\n",
       "    </tr>\n",
       "  </tbody>\n",
       "</table>\n",
       "</div>"
      ],
      "text/plain": [
       "                     Status            IP Method  \\\n",
       "Time                                               \n",
       "2016-09-02 20:05:01     200  10.19.12.100    GET   \n",
       "2016-09-02 20:05:05     200     127.0.0.1    GET   \n",
       "2016-09-02 20:05:05     200     127.0.0.1    GET   \n",
       "2016-09-02 20:05:12     200     127.0.0.1    PUT   \n",
       "2016-09-02 20:06:12     200     127.0.0.1    PUT   \n",
       "\n",
       "                                                               Request  Size  \n",
       "Time                                                                          \n",
       "2016-09-02 20:05:01                GET /usxmanager/usxmanager HTTP/1.1     2  \n",
       "2016-09-02 20:05:05  GET /usxmanager/usx/inventory/servicevm/contai...     0  \n",
       "2016-09-02 20:05:05  GET /usxmanager/usx/inventory/volume/container...   NaN  \n",
       "2016-09-02 20:05:12  PUT /usxmanager/services/INSIGHT/10.19.12.100 ...     0  \n",
       "2016-09-02 20:06:12  PUT /usxmanager/services/INSIGHT/10.19.12.100 ...     0  "
      ]
     },
     "execution_count": 50,
     "metadata": {},
     "output_type": "execute_result"
    }
   ],
   "source": [
    "print(\"Reading the log file...Printing last few log statements in table form\")\n",
    "df = read_web_log('data/usxm-server-request.log')\n",
    "df.tail()"
   ]
  },
  {
   "cell_type": "markdown",
   "metadata": {},
   "source": [
    "### REST API Calls stats....\n",
    "\n",
    "**Note on API Method Types:** -\n",
    "\n",
    "1. **GET** = Get Data\n",
    "2. **POST** = Create Config Data\n",
    "3. **PUT** = Update Config Data\n",
    "4. **DELETE** = Delete Config\n"
   ]
  },
  {
   "cell_type": "code",
   "execution_count": 51,
   "metadata": {
    "collapsed": false
   },
   "outputs": [
    {
     "name": "stdout",
     "output_type": "stream",
     "text": [
      "Method  IP          \n",
      "DELETE  10.19.15.82         1\n",
      "GET     10.1.0.70          15\n",
      "        10.15.2.56         52\n",
      "        10.15.2.64         16\n",
      "        10.19.12.100     6577\n",
      "        10.19.14.134      176\n",
      "        10.19.14.28       453\n",
      "        10.19.15.82       159\n",
      "        127.0.0.1        7131\n",
      "POST    10.19.12.100      184\n",
      "        127.0.0.1           8\n",
      "PUT     10.15.2.64          1\n",
      "        10.19.14.134        1\n",
      "        10.19.14.28         2\n",
      "        10.19.15.82         2\n",
      "        127.0.0.1       11084\n",
      "dtype: int64\n"
     ]
    },
    {
     "data": {
      "image/png": "[encoded data removed]",
      "text/plain": [
       "<matplotlib.figure.Figure at 0xab1feb8>"
      ]
     },
     "metadata": {},
     "output_type": "display_data"
    }
   ],
   "source": [
    "method_ip = get_method_ip_stats(df)\n",
    "fig = plt.figure(figsize=(14, 4))\n",
    "fig.suptitle('IP - API Method Stats', fontsize=12, fontweight='bold', verticalalignment='baseline')\n",
    "g= method_ip.plot(kind='bar')\n",
    "g.set_ylabel(\"Count\", fontsize=12)\n",
    "print(method_ip)"
   ]
  },
  {
   "cell_type": "markdown",
   "metadata": {},
   "source": [
    "**API Calls Status Codes:**    \n",
    "* 200  -      Success   - OK \n",
    "* 502  -      Failure   - Bad Gateway\n",
    "* 499  -      Failure   - Client closed request\n",
    "* 304  -      Success   - Not modified\n",
    "* 302  -      Success   - Found\n",
    "* 404  -      Success   - Not Found\n",
    "* 504  -      Failure   - Gateway timeout\n",
    "* 401  -      Success   - Unauthorized\n",
    "* 403  -      Success   - Forbidden\n",
    "* 500  -      Failure   - Internal server error\n",
    "* 400  -      Success   - Bad request\n",
    "* 408  -      Success?  - Request timeout\n",
    "* 405  -      Success   - Method not allowed"
   ]
  },
  {
   "cell_type": "code",
   "execution_count": 52,
   "metadata": {
    "collapsed": false
   },
   "outputs": [
    {
     "name": "stdout",
     "output_type": "stream",
     "text": [
      "IP            Status\n",
      "127.0.0.1     200       18223\n",
      "10.19.12.100  200        6761\n",
      "10.19.14.28   200         453\n",
      "10.19.14.134  200         177\n",
      "10.19.15.82   200         160\n",
      "10.15.2.56    200          52\n",
      "10.15.2.64    200          16\n",
      "10.1.0.70     200          14\n",
      "10.19.15.82   101           2\n",
      "10.19.14.28   101           2\n",
      "10.15.2.64    401           1\n",
      "10.1.0.70     401           1\n",
      "dtype: int64\n"
     ]
    },
    {
     "data": {
      "image/png": "[encoded data removed]",
      "text/plain": [
       "<matplotlib.figure.Figure at 0xd98b9e8>"
      ]
     },
     "metadata": {},
     "output_type": "display_data"
    }
   ],
   "source": [
    "ips_status = get_ip_status_stats(df)\n",
    "fig = plt.figure(figsize=(14, 4))\n",
    "fig.suptitle('IP - API Response Stats', fontsize=12, fontweight='bold', verticalalignment='baseline')\n",
    "g = ips_status.plot(kind='bar')\n",
    "g.set_ylabel(\"Count\", fontsize=12)\n",
    "print(ips_status)"
   ]
  },
  {
   "cell_type": "code",
   "execution_count": 53,
   "metadata": {
    "collapsed": false
   },
   "outputs": [
    {
     "data": {
      "image/png": "[encoded data removed]",
      "text/plain": [
       "<matplotlib.figure.Figure at 0xde9d390>"
      ]
     },
     "metadata": {},
     "output_type": "display_data"
    }
   ],
   "source": [
    "def create_line_plot(metric_name, series):\n",
    "    '''\n",
    "        Create line plot using seaborn\n",
    "    '''\n",
    "    # Create line chart\n",
    "    fig = plt.figure(figsize=(14, 5))\n",
    "    fig.suptitle(metric_name + ' Chart', fontsize=12, fontweight='bold')\n",
    "    ax = plt.gca()\n",
    "    ax.xaxis.set_major_locator(HourLocator(interval=6))\n",
    "    ax.xaxis.set_major_formatter(DateFormatter('%m/%d %I:%M %p')) # TimeFormat : http://strftime.org/\n",
    "    plt.plot(series, color='steelblue')\n",
    "    #plt.xlabel(\"timestamp\", fontweight='bold')\n",
    "    plt.ylabel(metric_name)\n",
    "    plt.gcf().autofmt_xdate()\n",
    "    return\n",
    "\n",
    "df_s = df['Request'].resample('30T', how='count')\n",
    "create_line_plot(\"Total API Calls\", df_s)"
   ]
  },
  {
   "cell_type": "code",
   "execution_count": 54,
   "metadata": {
    "collapsed": false
   },
   "outputs": [
    {
     "name": "stdout",
     "output_type": "stream",
     "text": [
      "Successful and Failure API calls aggregated on hourly scale...\n"
     ]
    },
    {
     "data": {
      "image/png": "[encoded data removed]",
      "text/plain": [
       "<matplotlib.figure.Figure at 0xea1ab00>"
      ]
     },
     "metadata": {},
     "output_type": "display_data"
    },
    {
     "data": {
      "image/png": "[encoded data removed]",
      "text/plain": [
       "<matplotlib.figure.Figure at 0xd36f080>"
      ]
     },
     "metadata": {},
     "output_type": "display_data"
    }
   ],
   "source": [
    "print(\"Successful and Failure API calls aggregated on hourly scale...\")\n",
    "success_df = df[df['Status'].isin([200, 304, 302, 404, 301, 401, 403, 206, 444, 400, 408, 405])].resample(\"1H\", how='count')\n",
    "fail_df = df[df['Status'].isin([502, 499, 504, 500, 444])].resample(\"1H\", how='count')\n",
    "\n",
    "create_line_plot(\"Successful API Calls\", success_df['Status'])\n",
    "create_line_plot(\"Failed API Calls\", fail_df['Status'])"
   ]
  },
  {
   "cell_type": "markdown",
   "metadata": {},
   "source": [
    "### Top REST API Calls..."
   ]
  },
  {
   "cell_type": "code",
   "execution_count": 55,
   "metadata": {
    "collapsed": false
   },
   "outputs": [
    {
     "data": {
      "text/plain": [
       "PUT /usxmanager/services/INSIGHT/10.19.12.100 HTTP/1.1                                                                      10894\n",
       "GET /usxmanager/usxmanager HTTP/1.1                                                                                          4385\n",
       "GET /usxmanager/usx/inventory/servicevm/containers?sortby=uuid&order=ascend&page=0&pagesize=100&composite=false HTTP/1.1     4358\n",
       "GET /usxmanager/usx/inventory/volume/containers?sortby=uuid&order=ascend&page=0&pagesize=100&composite=false HTTP/1.1        4358\n",
       "GET /usxmanager/services/INSIGHT/10.19.12.100 HTTP/1.1                                                                        190\n",
       "GET /usxmanager/policies/USX_cb782f36-17ba-3d1c-bdaa-cc2cb4415bee HTTP/1.1                                                    182\n",
       "PUT /usxmanager/model/jobstatus HTTP/1.1                                                                                      182\n",
       "GET /usxmanager/license HTTP/1.1                                                                                              182\n",
       "GET /usxmanager/policies/USX_f328fe59-1b30-37d0-ad62-599a6a7b6fc3 HTTP/1.1                                                     24\n",
       "GET /usxmanager/usx/inventory/servicevm/containers HTTP/1.1                                                                     8\n",
       "Name: Request, dtype: int64"
      ]
     },
     "execution_count": 55,
     "metadata": {},
     "output_type": "execute_result"
    }
   ],
   "source": [
    "df['Request'].value_counts().head(10) \n",
    "#counts = df[df['Request'].str.contains('GET')]['Status'].value_counts()"
   ]
  },
  {
   "cell_type": "markdown",
   "metadata": {},
   "source": [
    "### REST API calls response status over time...\n",
    "\n",
    "Below provides REST api calls response status & count **aggregated at hourly** scale...."
   ]
  },
  {
   "cell_type": "code",
   "execution_count": 56,
   "metadata": {
    "collapsed": false
   },
   "outputs": [
    {
     "name": "stdout",
     "output_type": "stream",
     "text": [
      "                     NotFound   OK  ServerError  UnAuthorized\n",
      "Time                                                         \n",
      "2016-09-02 13:00:00         0  136            0             0\n",
      "2016-09-02 14:00:00         0  136            0             0\n",
      "2016-09-02 15:00:00         0  136            0             0\n",
      "2016-09-02 16:00:00         0  136            0             0\n",
      "2016-09-02 17:00:00         0  136            0             0\n",
      "2016-09-02 18:00:00         0  136            0             0\n",
      "2016-09-02 19:00:00         0  136            0             0\n",
      "2016-09-02 20:00:00         0   37            0             0\n"
     ]
    },
    {
     "data": {
      "image/png": "[encoded data removed]",
      "text/plain": [
       "<matplotlib.figure.Figure at 0xcbff908>"
      ]
     },
     "metadata": {},
     "output_type": "display_data"
    }
   ],
   "source": [
    "status_df = get_status_details(df)\n",
    "g = status_df.plot(kind='line', figsize=(14, 4))\n",
    "g.set_ylabel(\"Count\", fontsize=12)\n",
    "print(status_df.tail(8))\n",
    "#status_df.tail(48)[['OK', 'Not Found','Server Error', 'Forbidden']].plot(kind='barh', stacked=True, figsize=(10, 10))"
   ]
  },
  {
   "cell_type": "markdown",
   "metadata": {},
   "source": [
    "Below provides Rest API calls frequency sampled at 5 minute intervals...."
   ]
  },
  {
   "cell_type": "markdown",
   "metadata": {},
   "source": [
    "### REST API requests whose response size is larger than 2 KB\n",
    "\n",
    "How many rest API calls whose response size is > 2 KB?"
   ]
  },
  {
   "cell_type": "code",
   "execution_count": 57,
   "metadata": {
    "collapsed": false
   },
   "outputs": [
    {
     "name": "stdout",
     "output_type": "stream",
     "text": [
      "Size   Count\n",
      "4    182\n",
      "3     24\n",
      "Name: Size, dtype: int64\n"
     ]
    },
    {
     "data": {
      "text/plain": [
       "<matplotlib.text.Text at 0xd4a7550>"
      ]
     },
     "execution_count": 57,
     "metadata": {},
     "output_type": "execute_result"
    },
    {
     "data": {
      "image/png": "[encoded data removed]",
      "text/plain": [
       "<matplotlib.figure.Figure at 0xcc127b8>"
      ]
     },
     "metadata": {},
     "output_type": "display_data"
    }
   ],
   "source": [
    "# Choose all requests with the size of the response larger than 2 Kb (remember we convert bytes to KB):\n",
    "df_2kb = df[df['Size']> 2]\n",
    "\n",
    "print(\"Size   Count\")\n",
    "print(df_2kb['Size'].value_counts())\n",
    "grouped_status = df_2kb.groupby('Size')\n",
    "g=grouped_status.size().plot(kind='bar')\n",
    "g.set_xlabel(\"Response Size (KB)\")\n",
    "g.set_ylabel(\"Num Requests\")"
   ]
  },
  {
   "cell_type": "markdown",
   "metadata": {},
   "source": [
    "Which nodes are invoking these rest api calls and count of calls?"
   ]
  },
  {
   "cell_type": "code",
   "execution_count": 58,
   "metadata": {
    "collapsed": false
   },
   "outputs": [
    {
     "name": "stdout",
     "output_type": "stream",
     "text": [
      "IPAddress   Count\n",
      "127.0.0.1    206\n",
      "Name: IP, dtype: int64\n"
     ]
    },
    {
     "data": {
      "text/plain": [
       "<matplotlib.text.Text at 0xc8312b0>"
      ]
     },
     "execution_count": 58,
     "metadata": {},
     "output_type": "execute_result"
    },
    {
     "data": {
      "image/png": "[encoded data removed]",
      "text/plain": [
       "<matplotlib.figure.Figure at 0xde40978>"
      ]
     },
     "metadata": {},
     "output_type": "display_data"
    }
   ],
   "source": [
    "print(\"IPAddress   Count\")\n",
    "print(df_2kb['IP'].value_counts())\n",
    "grouped_status2 = df_2kb.groupby('IP')\n",
    "g=grouped_status2.size().plot(kind='bar')\n",
    "g.set_xlabel(\"IP Address\")\n",
    "g.set_ylabel(\"Num Requests\")"
   ]
  },
  {
   "cell_type": "markdown",
   "metadata": {},
   "source": [
    "What are the status of these large rest response api calls and count?"
   ]
  },
  {
   "cell_type": "code",
   "execution_count": 59,
   "metadata": {
    "collapsed": false
   },
   "outputs": [
    {
     "name": "stdout",
     "output_type": "stream",
     "text": [
      "Status Count\n",
      "200    206\n",
      "Name: Status, dtype: int64\n"
     ]
    },
    {
     "data": {
      "text/plain": [
       "<matplotlib.text.Text at 0xdb8d278>"
      ]
     },
     "execution_count": 59,
     "metadata": {},
     "output_type": "execute_result"
    },
    {
     "data": {
      "image/png": "[encoded data removed]",
      "text/plain": [
       "<matplotlib.figure.Figure at 0x127dafd0>"
      ]
     },
     "metadata": {},
     "output_type": "display_data"
    }
   ],
   "source": [
    "print(\"Status Count\")\n",
    "print(df_2kb['Status'].value_counts())\n",
    "grouped_status1 = df_2kb.groupby('Status')\n",
    "g=grouped_status1.size().plot(kind='bar')\n",
    "g.set_xlabel(\"Status\")\n",
    "g.set_ylabel(\"Num Requests\")"
   ]
  },
  {
   "cell_type": "code",
   "execution_count": 60,
   "metadata": {
    "collapsed": false
   },
   "outputs": [
    {
     "name": "stdout",
     "output_type": "stream",
     "text": [
      "Finally top api requests whose response size > 2 KB\n"
     ]
    },
    {
     "data": {
      "text/plain": [
       "GET /usxmanager/license HTTP/1.1                                              182\n",
       "GET /usxmanager/policies/USX_f328fe59-1b30-37d0-ad62-599a6a7b6fc3 HTTP/1.1     24\n",
       "Name: Request, dtype: int64"
      ]
     },
     "execution_count": 60,
     "metadata": {},
     "output_type": "execute_result"
    }
   ],
   "source": [
    "print(\"Finally top api requests whose response size > 2 KB\")\n",
    "df_2kb['Request'].value_counts().head(5) "
   ]
  },
  {
   "cell_type": "markdown",
   "metadata": {
    "collapsed": true
   },
   "source": [
    "### Additional Investigations...\n",
    "\n",
    "We have too many calls from 127.0.0.1 (see 1st section for details). What are the calls?"
   ]
  },
  {
   "cell_type": "code",
   "execution_count": 61,
   "metadata": {
    "collapsed": false
   },
   "outputs": [
    {
     "name": "stdout",
     "output_type": "stream",
     "text": [
      "Printing last 30 calls from 127.0.0.1...\n"
     ]
    },
    {
     "data": {
      "text/html": [
       "<div>\n",
       "<table border=\"1\" class=\"dataframe\">\n",
       "  <thead>\n",
       "    <tr style=\"text-align: right;\">\n",
       "      <th></th>\n",
       "      <th>Status</th>\n",
       "      <th>IP</th>\n",
       "      <th>Method</th>\n",
       "      <th>Request</th>\n",
       "      <th>Size</th>\n",
       "    </tr>\n",
       "    <tr>\n",
       "      <th>Time</th>\n",
       "      <th></th>\n",
       "      <th></th>\n",
       "      <th></th>\n",
       "      <th></th>\n",
       "      <th></th>\n",
       "    </tr>\n",
       "  </thead>\n",
       "  <tbody>\n",
       "    <tr>\n",
       "      <th>2016-09-02 19:50:12</th>\n",
       "      <td>200</td>\n",
       "      <td>127.0.0.1</td>\n",
       "      <td>PUT</td>\n",
       "      <td>PUT /usxmanager/services/INSIGHT/10.19.12.100 ...</td>\n",
       "      <td>0</td>\n",
       "    </tr>\n",
       "    <tr>\n",
       "      <th>2016-09-02 19:51:12</th>\n",
       "      <td>200</td>\n",
       "      <td>127.0.0.1</td>\n",
       "      <td>PUT</td>\n",
       "      <td>PUT /usxmanager/services/INSIGHT/10.19.12.100 ...</td>\n",
       "      <td>0</td>\n",
       "    </tr>\n",
       "    <tr>\n",
       "      <th>2016-09-02 19:52:12</th>\n",
       "      <td>200</td>\n",
       "      <td>127.0.0.1</td>\n",
       "      <td>PUT</td>\n",
       "      <td>PUT /usxmanager/services/INSIGHT/10.19.12.100 ...</td>\n",
       "      <td>0</td>\n",
       "    </tr>\n",
       "    <tr>\n",
       "      <th>2016-09-02 19:53:12</th>\n",
       "      <td>200</td>\n",
       "      <td>127.0.0.1</td>\n",
       "      <td>PUT</td>\n",
       "      <td>PUT /usxmanager/services/INSIGHT/10.19.12.100 ...</td>\n",
       "      <td>0</td>\n",
       "    </tr>\n",
       "    <tr>\n",
       "      <th>2016-09-02 19:54:12</th>\n",
       "      <td>200</td>\n",
       "      <td>127.0.0.1</td>\n",
       "      <td>PUT</td>\n",
       "      <td>PUT /usxmanager/services/INSIGHT/10.19.12.100 ...</td>\n",
       "      <td>0</td>\n",
       "    </tr>\n",
       "    <tr>\n",
       "      <th>2016-09-02 19:55:02</th>\n",
       "      <td>200</td>\n",
       "      <td>127.0.0.1</td>\n",
       "      <td>GET</td>\n",
       "      <td>GET /usxmanager/usxmanager HTTP/1.1</td>\n",
       "      <td>2</td>\n",
       "    </tr>\n",
       "    <tr>\n",
       "      <th>2016-09-02 19:55:06</th>\n",
       "      <td>200</td>\n",
       "      <td>127.0.0.1</td>\n",
       "      <td>GET</td>\n",
       "      <td>GET /usxmanager/usx/inventory/servicevm/contai...</td>\n",
       "      <td>0</td>\n",
       "    </tr>\n",
       "    <tr>\n",
       "      <th>2016-09-02 19:55:06</th>\n",
       "      <td>200</td>\n",
       "      <td>127.0.0.1</td>\n",
       "      <td>GET</td>\n",
       "      <td>GET /usxmanager/usx/inventory/volume/container...</td>\n",
       "      <td>NaN</td>\n",
       "    </tr>\n",
       "    <tr>\n",
       "      <th>2016-09-02 19:55:12</th>\n",
       "      <td>200</td>\n",
       "      <td>127.0.0.1</td>\n",
       "      <td>PUT</td>\n",
       "      <td>PUT /usxmanager/services/INSIGHT/10.19.12.100 ...</td>\n",
       "      <td>0</td>\n",
       "    </tr>\n",
       "    <tr>\n",
       "      <th>2016-09-02 19:56:12</th>\n",
       "      <td>200</td>\n",
       "      <td>127.0.0.1</td>\n",
       "      <td>PUT</td>\n",
       "      <td>PUT /usxmanager/services/INSIGHT/10.19.12.100 ...</td>\n",
       "      <td>0</td>\n",
       "    </tr>\n",
       "    <tr>\n",
       "      <th>2016-09-02 19:57:12</th>\n",
       "      <td>200</td>\n",
       "      <td>127.0.0.1</td>\n",
       "      <td>PUT</td>\n",
       "      <td>PUT /usxmanager/services/INSIGHT/10.19.12.100 ...</td>\n",
       "      <td>0</td>\n",
       "    </tr>\n",
       "    <tr>\n",
       "      <th>2016-09-02 19:58:12</th>\n",
       "      <td>200</td>\n",
       "      <td>127.0.0.1</td>\n",
       "      <td>PUT</td>\n",
       "      <td>PUT /usxmanager/services/INSIGHT/10.19.12.100 ...</td>\n",
       "      <td>0</td>\n",
       "    </tr>\n",
       "    <tr>\n",
       "      <th>2016-09-02 19:59:12</th>\n",
       "      <td>200</td>\n",
       "      <td>127.0.0.1</td>\n",
       "      <td>PUT</td>\n",
       "      <td>PUT /usxmanager/services/INSIGHT/10.19.12.100 ...</td>\n",
       "      <td>0</td>\n",
       "    </tr>\n",
       "    <tr>\n",
       "      <th>2016-09-02 20:00:00</th>\n",
       "      <td>200</td>\n",
       "      <td>127.0.0.1</td>\n",
       "      <td>GET</td>\n",
       "      <td>GET /usxmanager/services/INSIGHT/10.19.12.100 ...</td>\n",
       "      <td>0</td>\n",
       "    </tr>\n",
       "    <tr>\n",
       "      <th>2016-09-02 20:00:00</th>\n",
       "      <td>200</td>\n",
       "      <td>127.0.0.1</td>\n",
       "      <td>GET</td>\n",
       "      <td>GET /usxmanager/policies/USX_cb782f36-17ba-3d1...</td>\n",
       "      <td>0</td>\n",
       "    </tr>\n",
       "    <tr>\n",
       "      <th>2016-09-02 20:00:00</th>\n",
       "      <td>200</td>\n",
       "      <td>127.0.0.1</td>\n",
       "      <td>GET</td>\n",
       "      <td>GET /usxmanager/license HTTP/1.1</td>\n",
       "      <td>4</td>\n",
       "    </tr>\n",
       "    <tr>\n",
       "      <th>2016-09-02 20:00:00</th>\n",
       "      <td>200</td>\n",
       "      <td>127.0.0.1</td>\n",
       "      <td>PUT</td>\n",
       "      <td>PUT /usxmanager/model/jobstatus HTTP/1.1</td>\n",
       "      <td>0</td>\n",
       "    </tr>\n",
       "    <tr>\n",
       "      <th>2016-09-02 20:00:01</th>\n",
       "      <td>200</td>\n",
       "      <td>127.0.0.1</td>\n",
       "      <td>GET</td>\n",
       "      <td>GET /usxmanager/usxmanager HTTP/1.1</td>\n",
       "      <td>2</td>\n",
       "    </tr>\n",
       "    <tr>\n",
       "      <th>2016-09-02 20:00:06</th>\n",
       "      <td>200</td>\n",
       "      <td>127.0.0.1</td>\n",
       "      <td>GET</td>\n",
       "      <td>GET /usxmanager/usx/inventory/servicevm/contai...</td>\n",
       "      <td>0</td>\n",
       "    </tr>\n",
       "    <tr>\n",
       "      <th>2016-09-02 20:00:06</th>\n",
       "      <td>200</td>\n",
       "      <td>127.0.0.1</td>\n",
       "      <td>GET</td>\n",
       "      <td>GET /usxmanager/usx/inventory/volume/container...</td>\n",
       "      <td>NaN</td>\n",
       "    </tr>\n",
       "    <tr>\n",
       "      <th>2016-09-02 20:00:12</th>\n",
       "      <td>200</td>\n",
       "      <td>127.0.0.1</td>\n",
       "      <td>PUT</td>\n",
       "      <td>PUT /usxmanager/services/INSIGHT/10.19.12.100 ...</td>\n",
       "      <td>0</td>\n",
       "    </tr>\n",
       "    <tr>\n",
       "      <th>2016-09-02 20:01:12</th>\n",
       "      <td>200</td>\n",
       "      <td>127.0.0.1</td>\n",
       "      <td>PUT</td>\n",
       "      <td>PUT /usxmanager/services/INSIGHT/10.19.12.100 ...</td>\n",
       "      <td>0</td>\n",
       "    </tr>\n",
       "    <tr>\n",
       "      <th>2016-09-02 20:02:12</th>\n",
       "      <td>200</td>\n",
       "      <td>127.0.0.1</td>\n",
       "      <td>PUT</td>\n",
       "      <td>PUT /usxmanager/services/INSIGHT/10.19.12.100 ...</td>\n",
       "      <td>0</td>\n",
       "    </tr>\n",
       "    <tr>\n",
       "      <th>2016-09-02 20:03:12</th>\n",
       "      <td>200</td>\n",
       "      <td>127.0.0.1</td>\n",
       "      <td>PUT</td>\n",
       "      <td>PUT /usxmanager/services/INSIGHT/10.19.12.100 ...</td>\n",
       "      <td>0</td>\n",
       "    </tr>\n",
       "    <tr>\n",
       "      <th>2016-09-02 20:04:12</th>\n",
       "      <td>200</td>\n",
       "      <td>127.0.0.1</td>\n",
       "      <td>PUT</td>\n",
       "      <td>PUT /usxmanager/services/INSIGHT/10.19.12.100 ...</td>\n",
       "      <td>0</td>\n",
       "    </tr>\n",
       "    <tr>\n",
       "      <th>2016-09-02 20:05:01</th>\n",
       "      <td>200</td>\n",
       "      <td>127.0.0.1</td>\n",
       "      <td>GET</td>\n",
       "      <td>GET /usxmanager/usxmanager HTTP/1.1</td>\n",
       "      <td>2</td>\n",
       "    </tr>\n",
       "    <tr>\n",
       "      <th>2016-09-02 20:05:05</th>\n",
       "      <td>200</td>\n",
       "      <td>127.0.0.1</td>\n",
       "      <td>GET</td>\n",
       "      <td>GET /usxmanager/usx/inventory/servicevm/contai...</td>\n",
       "      <td>0</td>\n",
       "    </tr>\n",
       "    <tr>\n",
       "      <th>2016-09-02 20:05:05</th>\n",
       "      <td>200</td>\n",
       "      <td>127.0.0.1</td>\n",
       "      <td>GET</td>\n",
       "      <td>GET /usxmanager/usx/inventory/volume/container...</td>\n",
       "      <td>NaN</td>\n",
       "    </tr>\n",
       "    <tr>\n",
       "      <th>2016-09-02 20:05:12</th>\n",
       "      <td>200</td>\n",
       "      <td>127.0.0.1</td>\n",
       "      <td>PUT</td>\n",
       "      <td>PUT /usxmanager/services/INSIGHT/10.19.12.100 ...</td>\n",
       "      <td>0</td>\n",
       "    </tr>\n",
       "    <tr>\n",
       "      <th>2016-09-02 20:06:12</th>\n",
       "      <td>200</td>\n",
       "      <td>127.0.0.1</td>\n",
       "      <td>PUT</td>\n",
       "      <td>PUT /usxmanager/services/INSIGHT/10.19.12.100 ...</td>\n",
       "      <td>0</td>\n",
       "    </tr>\n",
       "  </tbody>\n",
       "</table>\n",
       "</div>"
      ],
      "text/plain": [
       "                     Status         IP Method  \\\n",
       "Time                                            \n",
       "2016-09-02 19:50:12     200  127.0.0.1    PUT   \n",
       "2016-09-02 19:51:12     200  127.0.0.1    PUT   \n",
       "2016-09-02 19:52:12     200  127.0.0.1    PUT   \n",
       "2016-09-02 19:53:12     200  127.0.0.1    PUT   \n",
       "2016-09-02 19:54:12     200  127.0.0.1    PUT   \n",
       "2016-09-02 19:55:02     200  127.0.0.1    GET   \n",
       "2016-09-02 19:55:06     200  127.0.0.1    GET   \n",
       "2016-09-02 19:55:06     200  127.0.0.1    GET   \n",
       "2016-09-02 19:55:12     200  127.0.0.1    PUT   \n",
       "2016-09-02 19:56:12     200  127.0.0.1    PUT   \n",
       "2016-09-02 19:57:12     200  127.0.0.1    PUT   \n",
       "2016-09-02 19:58:12     200  127.0.0.1    PUT   \n",
       "2016-09-02 19:59:12     200  127.0.0.1    PUT   \n",
       "2016-09-02 20:00:00     200  127.0.0.1    GET   \n",
       "2016-09-02 20:00:00     200  127.0.0.1    GET   \n",
       "2016-09-02 20:00:00     200  127.0.0.1    GET   \n",
       "2016-09-02 20:00:00     200  127.0.0.1    PUT   \n",
       "2016-09-02 20:00:01     200  127.0.0.1    GET   \n",
       "2016-09-02 20:00:06     200  127.0.0.1    GET   \n",
       "2016-09-02 20:00:06     200  127.0.0.1    GET   \n",
       "2016-09-02 20:00:12     200  127.0.0.1    PUT   \n",
       "2016-09-02 20:01:12     200  127.0.0.1    PUT   \n",
       "2016-09-02 20:02:12     200  127.0.0.1    PUT   \n",
       "2016-09-02 20:03:12     200  127.0.0.1    PUT   \n",
       "2016-09-02 20:04:12     200  127.0.0.1    PUT   \n",
       "2016-09-02 20:05:01     200  127.0.0.1    GET   \n",
       "2016-09-02 20:05:05     200  127.0.0.1    GET   \n",
       "2016-09-02 20:05:05     200  127.0.0.1    GET   \n",
       "2016-09-02 20:05:12     200  127.0.0.1    PUT   \n",
       "2016-09-02 20:06:12     200  127.0.0.1    PUT   \n",
       "\n",
       "                                                               Request  Size  \n",
       "Time                                                                          \n",
       "2016-09-02 19:50:12  PUT /usxmanager/services/INSIGHT/10.19.12.100 ...     0  \n",
       "2016-09-02 19:51:12  PUT /usxmanager/services/INSIGHT/10.19.12.100 ...     0  \n",
       "2016-09-02 19:52:12  PUT /usxmanager/services/INSIGHT/10.19.12.100 ...     0  \n",
       "2016-09-02 19:53:12  PUT /usxmanager/services/INSIGHT/10.19.12.100 ...     0  \n",
       "2016-09-02 19:54:12  PUT /usxmanager/services/INSIGHT/10.19.12.100 ...     0  \n",
       "2016-09-02 19:55:02                GET /usxmanager/usxmanager HTTP/1.1     2  \n",
       "2016-09-02 19:55:06  GET /usxmanager/usx/inventory/servicevm/contai...     0  \n",
       "2016-09-02 19:55:06  GET /usxmanager/usx/inventory/volume/container...   NaN  \n",
       "2016-09-02 19:55:12  PUT /usxmanager/services/INSIGHT/10.19.12.100 ...     0  \n",
       "2016-09-02 19:56:12  PUT /usxmanager/services/INSIGHT/10.19.12.100 ...     0  \n",
       "2016-09-02 19:57:12  PUT /usxmanager/services/INSIGHT/10.19.12.100 ...     0  \n",
       "2016-09-02 19:58:12  PUT /usxmanager/services/INSIGHT/10.19.12.100 ...     0  \n",
       "2016-09-02 19:59:12  PUT /usxmanager/services/INSIGHT/10.19.12.100 ...     0  \n",
       "2016-09-02 20:00:00  GET /usxmanager/services/INSIGHT/10.19.12.100 ...     0  \n",
       "2016-09-02 20:00:00  GET /usxmanager/policies/USX_cb782f36-17ba-3d1...     0  \n",
       "2016-09-02 20:00:00                   GET /usxmanager/license HTTP/1.1     4  \n",
       "2016-09-02 20:00:00           PUT /usxmanager/model/jobstatus HTTP/1.1     0  \n",
       "2016-09-02 20:00:01                GET /usxmanager/usxmanager HTTP/1.1     2  \n",
       "2016-09-02 20:00:06  GET /usxmanager/usx/inventory/servicevm/contai...     0  \n",
       "2016-09-02 20:00:06  GET /usxmanager/usx/inventory/volume/container...   NaN  \n",
       "2016-09-02 20:00:12  PUT /usxmanager/services/INSIGHT/10.19.12.100 ...     0  \n",
       "2016-09-02 20:01:12  PUT /usxmanager/services/INSIGHT/10.19.12.100 ...     0  \n",
       "2016-09-02 20:02:12  PUT /usxmanager/services/INSIGHT/10.19.12.100 ...     0  \n",
       "2016-09-02 20:03:12  PUT /usxmanager/services/INSIGHT/10.19.12.100 ...     0  \n",
       "2016-09-02 20:04:12  PUT /usxmanager/services/INSIGHT/10.19.12.100 ...     0  \n",
       "2016-09-02 20:05:01                GET /usxmanager/usxmanager HTTP/1.1     2  \n",
       "2016-09-02 20:05:05  GET /usxmanager/usx/inventory/servicevm/contai...     0  \n",
       "2016-09-02 20:05:05  GET /usxmanager/usx/inventory/volume/container...   NaN  \n",
       "2016-09-02 20:05:12  PUT /usxmanager/services/INSIGHT/10.19.12.100 ...     0  \n",
       "2016-09-02 20:06:12  PUT /usxmanager/services/INSIGHT/10.19.12.100 ...     0  "
      ]
     },
     "execution_count": 61,
     "metadata": {},
     "output_type": "execute_result"
    }
   ],
   "source": [
    "print(\"Printing last 30 calls from 127.0.0.1...\")\n",
    "df[df.IP =='127.0.0.1'].tail(30)"
   ]
  },
  {
   "cell_type": "code",
   "execution_count": null,
   "metadata": {
    "collapsed": true
   },
   "outputs": [],
   "source": []
  }
 ],
 "metadata": {
  "anaconda-cloud": {},
  "kernelspec": {
   "display_name": "Python [Root]",
   "language": "python",
   "name": "Python [Root]"
  },
  "language_info": {
   "codemirror_mode": {
    "name": "ipython",
    "version": 2
   },
   "file_extension": ".py",
   "mimetype": "text/x-python",
   "name": "python",
   "nbconvert_exporter": "python",
   "pygments_lexer": "ipython2",
   "version": "2.7.12"
  }
 },
 "nbformat": 4,
 "nbformat_minor": 0
}
