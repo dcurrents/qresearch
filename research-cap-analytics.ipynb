{
 "cells": [
  {
   "cell_type": "markdown",
   "metadata": {},
   "source": [
    "### Capacity Analytics & Forecasts"
   ]
  },
  {
   "cell_type": "code",
   "execution_count": 17,
   "metadata": {
    "collapsed": false
   },
   "outputs": [],
   "source": [
    "%matplotlib inline\n",
    "\n",
    "# Check the versions of libraries\n",
    "import sys\n",
    "import scipy\n",
    "import numpy as np\n",
    "import matplotlib as mpl\n",
    "import matplotlib.pyplot as plt\n",
    "import pandas as pd\n",
    "import seaborn as sns\n",
    "\n",
    "import datetime as dt\n",
    "from matplotlib.dates import DayLocator, HourLocator, MinuteLocator, AutoDateLocator, DateFormatter\n",
    "from datetime import timedelta\n",
    "from pandas.tools.plotting import scatter_matrix\n",
    "import statsmodels.api as sm \n",
    "\n",
    "# CSS Fileb\n",
    "from IPython.core.display import HTML\n",
    "from IPython.display import Image\n",
    "\n",
    "# Style Setting\n",
    "sns.set(style=\"ticks\", color_codes=True)\n",
    "sns.set_context(\"notebook\")\n",
    "sns.set_style(\"darkgrid\")\n",
    "\n",
    "# Notebook Style Setting\n",
    "css = open('styles/style-table.css').read() + open('styles/style-notebook.css').read()\n",
    "HTML('<style>{}</style>'.format(css));\n",
    "# Set ipython's max row display\n",
    "#pd.set_option('display.max_row', 1000)\n",
    "\n",
    "# Set iPython's max column width to 50\n",
    "#pd.set_option('display.max_columns', 50)"
   ]
  },
  {
   "cell_type": "code",
   "execution_count": 18,
   "metadata": {
    "collapsed": true
   },
   "outputs": [],
   "source": [
    "# Functions....\n",
    "def read_metric_data(csv_name):\n",
    "    '''\n",
    "        Read data from a given csv file.\n",
    "        CSV format: [server_name, timestamp, value]\n",
    "        Timestamp format: YYYY-MM-DD HH:mm:SS\n",
    "        Lines begining with # are ignored as comments.\n",
    "    '''\n",
    "    \n",
    "    # Read from csv file.\n",
    "    df = pd.read_csv(csv_name, index_col=1, parse_dates=True, names=[ 'server', 'value'], comment='#', quotechar=\"'\", sep=\",\")\n",
    "    if(df.isnull().value.any()): \n",
    "        #print (\"{0} - missing data row count#: {1}\".format(csv_name, np.count_nonzero(df1.isnull().values)))\n",
    "        df = df.fillna(method='ffill', limit=2) # Fill last value upto two consequtive slots\n",
    "    print(\"{0} --- #(rows:columns): {1}\".format(csv_name, df.shape))\n",
    "    return df\n",
    "\n",
    "def get_days_forecast(df, freecapacity):\n",
    "    daysleft = 0\n",
    "    availcap = freecapacity\n",
    "    while availcap >= 0:\n",
    "        usage = np.random.choice(df, 1, replace=True)\n",
    "        availcap = availcap - usage\n",
    "        daysleft = daysleft + 1\n",
    "    return daysleft\n",
    "\n",
    "def montecarlo_days_forecast(df, freecapacity, iterations=10000):    \n",
    "    # Init\n",
    "    lastday = df.index[-1]\n",
    "    days_s = pd.Series(np.zeros(iterations, dtype=int), name='days_s')\n",
    "    dates_s = pd.Series(np.zeros(iterations), name='dates_s')\n",
    "    \n",
    "    #Forecast days & dates\n",
    "    for i in range(iterations):\n",
    "        days_s[i] = get_days_forecast(df, freecapacity)\n",
    "        dates_s[i] = lastday + timedelta(days_s[i])\n",
    "    days_s = days_s.dropna()\n",
    "    dates_s = dates_s.sort_values()\n",
    "    return (days_s, dates_s)\n",
    "\n",
    "\n",
    "def get_usage_forecast(df, days=100):\n",
    "    s = pd.Series(np.zeros(days, dtype=float), name='capacity_usage')\n",
    "    s[0] = 0\n",
    "    for i in range(1, days+1):\n",
    "        usage = np.random.choice(df, 1, replace=True)\n",
    "        s[i] = s[i-1]+usage\n",
    "    #pd.to_numeric(s, errors='coerce')\n",
    "    return s\n",
    "\n",
    "def montecarlo_usage_forecast(df, days=100, iterations=10000):\n",
    "    lastday = df.index[-1]\n",
    "    cap_index = pd.date_range(lastday, periods=days+1, freq='D')\n",
    "    cap_usage_df = pd.DataFrame(index=cap_index)\n",
    "    \n",
    "    for i in range(iterations):\n",
    "        series  = get_usage_forecast(df, days)\n",
    "        series.index = cap_index\n",
    "        cap_usage_df.loc[:, i] = series\n",
    "        \n",
    "    cap_usage_df = cap_usage_df.dropna()\n",
    "    return cap_usage_df\n"
   ]
  },
  {
   "cell_type": "code",
   "execution_count": 19,
   "metadata": {
    "collapsed": true
   },
   "outputs": [],
   "source": [
    "#Plots\n",
    "\n",
    "def create_trend_plot(xlabel, ylabel, title, df):\n",
    "    # Create line chart\n",
    "    fig = plt.figure(figsize=(14, 5))\n",
    "    ax = plt.gca()\n",
    "    ax.xaxis.set_major_locator(DayLocator(interval=7))\n",
    "    ax.xaxis.set_major_formatter(DateFormatter('%Y-%m-%d')) # TimeFormat : http://strftime.org/\n",
    "    plt.plot(df.total, color='gray', linewidth=3, linestyle= '--', label='Total Capacity')\n",
    "    plt.plot(df.used, color='steelblue', label='Capacity Used')\n",
    "    plt.xlabel(xlabel, fontweight='bold')\n",
    "    plt.ylabel(ylabel, fontweight='bold')\n",
    "    plt.title(title)\n",
    "    plt.legend(loc='best')\n",
    "    plt.gcf().autofmt_xdate()\n",
    "    return\n",
    "\n",
    "def create_shape_plots(xlabel, ylabel, title, df):\n",
    "    \n",
    "    #Create subplots\n",
    "    fig, axes = plt.subplots(nrows=1, ncols=2, figsize=(14, 4))\n",
    "    \n",
    "    # Box-Whiskers Plot\n",
    "    x = df.pivot(columns='week_days', values='diff')\n",
    "    x = x.rename(columns={0: 'Mon', 1: 'Tue', 2:'Wed', 3:'Thur', 4:'Fri', 5:'Sat', 6:'Sun'})\n",
    "    g1 = sns.violinplot(data=x, palette=sns.color_palette(), split=True, ax=axes[0])\n",
    "    g1.set_xlabel(xlabel, fontweight='bold', fontsize=12)\n",
    "    g1.set_ylabel(ylabel, fontweight='bold', fontsize=12)\n",
    "    g1.set_title(title)\n",
    "\n",
    "    # Swarm Plot\n",
    "    g2 = sns.stripplot(data=df['diff'], jitter=True, size=4, color=\".1\", linewidth=0, ax=axes[1])\n",
    "    g3 = sns.violinplot(data=df['diff'], palette=sns.color_palette(), split=True, ax=axes[1])\n",
    "    g3.set_xlabel('')\n",
    "    g3.set_ylabel(ylabel, fontweight='bold', fontsize=12)\n",
    "    g3.set_title(title)\n",
    "    return\n",
    "\n",
    "def create_ecdf_plots(ylabel, title, cap_full_days, cap_full_dates):\n",
    "    #Create subplots\n",
    "    fig, axes = plt.subplots(nrows=1, ncols=2, figsize=(14, 4))\n",
    "    \n",
    "    ecdf1 = sm.distributions.ECDF(cap_full_days)\n",
    "    x1 = np.linspace(min(cap_full_days), max(cap_full_days))\n",
    "    y1 = ecdf1(x1)\n",
    "    \n",
    "    ecdf2 = sm.distributions.ECDF(cap_full_dates)\n",
    "    x2 = cap_full_dates\n",
    "    y2 = ecdf2(x2)\n",
    "    \n",
    "    axes[0].step(x1, y1)\n",
    "    axes[0].set_title(title)\n",
    "    axes[0].set_xlabel(\"Days\", fontweight='bold')\n",
    "    axes[0].set_ylabel(ylabel, fontweight='bold')\n",
    "    \n",
    "    axes[1].step(x2, y2)\n",
    "    axes[1].set_title(title)\n",
    "    axes[1].set_xlabel(\"Date\", fontweight='bold')\n",
    "    axes[1].set_ylabel(ylabel, fontweight='bold')\n",
    "    plt.gcf().autofmt_xdate()\n",
    "    return\n",
    "\n",
    "def create_forecast_plot(xlabel, ylabel, title, df):\n",
    "    # Create line chart\n",
    "    fig = plt.figure(figsize=(14, 5))\n",
    "    ax = plt.gca()\n",
    "    #ax.xaxis.set_major_locator(DayLocator(interval=7))\n",
    "    #ax.xaxis.set_major_formatter(DateFormatter('%Y-%m-%d')) # TimeFormat : http://strftime.org/\n",
    "    plt.plot(df, color='slategray', label='Capacity Used')\n",
    "    plt.xlabel(xlabel, fontweight='bold')\n",
    "    plt.ylabel(ylabel, fontweight='bold')\n",
    "    plt.title(title)\n",
    "    plt.gcf().autofmt_xdate()\n",
    "    return\n"
   ]
  },
  {
   "cell_type": "code",
   "execution_count": 20,
   "metadata": {
    "collapsed": false
   },
   "outputs": [
    {
     "data": {
      "text/html": [
       "<script>\n",
       "code_show=true; \n",
       "function code_toggle() {\n",
       " if (code_show){\n",
       " $('div.input').hide();\n",
       " } else {\n",
       " $('div.input').show();\n",
       " }\n",
       " code_show = !code_show\n",
       "} \n",
       "$( document ).ready(code_toggle);\n",
       "</script>\n",
       "<form action=\"javascript:code_toggle()\"><input type=\"submit\" value=\"Toggle Code On/Off\"></form>"
      ],
      "text/plain": [
       "<IPython.core.display.HTML object>"
      ]
     },
     "execution_count": 20,
     "metadata": {},
     "output_type": "execute_result"
    }
   ],
   "source": [
    "HTML('''<script>\n",
    "code_show=true; \n",
    "function code_toggle() {\n",
    " if (code_show){\n",
    " $('div.input').hide();\n",
    " } else {\n",
    " $('div.input').show();\n",
    " }\n",
    " code_show = !code_show\n",
    "} \n",
    "$( document ).ready(code_toggle);\n",
    "</script>\n",
    "<form action=\"javascript:code_toggle()\"><input type=\"submit\" value=\"Toggle Code On/Off\"></form>''')"
   ]
  },
  {
   "cell_type": "code",
   "execution_count": 21,
   "metadata": {
    "collapsed": false
   },
   "outputs": [
    {
     "name": "stdout",
     "output_type": "stream",
     "text": [
      "Simulations: 100000\n"
     ]
    }
   ],
   "source": [
    "days = 180\n",
    "simulations = 50000\n",
    "print(\"Simulations: {0}\".format(simulations))"
   ]
  },
  {
   "cell_type": "markdown",
   "metadata": {},
   "source": [
    "#### Reading Data..."
   ]
  },
  {
   "cell_type": "code",
   "execution_count": null,
   "metadata": {
    "collapsed": false
   },
   "outputs": [
    {
     "name": "stdout",
     "output_type": "stream",
     "text": [
      "data\\capacity\\dogfood-v1-capused-d.txt --- #(rows:columns): (92, 2)\n",
      "data\\capacity\\dogfood-v1-captotal-d.txt --- #(rows:columns): (92, 2)\n"
     ]
    }
   ],
   "source": [
    "# Read capacity used metric\n",
    "df_used = read_metric_data(\"data\\capacity\\dogfood-v1-capused-d.txt\")\n",
    "df_used = df_used.drop(\"server\", axis=1)\n",
    "df_used = df_used.dropna()\n",
    "df_used['value'] = df_used.value/(1024*1024*1024)  # convert to GB from bytes\n",
    "df_used['diff'] = df_used.value.diff()\n",
    "df_used.round(2)\n",
    "\n",
    "# Read capacity total metric\n",
    "df_total = read_metric_data(\"data\\capacity\\dogfood-v1-captotal-d.txt\")\n",
    "df_total = df_total.dropna()\n",
    "df_total = df_total.drop('server', axis = 1)\n",
    "df_total['value'] = df_total.value/(1024*1024*1024)  # convert to GB from bytes\n",
    "df_total.round(2)\n",
    "\n",
    "df_trend = pd.DataFrame(index=df_used.index)\n",
    "df_trend['total'] = df_total.value\n",
    "df_trend['used'] = df_used.value\n",
    "df_trend.round(2)\n",
    "\n",
    "df_diff = pd.DataFrame(index= df_used.index)\n",
    "df_diff['diff'] = df_used['diff']\n",
    "df_diff = df_diff.dropna()\n",
    "df_diff['week_days'] = df_diff.index.weekday"
   ]
  },
  {
   "cell_type": "markdown",
   "metadata": {},
   "source": [
    "#### Generating Analytics..."
   ]
  },
  {
   "cell_type": "code",
   "execution_count": null,
   "metadata": {
    "collapsed": false
   },
   "outputs": [],
   "source": [
    "totalcap = df_total.value.iloc[1]\n",
    "usedcap = df_used.value.iloc[-1]\n",
    "freecapacity = totalcap - usedcap\n",
    "\n",
    "cap_full_days, cap_full_dates = montecarlo_days_forecast(df_diff['diff'], freecapacity, simulations)\n",
    "cap_usage_df = montecarlo_usage_forecast(df_diff['diff'], days, simulations)"
   ]
  },
  {
   "cell_type": "code",
   "execution_count": null,
   "metadata": {
    "collapsed": false
   },
   "outputs": [],
   "source": [
    "create_trend_plot(\"Date\", \"Capacity (GB)\", \"Capacity Usage Trend\", df_trend)\n",
    "create_shape_plots(\"\",\"Capacity (GB)\", \"Capacity Usage Patterns (Daily)\", df_diff)\n",
    "create_forecast_plot(\"Date\", \"Capacity (GB)\", \"Capacity Usage Forecast\", cap_usage_df)\n",
    "create_ecdf_plots(\"Probability\",\"Days to zero free capacity...\", cap_full_days, cap_full_dates)"
   ]
  },
  {
   "cell_type": "code",
   "execution_count": null,
   "metadata": {
    "collapsed": true
   },
   "outputs": [],
   "source": []
  }
 ],
 "metadata": {
  "anaconda-cloud": {},
  "kernelspec": {
   "display_name": "Python [Root]",
   "language": "python",
   "name": "Python [Root]"
  },
  "language_info": {
   "codemirror_mode": {
    "name": "ipython",
    "version": 2
   },
   "file_extension": ".py",
   "mimetype": "text/x-python",
   "name": "python",
   "nbconvert_exporter": "python",
   "pygments_lexer": "ipython2",
   "version": "2.7.12"
  }
 },
 "nbformat": 4,
 "nbformat_minor": 0
}
