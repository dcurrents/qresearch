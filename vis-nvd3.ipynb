{
 "cells": [
  {
   "cell_type": "code",
   "execution_count": 1,
   "metadata": {
    "collapsed": false,
    "slideshow": {
     "slide_type": "slide"
    }
   },
   "outputs": [
    {
     "name": "stdout",
     "output_type": "stream",
     "text": [
      "loaded nvd3 IPython extension\n",
      "run nvd3.ipynb.initialize_javascript() to set up the notebook\n",
      "help(nvd3.ipynb.initialize_javascript) for options\n"
     ]
    },
    {
     "data": {
      "text/html": [
       "<link media=\"all\" href=\"https://cdnjs.cloudflare.com/ajax/libs/nvd3/1.7.0/nv.d3.min.css\" type=\"text/css\"\n",
       "                        rel=\"stylesheet\"/>"
      ],
      "text/plain": [
       "<IPython.core.display.HTML object>"
      ]
     },
     "metadata": {},
     "output_type": "display_data"
    },
    {
     "data": {
      "application/javascript": [
       "$.getScript(\"https://cdnjs.cloudflare.com/ajax/libs/nvd3/1.7.0/nv.d3.min.js\")"
      ],
      "text/plain": [
       "<IPython.core.display.Javascript object>"
      ]
     },
     "metadata": {},
     "output_type": "display_data"
    },
    {
     "data": {
      "application/javascript": [
       "$.getScript(\"https://cdnjs.cloudflare.com/ajax/libs/d3/3.5.5/d3.min.js\", function() {\n",
       "                              $.getScript(\"https://cdnjs.cloudflare.com/ajax/libs/nvd3/1.7.0/nv.d3.min.js\", function() {})});"
      ],
      "text/plain": [
       "<IPython.core.display.Javascript object>"
      ]
     },
     "metadata": {},
     "output_type": "display_data"
    },
    {
     "data": {
      "text/html": [
       "<script src=\"https://cdnjs.cloudflare.com/ajax/libs/d3/3.5.5/d3.min.js\"></script>"
      ],
      "text/plain": [
       "<IPython.core.display.HTML object>"
      ]
     },
     "metadata": {},
     "output_type": "display_data"
    },
    {
     "data": {
      "text/html": [
       "<script src=\"https://cdnjs.cloudflare.com/ajax/libs/nvd3/1.7.0/nv.d3.min.js\"></script>"
      ],
      "text/plain": [
       "<IPython.core.display.HTML object>"
      ]
     },
     "metadata": {},
     "output_type": "display_data"
    }
   ],
   "source": [
    "import random\n",
    "from IPython import display as d\n",
    "import nvd3\n",
    "nvd3.ipynb.initialize_javascript(use_remote=True)\n",
    "\n",
    "import time\n",
    "import datetime\n",
    "\n",
    "start_time = int(time.mktime(datetime.datetime(2012, 6, 1).timetuple()) * 1000)"
   ]
  },
  {
   "cell_type": "code",
   "execution_count": 2,
   "metadata": {
    "collapsed": false,
    "slideshow": {
     "slide_type": "slide"
    }
   },
   "outputs": [
    {
     "data": {
      "text/html": [
       "<link media=\"all\" href=\"https://cdnjs.cloudflare.com/ajax/libs/nvd3/1.7.0/nv.d3.min.css\" type=\"text/css\"\n",
       "                        rel=\"stylesheet\"/>"
      ],
      "text/plain": [
       "<IPython.core.display.HTML object>"
      ]
     },
     "metadata": {},
     "output_type": "display_data"
    },
    {
     "data": {
      "application/javascript": [
       "$.getScript(\"https://cdnjs.cloudflare.com/ajax/libs/nvd3/1.7.0/nv.d3.min.js\")"
      ],
      "text/plain": [
       "<IPython.core.display.Javascript object>"
      ]
     },
     "metadata": {},
     "output_type": "display_data"
    },
    {
     "data": {
      "application/javascript": [
       "$.getScript(\"https://cdnjs.cloudflare.com/ajax/libs/d3/3.5.5/d3.min.js\", function() {\n",
       "                              $.getScript(\"https://cdnjs.cloudflare.com/ajax/libs/nvd3/1.7.0/nv.d3.min.js\", function() {})});"
      ],
      "text/plain": [
       "<IPython.core.display.Javascript object>"
      ]
     },
     "metadata": {},
     "output_type": "display_data"
    },
    {
     "data": {
      "text/html": [
       "<script src=\"https://cdnjs.cloudflare.com/ajax/libs/d3/3.5.5/d3.min.js\"></script>"
      ],
      "text/plain": [
       "<IPython.core.display.HTML object>"
      ]
     },
     "metadata": {},
     "output_type": "display_data"
    },
    {
     "data": {
      "text/html": [
       "<script src=\"https://cdnjs.cloudflare.com/ajax/libs/nvd3/1.7.0/nv.d3.min.js\"></script>"
      ],
      "text/plain": [
       "<IPython.core.display.HTML object>"
      ]
     },
     "metadata": {},
     "output_type": "display_data"
    }
   ],
   "source": [
    "#help(nvd3.ipynb.initialize_javascript)\n",
    "nvd3.ipynb.initialize_javascript(use_remote=True)"
   ]
  },
  {
   "cell_type": "code",
   "execution_count": 4,
   "metadata": {
    "collapsed": false,
    "slideshow": {
     "slide_type": "slide"
    }
   },
   "outputs": [
    {
     "data": {
      "text/html": [
       "<!DOCTYPE html>\n",
       "<html lang=\"en\">\n",
       "    <head>\n",
       "        <meta charset=\"utf-8\" />\n",
       "        <link href=\"https://cdnjs.cloudflare.com/ajax/libs/nvd3/1.7.0/nv.d3.min.css\" rel=\"stylesheet\" />\n",
       "        <script src=\"https://cdnjs.cloudflare.com/ajax/libs/d3/3.5.5/d3.min.js\"></script>\n",
       "        <script src=\"https://cdnjs.cloudflare.com/ajax/libs/nvd3/1.7.0/nv.d3.min.js\"></script>\n",
       "    </head>\n",
       "    <body>\n",
       "        \n",
       "    <div id=\"stackedareachart\"><svg style=\"width:750px;height:350px;\"></svg></div>\n",
       "\n",
       "\n",
       "    <script>\n",
       "\n",
       "\n",
       "            data_stackedareachart=[{\"values\": [{\"y\": 0, \"x\": 0}, {\"y\": 8, \"x\": 1}, {\"y\": 12, \"x\": 2}, {\"y\": 9, \"x\": 3}, {\"y\": 36, \"x\": 4}, {\"y\": 25, \"x\": 5}, {\"y\": 6, \"x\": 6}, {\"y\": 7, \"x\": 7}, {\"y\": 48, \"x\": 8}, {\"y\": 27, \"x\": 9}, {\"y\": 10, \"x\": 10}, {\"y\": 77, \"x\": 11}, {\"y\": 108, \"x\": 12}, {\"y\": 13, \"x\": 13}, {\"y\": 14, \"x\": 14}, {\"y\": 30, \"x\": 15}, {\"y\": 16, \"x\": 16}, {\"y\": 34, \"x\": 17}, {\"y\": 180, \"x\": 18}, {\"y\": 76, \"x\": 19}, {\"y\": 160, \"x\": 20}, {\"y\": 210, \"x\": 21}, {\"y\": 22, \"x\": 22}, {\"y\": 46, \"x\": 23}, {\"y\": 72, \"x\": 24}, {\"y\": 50, \"x\": 25}, {\"y\": 208, \"x\": 26}, {\"y\": 162, \"x\": 27}, {\"y\": 28, \"x\": 28}, {\"y\": 232, \"x\": 29}, {\"y\": 30, \"x\": 30}, {\"y\": 124, \"x\": 31}, {\"y\": 320, \"x\": 32}, {\"y\": 297, \"x\": 33}, {\"y\": 204, \"x\": 34}, {\"y\": 315, \"x\": 35}, {\"y\": 180, \"x\": 36}, {\"y\": 37, \"x\": 37}, {\"y\": 342, \"x\": 38}, {\"y\": 39, \"x\": 39}, {\"y\": 280, \"x\": 40}, {\"y\": 205, \"x\": 41}, {\"y\": 420, \"x\": 42}, {\"y\": 43, \"x\": 43}, {\"y\": 308, \"x\": 44}, {\"y\": 45, \"x\": 45}, {\"y\": 46, \"x\": 46}, {\"y\": 47, \"x\": 47}, {\"y\": 240, \"x\": 48}, {\"y\": 392, \"x\": 49}], \"key\": \"serie 1\", \"yAxis\": \"1\"}, {\"values\": [{\"y\": 0, \"x\": 0}, {\"y\": 16, \"x\": 1}, {\"y\": 24, \"x\": 2}, {\"y\": 18, \"x\": 3}, {\"y\": 72, \"x\": 4}, {\"y\": 50, \"x\": 5}, {\"y\": 12, \"x\": 6}, {\"y\": 14, \"x\": 7}, {\"y\": 96, \"x\": 8}, {\"y\": 54, \"x\": 9}, {\"y\": 20, \"x\": 10}, {\"y\": 154, \"x\": 11}, {\"y\": 216, \"x\": 12}, {\"y\": 26, \"x\": 13}, {\"y\": 28, \"x\": 14}, {\"y\": 60, \"x\": 15}, {\"y\": 32, \"x\": 16}, {\"y\": 68, \"x\": 17}, {\"y\": 360, \"x\": 18}, {\"y\": 152, \"x\": 19}, {\"y\": 320, \"x\": 20}, {\"y\": 420, \"x\": 21}, {\"y\": 44, \"x\": 22}, {\"y\": 92, \"x\": 23}, {\"y\": 144, \"x\": 24}, {\"y\": 100, \"x\": 25}, {\"y\": 416, \"x\": 26}, {\"y\": 324, \"x\": 27}, {\"y\": 56, \"x\": 28}, {\"y\": 464, \"x\": 29}, {\"y\": 60, \"x\": 30}, {\"y\": 248, \"x\": 31}, {\"y\": 640, \"x\": 32}, {\"y\": 594, \"x\": 33}, {\"y\": 408, \"x\": 34}, {\"y\": 630, \"x\": 35}, {\"y\": 360, \"x\": 36}, {\"y\": 74, \"x\": 37}, {\"y\": 684, \"x\": 38}, {\"y\": 78, \"x\": 39}, {\"y\": 560, \"x\": 40}, {\"y\": 410, \"x\": 41}, {\"y\": 840, \"x\": 42}, {\"y\": 86, \"x\": 43}, {\"y\": 616, \"x\": 44}, {\"y\": 90, \"x\": 45}, {\"y\": 92, \"x\": 46}, {\"y\": 94, \"x\": 47}, {\"y\": 480, \"x\": 48}, {\"y\": 784, \"x\": 49}], \"key\": \"serie 2\", \"yAxis\": \"1\"}, {\"values\": [{\"y\": 0, \"x\": 0}, {\"y\": 40, \"x\": 1}, {\"y\": 60, \"x\": 2}, {\"y\": 45, \"x\": 3}, {\"y\": 180, \"x\": 4}, {\"y\": 125, \"x\": 5}, {\"y\": 30, \"x\": 6}, {\"y\": 35, \"x\": 7}, {\"y\": 240, \"x\": 8}, {\"y\": 135, \"x\": 9}, {\"y\": 50, \"x\": 10}, {\"y\": 385, \"x\": 11}, {\"y\": 540, \"x\": 12}, {\"y\": 65, \"x\": 13}, {\"y\": 70, \"x\": 14}, {\"y\": 150, \"x\": 15}, {\"y\": 80, \"x\": 16}, {\"y\": 170, \"x\": 17}, {\"y\": 900, \"x\": 18}, {\"y\": 380, \"x\": 19}, {\"y\": 800, \"x\": 20}, {\"y\": 1050, \"x\": 21}, {\"y\": 110, \"x\": 22}, {\"y\": 230, \"x\": 23}, {\"y\": 360, \"x\": 24}, {\"y\": 250, \"x\": 25}, {\"y\": 1040, \"x\": 26}, {\"y\": 810, \"x\": 27}, {\"y\": 140, \"x\": 28}, {\"y\": 1160, \"x\": 29}, {\"y\": 150, \"x\": 30}, {\"y\": 620, \"x\": 31}, {\"y\": 1600, \"x\": 32}, {\"y\": 1485, \"x\": 33}, {\"y\": 1020, \"x\": 34}, {\"y\": 1575, \"x\": 35}, {\"y\": 900, \"x\": 36}, {\"y\": 185, \"x\": 37}, {\"y\": 1710, \"x\": 38}, {\"y\": 195, \"x\": 39}, {\"y\": 1400, \"x\": 40}, {\"y\": 1025, \"x\": 41}, {\"y\": 2100, \"x\": 42}, {\"y\": 215, \"x\": 43}, {\"y\": 1540, \"x\": 44}, {\"y\": 225, \"x\": 45}, {\"y\": 230, \"x\": 46}, {\"y\": 235, \"x\": 47}, {\"y\": 1200, \"x\": 48}, {\"y\": 1960, \"x\": 49}], \"key\": \"serie 3\", \"yAxis\": \"1\"}];\n",
       "\n",
       "    nv.addGraph(function() {\n",
       "        var chart = nv.models.stackedAreaChart().useInteractiveGuideline(true);\n",
       "\n",
       "        chart.margin({top: 30, right: 60, bottom: 20, left: 60});\n",
       "\n",
       "        var datum = data_stackedareachart;\n",
       "\n",
       "\n",
       "\n",
       "\n",
       "\n",
       "            chart.xAxis\n",
       "                .tickFormat(d3.format(',.2f'));\n",
       "            chart.yAxis\n",
       "                .tickFormat(d3.format(',.2f'));\n",
       "\n",
       "\n",
       "      chart.showLegend(true);\n",
       "\n",
       "\n",
       "\n",
       "        \n",
       "\n",
       "\n",
       "        d3.select('#stackedareachart svg')\n",
       "            .datum(datum)\n",
       "            .transition().duration(500)\n",
       "            .attr('width', 750)\n",
       "            .attr('height', 350)\n",
       "            .call(chart);\n",
       "\n",
       "\n",
       "    });\n",
       "\n",
       "\n",
       "\n",
       "    </script>\n",
       "\n",
       "    </body>\n",
       "</html>"
      ],
      "text/plain": [
       "<nvd3.stackedAreaChart.stackedAreaChart at 0x1041d80d0>"
      ]
     },
     "execution_count": 4,
     "metadata": {},
     "output_type": "execute_result"
    }
   ],
   "source": [
    "type = 'stackedAreaChart'\n",
    "\n",
    "chart2 = nvd3.stackedAreaChart(name=type,height=350,width=750, \n",
    "                               use_interactive_guideline=True)\n",
    "nb_element = 50\n",
    "\n",
    "xdata = range(nb_element)\n",
    "ydata = [i * random.randint(1, 10) for i in range(nb_element)]\n",
    "ydata2 = [x * 2 for x in ydata]\n",
    "ydata3 = [x * 5 for x in ydata]\n",
    "\n",
    "chart2.add_serie(name=\"serie 1\", y=ydata, x=xdata)\n",
    "chart2.add_serie(name=\"serie 2\", y=ydata2, x=xdata)\n",
    "chart2.add_serie(name=\"serie 3\", y=ydata3, x=xdata)\n",
    "chart2\n"
   ]
  },
  {
   "cell_type": "code",
   "execution_count": 5,
   "metadata": {
    "collapsed": false
   },
   "outputs": [
    {
     "data": {
      "text/html": [
       "<!DOCTYPE html>\n",
       "<html lang=\"en\">\n",
       "    <head>\n",
       "        <meta charset=\"utf-8\" />\n",
       "        <link href=\"https://cdnjs.cloudflare.com/ajax/libs/nvd3/1.7.0/nv.d3.min.css\" rel=\"stylesheet\" />\n",
       "        <script src=\"https://cdnjs.cloudflare.com/ajax/libs/d3/3.5.5/d3.min.js\"></script>\n",
       "        <script src=\"https://cdnjs.cloudflare.com/ajax/libs/nvd3/1.7.0/nv.d3.min.js\"></script>\n",
       "    </head>\n",
       "    <body>\n",
       "        \n",
       "    <div id=\"scatterchart\"><svg style=\"width:600px;height:300px;\"></svg></div>\n",
       "\n",
       "\n",
       "    <script>\n",
       "\n",
       "\n",
       "\n",
       "            data_scatterchart=[{\"values\": [{\"y\": 0, \"x\": 8, \"shape\": \"circle\", \"size\": \"1\"}, {\"y\": 6, \"x\": 6, \"shape\": \"circle\", \"size\": \"1\"}, {\"y\": 8, \"x\": 9, \"shape\": \"circle\", \"size\": \"1\"}, {\"y\": 12, \"x\": 9, \"shape\": \"circle\", \"size\": \"1\"}, {\"y\": 4, \"x\": 13, \"shape\": \"circle\", \"size\": \"1\"}, {\"y\": 40, \"x\": 14, \"shape\": \"circle\", \"size\": \"1\"}, {\"y\": 36, \"x\": 7, \"shape\": \"circle\", \"size\": \"1\"}, {\"y\": 35, \"x\": 8, \"shape\": \"circle\", \"size\": \"1\"}, {\"y\": 40, \"x\": 16, \"shape\": \"circle\", \"size\": \"1\"}, {\"y\": 90, \"x\": 10, \"shape\": \"circle\", \"size\": \"1\"}, {\"y\": 20, \"x\": 17, \"shape\": \"circle\", \"size\": \"1\"}, {\"y\": 66, \"x\": 14, \"shape\": \"circle\", \"size\": \"1\"}, {\"y\": 48, \"x\": 14, \"shape\": \"circle\", \"size\": \"1\"}, {\"y\": 26, \"x\": 20, \"shape\": \"circle\", \"size\": \"1\"}, {\"y\": 28, \"x\": 24, \"shape\": \"circle\", \"size\": \"1\"}, {\"y\": 30, \"x\": 21, \"shape\": \"circle\", \"size\": \"1\"}, {\"y\": 160, \"x\": 22, \"shape\": \"circle\", \"size\": \"1\"}, {\"y\": 136, \"x\": 27, \"shape\": \"circle\", \"size\": \"1\"}, {\"y\": 108, \"x\": 26, \"shape\": \"circle\", \"size\": \"1\"}, {\"y\": 19, \"x\": 21, \"shape\": \"circle\", \"size\": \"1\"}, {\"y\": 120, \"x\": 22, \"shape\": \"circle\", \"size\": \"1\"}, {\"y\": 21, \"x\": 26, \"shape\": \"circle\", \"size\": \"1\"}, {\"y\": 44, \"x\": 31, \"shape\": \"circle\", \"size\": \"1\"}, {\"y\": 23, \"x\": 32, \"shape\": \"circle\", \"size\": \"1\"}, {\"y\": 144, \"x\": 31, \"shape\": \"circle\", \"size\": \"1\"}, {\"y\": 250, \"x\": 30, \"shape\": \"circle\", \"size\": \"1\"}, {\"y\": 104, \"x\": 36, \"shape\": \"circle\", \"size\": \"1\"}, {\"y\": 27, \"x\": 36, \"shape\": \"circle\", \"size\": \"1\"}, {\"y\": 84, \"x\": 34, \"shape\": \"circle\", \"size\": \"1\"}, {\"y\": 29, \"x\": 31, \"shape\": \"circle\", \"size\": \"1\"}, {\"y\": 120, \"x\": 36, \"shape\": \"circle\", \"size\": \"1\"}, {\"y\": 124, \"x\": 32, \"shape\": \"circle\", \"size\": \"1\"}, {\"y\": 288, \"x\": 36, \"shape\": \"circle\", \"size\": \"1\"}, {\"y\": 198, \"x\": 39, \"shape\": \"circle\", \"size\": \"1\"}, {\"y\": 306, \"x\": 40, \"shape\": \"circle\", \"size\": \"1\"}, {\"y\": 245, \"x\": 42, \"shape\": \"circle\", \"size\": \"1\"}, {\"y\": 252, \"x\": 41, \"shape\": \"circle\", \"size\": \"1\"}, {\"y\": 185, \"x\": 46, \"shape\": \"circle\", \"size\": \"1\"}, {\"y\": 342, \"x\": 40, \"shape\": \"circle\", \"size\": \"1\"}, {\"y\": 234, \"x\": 40, \"shape\": \"circle\", \"size\": \"1\"}, {\"y\": 40, \"x\": 50, \"shape\": \"circle\", \"size\": \"1\"}, {\"y\": 328, \"x\": 49, \"shape\": \"circle\", \"size\": \"1\"}, {\"y\": 84, \"x\": 45, \"shape\": \"circle\", \"size\": \"1\"}, {\"y\": 301, \"x\": 53, \"shape\": \"circle\", \"size\": \"1\"}, {\"y\": 440, \"x\": 52, \"shape\": \"circle\", \"size\": \"1\"}, {\"y\": 360, \"x\": 54, \"shape\": \"circle\", \"size\": \"1\"}, {\"y\": 184, \"x\": 48, \"shape\": \"circle\", \"size\": \"1\"}, {\"y\": 141, \"x\": 51, \"shape\": \"circle\", \"size\": \"1\"}, {\"y\": 432, \"x\": 49, \"shape\": \"circle\", \"size\": \"1\"}, {\"y\": 147, \"x\": 57, \"shape\": \"circle\", \"size\": \"1\"}], \"key\": \"serie 1\", \"yAxis\": \"1\"}, {\"values\": [{\"y\": 0, \"x\": 8, \"shape\": \"cross\", \"size\": \"10\"}, {\"y\": 12, \"x\": 6, \"shape\": \"cross\", \"size\": \"10\"}, {\"y\": 16, \"x\": 9, \"shape\": \"cross\", \"size\": \"10\"}, {\"y\": 24, \"x\": 9, \"shape\": \"cross\", \"size\": \"10\"}, {\"y\": 8, \"x\": 13, \"shape\": \"cross\", \"size\": \"10\"}, {\"y\": 80, \"x\": 14, \"shape\": \"cross\", \"size\": \"10\"}, {\"y\": 72, \"x\": 7, \"shape\": \"cross\", \"size\": \"10\"}, {\"y\": 70, \"x\": 8, \"shape\": \"cross\", \"size\": \"10\"}, {\"y\": 80, \"x\": 16, \"shape\": \"cross\", \"size\": \"10\"}, {\"y\": 180, \"x\": 10, \"shape\": \"cross\", \"size\": \"10\"}, {\"y\": 40, \"x\": 17, \"shape\": \"cross\", \"size\": \"10\"}, {\"y\": 132, \"x\": 14, \"shape\": \"cross\", \"size\": \"10\"}, {\"y\": 96, \"x\": 14, \"shape\": \"cross\", \"size\": \"10\"}, {\"y\": 52, \"x\": 20, \"shape\": \"cross\", \"size\": \"10\"}, {\"y\": 56, \"x\": 24, \"shape\": \"cross\", \"size\": \"10\"}, {\"y\": 60, \"x\": 21, \"shape\": \"cross\", \"size\": \"10\"}, {\"y\": 320, \"x\": 22, \"shape\": \"cross\", \"size\": \"10\"}, {\"y\": 272, \"x\": 27, \"shape\": \"cross\", \"size\": \"10\"}, {\"y\": 216, \"x\": 26, \"shape\": \"cross\", \"size\": \"10\"}, {\"y\": 38, \"x\": 21, \"shape\": \"cross\", \"size\": \"10\"}, {\"y\": 240, \"x\": 22, \"shape\": \"cross\", \"size\": \"10\"}, {\"y\": 42, \"x\": 26, \"shape\": \"cross\", \"size\": \"10\"}, {\"y\": 88, \"x\": 31, \"shape\": \"cross\", \"size\": \"10\"}, {\"y\": 46, \"x\": 32, \"shape\": \"cross\", \"size\": \"10\"}, {\"y\": 288, \"x\": 31, \"shape\": \"cross\", \"size\": \"10\"}, {\"y\": 500, \"x\": 30, \"shape\": \"cross\", \"size\": \"10\"}, {\"y\": 208, \"x\": 36, \"shape\": \"cross\", \"size\": \"10\"}, {\"y\": 54, \"x\": 36, \"shape\": \"cross\", \"size\": \"10\"}, {\"y\": 168, \"x\": 34, \"shape\": \"cross\", \"size\": \"10\"}, {\"y\": 58, \"x\": 31, \"shape\": \"cross\", \"size\": \"10\"}, {\"y\": 240, \"x\": 36, \"shape\": \"cross\", \"size\": \"10\"}, {\"y\": 248, \"x\": 32, \"shape\": \"cross\", \"size\": \"10\"}, {\"y\": 576, \"x\": 36, \"shape\": \"cross\", \"size\": \"10\"}, {\"y\": 396, \"x\": 39, \"shape\": \"cross\", \"size\": \"10\"}, {\"y\": 612, \"x\": 40, \"shape\": \"cross\", \"size\": \"10\"}, {\"y\": 490, \"x\": 42, \"shape\": \"cross\", \"size\": \"10\"}, {\"y\": 504, \"x\": 41, \"shape\": \"cross\", \"size\": \"10\"}, {\"y\": 370, \"x\": 46, \"shape\": \"cross\", \"size\": \"10\"}, {\"y\": 684, \"x\": 40, \"shape\": \"cross\", \"size\": \"10\"}, {\"y\": 468, \"x\": 40, \"shape\": \"cross\", \"size\": \"10\"}, {\"y\": 80, \"x\": 50, \"shape\": \"cross\", \"size\": \"10\"}, {\"y\": 656, \"x\": 49, \"shape\": \"cross\", \"size\": \"10\"}, {\"y\": 168, \"x\": 45, \"shape\": \"cross\", \"size\": \"10\"}, {\"y\": 602, \"x\": 53, \"shape\": \"cross\", \"size\": \"10\"}, {\"y\": 880, \"x\": 52, \"shape\": \"cross\", \"size\": \"10\"}, {\"y\": 720, \"x\": 54, \"shape\": \"cross\", \"size\": \"10\"}, {\"y\": 368, \"x\": 48, \"shape\": \"cross\", \"size\": \"10\"}, {\"y\": 282, \"x\": 51, \"shape\": \"cross\", \"size\": \"10\"}, {\"y\": 864, \"x\": 49, \"shape\": \"cross\", \"size\": \"10\"}, {\"y\": 294, \"x\": 57, \"shape\": \"cross\", \"size\": \"10\"}], \"key\": \"serie 2\", \"yAxis\": \"1\"}, {\"values\": [{\"y\": 0, \"x\": 8, \"shape\": \"triangle-up\", \"size\": \"100\"}, {\"y\": 30, \"x\": 6, \"shape\": \"triangle-up\", \"size\": \"100\"}, {\"y\": 40, \"x\": 9, \"shape\": \"triangle-up\", \"size\": \"100\"}, {\"y\": 60, \"x\": 9, \"shape\": \"triangle-up\", \"size\": \"100\"}, {\"y\": 20, \"x\": 13, \"shape\": \"triangle-up\", \"size\": \"100\"}, {\"y\": 200, \"x\": 14, \"shape\": \"triangle-up\", \"size\": \"100\"}, {\"y\": 180, \"x\": 7, \"shape\": \"triangle-up\", \"size\": \"100\"}, {\"y\": 175, \"x\": 8, \"shape\": \"triangle-up\", \"size\": \"100\"}, {\"y\": 200, \"x\": 16, \"shape\": \"triangle-up\", \"size\": \"100\"}, {\"y\": 450, \"x\": 10, \"shape\": \"triangle-up\", \"size\": \"100\"}, {\"y\": 100, \"x\": 17, \"shape\": \"triangle-up\", \"size\": \"100\"}, {\"y\": 330, \"x\": 14, \"shape\": \"triangle-up\", \"size\": \"100\"}, {\"y\": 240, \"x\": 14, \"shape\": \"triangle-up\", \"size\": \"100\"}, {\"y\": 130, \"x\": 20, \"shape\": \"triangle-up\", \"size\": \"100\"}, {\"y\": 140, \"x\": 24, \"shape\": \"triangle-up\", \"size\": \"100\"}, {\"y\": 150, \"x\": 21, \"shape\": \"triangle-up\", \"size\": \"100\"}, {\"y\": 800, \"x\": 22, \"shape\": \"triangle-up\", \"size\": \"100\"}, {\"y\": 680, \"x\": 27, \"shape\": \"triangle-up\", \"size\": \"100\"}, {\"y\": 540, \"x\": 26, \"shape\": \"triangle-up\", \"size\": \"100\"}, {\"y\": 95, \"x\": 21, \"shape\": \"triangle-up\", \"size\": \"100\"}, {\"y\": 600, \"x\": 22, \"shape\": \"triangle-up\", \"size\": \"100\"}, {\"y\": 105, \"x\": 26, \"shape\": \"triangle-up\", \"size\": \"100\"}, {\"y\": 220, \"x\": 31, \"shape\": \"triangle-up\", \"size\": \"100\"}, {\"y\": 115, \"x\": 32, \"shape\": \"triangle-up\", \"size\": \"100\"}, {\"y\": 720, \"x\": 31, \"shape\": \"triangle-up\", \"size\": \"100\"}, {\"y\": 1250, \"x\": 30, \"shape\": \"triangle-up\", \"size\": \"100\"}, {\"y\": 520, \"x\": 36, \"shape\": \"triangle-up\", \"size\": \"100\"}, {\"y\": 135, \"x\": 36, \"shape\": \"triangle-up\", \"size\": \"100\"}, {\"y\": 420, \"x\": 34, \"shape\": \"triangle-up\", \"size\": \"100\"}, {\"y\": 145, \"x\": 31, \"shape\": \"triangle-up\", \"size\": \"100\"}, {\"y\": 600, \"x\": 36, \"shape\": \"triangle-up\", \"size\": \"100\"}, {\"y\": 620, \"x\": 32, \"shape\": \"triangle-up\", \"size\": \"100\"}, {\"y\": 1440, \"x\": 36, \"shape\": \"triangle-up\", \"size\": \"100\"}, {\"y\": 990, \"x\": 39, \"shape\": \"triangle-up\", \"size\": \"100\"}, {\"y\": 1530, \"x\": 40, \"shape\": \"triangle-up\", \"size\": \"100\"}, {\"y\": 1225, \"x\": 42, \"shape\": \"triangle-up\", \"size\": \"100\"}, {\"y\": 1260, \"x\": 41, \"shape\": \"triangle-up\", \"size\": \"100\"}, {\"y\": 925, \"x\": 46, \"shape\": \"triangle-up\", \"size\": \"100\"}, {\"y\": 1710, \"x\": 40, \"shape\": \"triangle-up\", \"size\": \"100\"}, {\"y\": 1170, \"x\": 40, \"shape\": \"triangle-up\", \"size\": \"100\"}, {\"y\": 200, \"x\": 50, \"shape\": \"triangle-up\", \"size\": \"100\"}, {\"y\": 1640, \"x\": 49, \"shape\": \"triangle-up\", \"size\": \"100\"}, {\"y\": 420, \"x\": 45, \"shape\": \"triangle-up\", \"size\": \"100\"}, {\"y\": 1505, \"x\": 53, \"shape\": \"triangle-up\", \"size\": \"100\"}, {\"y\": 2200, \"x\": 52, \"shape\": \"triangle-up\", \"size\": \"100\"}, {\"y\": 1800, \"x\": 54, \"shape\": \"triangle-up\", \"size\": \"100\"}, {\"y\": 920, \"x\": 48, \"shape\": \"triangle-up\", \"size\": \"100\"}, {\"y\": 705, \"x\": 51, \"shape\": \"triangle-up\", \"size\": \"100\"}, {\"y\": 2160, \"x\": 49, \"shape\": \"triangle-up\", \"size\": \"100\"}, {\"y\": 735, \"x\": 57, \"shape\": \"triangle-up\", \"size\": \"100\"}], \"key\": \"serie 3\", \"yAxis\": \"1\"}];\n",
       "\n",
       "\n",
       "        nv.addGraph(function() {\n",
       "        var chart = nv.models.scatterChart();\n",
       "\n",
       "        chart.margin({top: 30, right: 60, bottom: 20, left: 60});\n",
       "\n",
       "        var datum = data_scatterchart;\n",
       "\n",
       "\n",
       "\n",
       "                chart.xAxis\n",
       "                .tickFormat(d3.format(',.02f'));\n",
       "            chart.yAxis\n",
       "                .tickFormat(d3.format(',.02f'));\n",
       "\n",
       "\n",
       "\n",
       "          chart.showLegend(true);\n",
       "\n",
       "\n",
       "    \n",
       "\n",
       "        \n",
       "\n",
       "\n",
       "\n",
       "\n",
       "    chart\n",
       "        .showDistX(true)\n",
       "        .showDistY(true)\n",
       "        .color(d3.scale.category10().range());\n",
       "\n",
       "            d3.select('#scatterchart svg')\n",
       "            .datum(datum)\n",
       "            .transition().duration(500)\n",
       "            .attr('width', 600)\n",
       "            .attr('height', 300)\n",
       "            .call(chart);\n",
       "\n",
       "\n",
       "        });\n",
       "\n",
       "\n",
       "\n",
       "    </script>\n",
       "\n",
       "    </body>\n",
       "</html>"
      ],
      "text/plain": [
       "<nvd3.scatterChart.scatterChart at 0x1041c2150>"
      ]
     },
     "execution_count": 5,
     "metadata": {},
     "output_type": "execute_result"
    }
   ],
   "source": [
    "type = 'ScatterChart'\n",
    "\n",
    "chart3 = nvd3.scatterChart(name=type, width=600, height=300, x_is_date=False)\n",
    "nb_element = 50\n",
    "\n",
    "xdata = [i + random.randint(1, 10) for i in range(nb_element)]\n",
    "ydata = [i * random.randint(1, 10) for i in range(nb_element)]\n",
    "ydata2 = [x * 2 for x in ydata]\n",
    "ydata3 = [x * 5 for x in ydata]\n",
    "\n",
    "kwargs1 = {'shape': 'circle', 'size': '1'}\n",
    "kwargs2 = {'shape': 'cross', 'size': '10'}\n",
    "kwargs3 = {'shape': 'triangle-up', 'size': '100'}\n",
    "\n",
    "extra_serie = {\"tooltip\": {\"y_start\": \"\", \"y_end\": \" calls\"}}\n",
    "chart3.add_serie(name=\"serie 1\", y=ydata, x=xdata, extra=extra_serie, **kwargs1)\n",
    "chart3.add_serie(name=\"serie 2\", y=ydata2, x=xdata, extra=extra_serie, **kwargs2)\n",
    "chart3.add_serie(name=\"serie 3\", y=ydata3, x=xdata, extra=extra_serie, **kwargs3)\n",
    "chart3\n"
   ]
  },
  {
   "cell_type": "code",
   "execution_count": 6,
   "metadata": {
    "collapsed": false
   },
   "outputs": [
    {
     "data": {
      "text/html": [
       "<!DOCTYPE html>\n",
       "<html lang=\"en\">\n",
       "    <head>\n",
       "        <meta charset=\"utf-8\" />\n",
       "        <link href=\"https://cdnjs.cloudflare.com/ajax/libs/nvd3/1.7.0/nv.d3.min.css\" rel=\"stylesheet\" />\n",
       "        <script src=\"https://cdnjs.cloudflare.com/ajax/libs/d3/3.5.5/d3.min.js\"></script>\n",
       "        <script src=\"https://cdnjs.cloudflare.com/ajax/libs/nvd3/1.7.0/nv.d3.min.js\"></script>\n",
       "    </head>\n",
       "    <body>\n",
       "        \n",
       "    \n",
       "\n",
       "<h2>pieChart</h2>\n",
       "\n",
       "<div id=\"piechart\"><svg style=\"width:750px;height:350px;\"></svg></div>\n",
       "\n",
       "\n",
       "    <script>\n",
       "\n",
       "\n",
       "\n",
       "    data_piechart=[{\"values\": [{\"value\": 3, \"label\": \"Orange\"}, {\"value\": 4, \"label\": \"Banana\"}, {\"value\": 0, \"label\": \"Pear\"}, {\"value\": 1, \"label\": \"Kiwi\"}, {\"value\": 5, \"label\": \"Apple\"}, {\"value\": 7, \"label\": \"Strawberry\"}, {\"value\": 3, \"label\": \"Pineapple\"}], \"key\": \"Serie 1\"}];\n",
       "\n",
       "    nv.addGraph(function() {\n",
       "        var chart = nv.models.pieChart();\n",
       "        chart.margin({top: 30, right: 60, bottom: 20, left: 60});\n",
       "        var datum = data_piechart[0].values;\n",
       "\n",
       "        chart.color(d3.scale.category20c().range());\n",
       "\n",
       "    chart.tooltipContent(function(key, y, e, graph) {\n",
       "          var x = String(key);\n",
       "              var y =  String(y)  + ' cal';\n",
       "\n",
       "              tooltip_str = '<center><b>'+x+'</b></center>' + y;\n",
       "              return tooltip_str;\n",
       "              });\n",
       "        chart.showLabels(true);\n",
       "\n",
       "            chart.donut(false);\n",
       "\n",
       "    chart.showLegend(true);\n",
       "\n",
       "\n",
       "\n",
       "\n",
       "        chart\n",
       "            .x(function(d) { return d.label })\n",
       "            .y(function(d) { return d.value });\n",
       "\n",
       "        chart.width(750);\n",
       "\n",
       "        chart.height(350);\n",
       "\n",
       "\n",
       "            d3.select('#piechart svg')\n",
       "            .datum(datum)\n",
       "            .transition().duration(500)\n",
       "            .attr('width', 750)\n",
       "            .attr('height', 350)\n",
       "            .call(chart);\n",
       "\n",
       "\n",
       "        });\n",
       "\n",
       "\n",
       "\n",
       "    </script>\n",
       "\n",
       "    </body>\n",
       "</html>"
      ],
      "text/plain": [
       "<nvd3.pieChart.pieChart at 0x1041d89d0>"
      ]
     },
     "execution_count": 6,
     "metadata": {},
     "output_type": "execute_result"
    }
   ],
   "source": [
    "type = 'pieChart'\n",
    "chart4 = nvd3.pieChart(name=type, color_category='category20c', height=350, width=750)\n",
    "chart4.set_containerheader(\"\\n\\n<h2>\" + type + \"</h2>\\n\\n\")\n",
    "\n",
    "#Create the keys\n",
    "xdata = [\"Orange\", \"Banana\", \"Pear\", \"Kiwi\", \"Apple\", \"Strawberry\", \"Pineapple\"]\n",
    "ydata = [3, 4, 0, 1, 5, 7, 3]\n",
    "\n",
    "#Add the serie\n",
    "extra_serie = {\"tooltip\": {\"y_start\": \"\", \"y_end\": \" cal\"}}\n",
    "chart4.add_serie(y=ydata, x=xdata, extra=extra_serie)\n",
    "chart4\n"
   ]
  },
  {
   "cell_type": "code",
   "execution_count": 7,
   "metadata": {
    "collapsed": false
   },
   "outputs": [
    {
     "data": {
      "text/html": [
       "<!DOCTYPE html>\n",
       "<html lang=\"en\">\n",
       "    <head>\n",
       "        <meta charset=\"utf-8\" />\n",
       "        <link href=\"https://cdnjs.cloudflare.com/ajax/libs/nvd3/1.7.0/nv.d3.min.css\" rel=\"stylesheet\" />\n",
       "        <script src=\"https://cdnjs.cloudflare.com/ajax/libs/d3/3.5.5/d3.min.js\"></script>\n",
       "        <script src=\"https://cdnjs.cloudflare.com/ajax/libs/nvd3/1.7.0/nv.d3.min.js\"></script>\n",
       "    </head>\n",
       "    <body>\n",
       "        \n",
       "    \n",
       "\n",
       "<h2>linePlusBarChart</h2>\n",
       "\n",
       "<div id=\"lineplusbarchart\"><svg style=\"width:750px;height:350px;\"></svg></div>\n",
       "\n",
       "\n",
       "    <script>\n",
       "\n",
       "\n",
       "\n",
       "            data_lineplusbarchart=[{\"bar\": \"true\", \"values\": [{\"y\": 5, \"x\": 1338534000000}, {\"y\": 8, \"x\": 1339534000000}, {\"y\": 12, \"x\": 1340534000000}, {\"y\": 9, \"x\": 1341534000000}, {\"y\": 11, \"x\": 1342534000000}, {\"y\": 11, \"x\": 1343534000000}, {\"y\": 14, \"x\": 1344534000000}, {\"y\": 15, \"x\": 1345534000000}, {\"y\": 9, \"x\": 1346534000000}, {\"y\": 16, \"x\": 1347534000000}, {\"y\": 18, \"x\": 1348534000000}, {\"y\": 14, \"x\": 1349534000000}, {\"y\": 19, \"x\": 1350534000000}, {\"y\": 15, \"x\": 1351534000000}, {\"y\": 18, \"x\": 1352534000000}, {\"y\": 16, \"x\": 1353534000000}, {\"y\": 25, \"x\": 1354534000000}, {\"y\": 23, \"x\": 1355534000000}, {\"y\": 22, \"x\": 1356534000000}, {\"y\": 21, \"x\": 1357534000000}, {\"y\": 25, \"x\": 1358534000000}, {\"y\": 24, \"x\": 1359534000000}, {\"y\": 32, \"x\": 1360534000000}, {\"y\": 33, \"x\": 1361534000000}, {\"y\": 29, \"x\": 1362534000000}, {\"y\": 35, \"x\": 1363534000000}, {\"y\": 27, \"x\": 1364534000000}, {\"y\": 37, \"x\": 1365534000000}, {\"y\": 34, \"x\": 1366534000000}, {\"y\": 33, \"x\": 1367534000000}, {\"y\": 34, \"x\": 1368534000000}, {\"y\": 34, \"x\": 1369534000000}, {\"y\": 34, \"x\": 1370534000000}, {\"y\": 40, \"x\": 1371534000000}, {\"y\": 40, \"x\": 1372534000000}, {\"y\": 37, \"x\": 1373534000000}, {\"y\": 43, \"x\": 1374534000000}, {\"y\": 47, \"x\": 1375534000000}, {\"y\": 46, \"x\": 1376534000000}, {\"y\": 45, \"x\": 1377534000000}, {\"y\": 45, \"x\": 1378534000000}, {\"y\": 46, \"x\": 1379534000000}, {\"y\": 49, \"x\": 1380534000000}, {\"y\": 48, \"x\": 1381534000000}, {\"y\": 49, \"x\": 1382534000000}, {\"y\": 52, \"x\": 1383534000000}, {\"y\": 47, \"x\": 1384534000000}, {\"y\": 56, \"x\": 1385534000000}, {\"y\": 54, \"x\": 1386534000000}, {\"y\": 59, \"x\": 1387534000000}, {\"y\": 59, \"x\": 1388534000000}, {\"y\": 58, \"x\": 1389534000000}, {\"y\": 55, \"x\": 1390534000000}, {\"y\": 61, \"x\": 1391534000000}, {\"y\": 64, \"x\": 1392534000000}, {\"y\": 59, \"x\": 1393534000000}, {\"y\": 59, \"x\": 1394534000000}, {\"y\": 65, \"x\": 1395534000000}, {\"y\": 66, \"x\": 1396534000000}, {\"y\": 63, \"x\": 1397534000000}, {\"y\": 70, \"x\": 1398534000000}, {\"y\": 67, \"x\": 1399534000000}, {\"y\": 69, \"x\": 1400534000000}, {\"y\": 68, \"x\": 1401534000000}, {\"y\": 66, \"x\": 1402534000000}, {\"y\": 67, \"x\": 1403534000000}, {\"y\": 69, \"x\": 1404534000000}, {\"y\": 72, \"x\": 1405534000000}, {\"y\": 70, \"x\": 1406534000000}, {\"y\": 72, \"x\": 1407534000000}, {\"y\": 77, \"x\": 1408534000000}, {\"y\": 81, \"x\": 1409534000000}, {\"y\": 79, \"x\": 1410534000000}, {\"y\": 75, \"x\": 1411534000000}, {\"y\": 84, \"x\": 1412534000000}, {\"y\": 84, \"x\": 1413534000000}, {\"y\": 80, \"x\": 1414534000000}, {\"y\": 81, \"x\": 1415534000000}, {\"y\": 84, \"x\": 1416534000000}, {\"y\": 86, \"x\": 1417534000000}, {\"y\": 87, \"x\": 1418534000000}, {\"y\": 86, \"x\": 1419534000000}, {\"y\": 83, \"x\": 1420534000000}, {\"y\": 87, \"x\": 1421534000000}, {\"y\": 94, \"x\": 1422534000000}, {\"y\": 94, \"x\": 1423534000000}, {\"y\": 93, \"x\": 1424534000000}, {\"y\": 93, \"x\": 1425534000000}, {\"y\": 90, \"x\": 1426534000000}, {\"y\": 90, \"x\": 1427534000000}, {\"y\": 96, \"x\": 1428534000000}, {\"y\": 94, \"x\": 1429534000000}, {\"y\": 93, \"x\": 1430534000000}, {\"y\": 101, \"x\": 1431534000000}, {\"y\": 95, \"x\": 1432534000000}, {\"y\": 98, \"x\": 1433534000000}, {\"y\": 100, \"x\": 1434534000000}, {\"y\": 107, \"x\": 1435534000000}, {\"y\": 107, \"x\": 1436534000000}, {\"y\": 103, \"x\": 1437534000000}], \"key\": \"Count\", \"yAxis\": \"1\"}, {\"values\": [{\"y\": 102, \"x\": 1338534000000}, {\"y\": 105, \"x\": 1339534000000}, {\"y\": 102, \"x\": 1340534000000}, {\"y\": 99, \"x\": 1341534000000}, {\"y\": 98, \"x\": 1342534000000}, {\"y\": 103, \"x\": 1343534000000}, {\"y\": 101, \"x\": 1344534000000}, {\"y\": 93, \"x\": 1345534000000}, {\"y\": 95, \"x\": 1346534000000}, {\"y\": 94, \"x\": 1347534000000}, {\"y\": 97, \"x\": 1348534000000}, {\"y\": 93, \"x\": 1349534000000}, {\"y\": 92, \"x\": 1350534000000}, {\"y\": 87, \"x\": 1351534000000}, {\"y\": 93, \"x\": 1352534000000}, {\"y\": 88, \"x\": 1353534000000}, {\"y\": 91, \"x\": 1354534000000}, {\"y\": 91, \"x\": 1355534000000}, {\"y\": 91, \"x\": 1356534000000}, {\"y\": 85, \"x\": 1357534000000}, {\"y\": 84, \"x\": 1358534000000}, {\"y\": 83, \"x\": 1359534000000}, {\"y\": 84, \"x\": 1360534000000}, {\"y\": 82, \"x\": 1361534000000}, {\"y\": 77, \"x\": 1362534000000}, {\"y\": 82, \"x\": 1363534000000}, {\"y\": 79, \"x\": 1364534000000}, {\"y\": 76, \"x\": 1365534000000}, {\"y\": 76, \"x\": 1366534000000}, {\"y\": 71, \"x\": 1367534000000}, {\"y\": 77, \"x\": 1368534000000}, {\"y\": 70, \"x\": 1369534000000}, {\"y\": 76, \"x\": 1370534000000}, {\"y\": 68, \"x\": 1371534000000}, {\"y\": 74, \"x\": 1372534000000}, {\"y\": 70, \"x\": 1373534000000}, {\"y\": 65, \"x\": 1374534000000}, {\"y\": 64, \"x\": 1375534000000}, {\"y\": 70, \"x\": 1376534000000}, {\"y\": 64, \"x\": 1377534000000}, {\"y\": 61, \"x\": 1378534000000}, {\"y\": 66, \"x\": 1379534000000}, {\"y\": 60, \"x\": 1380534000000}, {\"y\": 65, \"x\": 1381534000000}, {\"y\": 56, \"x\": 1382534000000}, {\"y\": 58, \"x\": 1383534000000}, {\"y\": 61, \"x\": 1384534000000}, {\"y\": 60, \"x\": 1385534000000}, {\"y\": 53, \"x\": 1386534000000}, {\"y\": 52, \"x\": 1387534000000}, {\"y\": 51, \"x\": 1388534000000}, {\"y\": 57, \"x\": 1389534000000}, {\"y\": 53, \"x\": 1390534000000}, {\"y\": 49, \"x\": 1391534000000}, {\"y\": 53, \"x\": 1392534000000}, {\"y\": 54, \"x\": 1393534000000}, {\"y\": 48, \"x\": 1394534000000}, {\"y\": 49, \"x\": 1395534000000}, {\"y\": 51, \"x\": 1396534000000}, {\"y\": 43, \"x\": 1397534000000}, {\"y\": 47, \"x\": 1398534000000}, {\"y\": 41, \"x\": 1399534000000}, {\"y\": 41, \"x\": 1400534000000}, {\"y\": 46, \"x\": 1401534000000}, {\"y\": 40, \"x\": 1402534000000}, {\"y\": 37, \"x\": 1403534000000}, {\"y\": 35, \"x\": 1404534000000}, {\"y\": 36, \"x\": 1405534000000}, {\"y\": 39, \"x\": 1406534000000}, {\"y\": 33, \"x\": 1407534000000}, {\"y\": 35, \"x\": 1408534000000}, {\"y\": 35, \"x\": 1409534000000}, {\"y\": 33, \"x\": 1410534000000}, {\"y\": 35, \"x\": 1411534000000}, {\"y\": 27, \"x\": 1412534000000}, {\"y\": 29, \"x\": 1413534000000}, {\"y\": 30, \"x\": 1414534000000}, {\"y\": 26, \"x\": 1415534000000}, {\"y\": 26, \"x\": 1416534000000}, {\"y\": 23, \"x\": 1417534000000}, {\"y\": 25, \"x\": 1418534000000}, {\"y\": 24, \"x\": 1419534000000}, {\"y\": 24, \"x\": 1420534000000}, {\"y\": 24, \"x\": 1421534000000}, {\"y\": 18, \"x\": 1422534000000}, {\"y\": 20, \"x\": 1423534000000}, {\"y\": 14, \"x\": 1424534000000}, {\"y\": 18, \"x\": 1425534000000}, {\"y\": 18, \"x\": 1426534000000}, {\"y\": 20, \"x\": 1427534000000}, {\"y\": 13, \"x\": 1428534000000}, {\"y\": 15, \"x\": 1429534000000}, {\"y\": 15, \"x\": 1430534000000}, {\"y\": 9, \"x\": 1431534000000}, {\"y\": 8, \"x\": 1432534000000}, {\"y\": 8, \"x\": 1433534000000}, {\"y\": 6, \"x\": 1434534000000}, {\"y\": 3, \"x\": 1435534000000}, {\"y\": 10, \"x\": 1436534000000}, {\"y\": 5, \"x\": 1437534000000}], \"key\": \"Duration\", \"yAxis\": \"1\"}];\n",
       "\n",
       "\n",
       "        nv.addGraph(function() {\n",
       "        var chart = nv.models.linePlusBarChart();\n",
       "\n",
       "        chart.margin({top: 30, right: 60, bottom: 20, left: 60});\n",
       "\n",
       "        var datum = data_lineplusbarchart;\n",
       "\n",
       "\n",
       "\n",
       "        chart.focusEnable(true);\n",
       "\n",
       "                chart.y1Axis\n",
       "                .tickFormat(function(d) { return d3.format(',f')(d) });\n",
       "            chart.y2Axis\n",
       "                .tickFormat(function(d) { return d3.format(',f')(d) });\n",
       "            chart.xAxis\n",
       "                .tickFormat(function(d) { return d3.time.format('%d %b %Y')(new Date(parseInt(d))) }\n",
       ");\n",
       "            chart.x2Axis\n",
       "                .tickFormat(function(d) { return d3.time.format('%d %b %Y')(new Date(parseInt(d))) }\n",
       ");\n",
       "\n",
       "\n",
       "          chart.showLegend(true);\n",
       "\n",
       "\n",
       "    \n",
       "\n",
       "        \n",
       "\n",
       "\n",
       "\n",
       "            d3.select('#lineplusbarchart svg')\n",
       "            .datum(datum)\n",
       "            .transition().duration(500)\n",
       "            .attr('width', 750)\n",
       "            .attr('height', 350)\n",
       "            .call(chart);\n",
       "\n",
       "\n",
       "        });\n",
       "\n",
       "\n",
       "\n",
       "    </script>\n",
       "\n",
       "    </body>\n",
       "</html>"
      ],
      "text/plain": [
       "<nvd3.linePlusBarChart.linePlusBarChart at 0x1041c2290>"
      ]
     },
     "execution_count": 7,
     "metadata": {},
     "output_type": "execute_result"
    }
   ],
   "source": [
    "type = \"linePlusBarChart\"\n",
    "chart5 = nvd3.linePlusBarChart(name=type, height=350, width=750,\n",
    "                         x_is_date=True, x_axis_format=\"%d %b %Y\",\n",
    "                         focus_enable=True)\n",
    "chart5.set_containerheader(\"\\n\\n<h2>\" + type + \"</h2>\\n\\n\")\n",
    "\n",
    "nb_element = 100\n",
    "xdata = list(range(nb_element))\n",
    "xdata = [start_time + x * 1000000000 for x in xdata]\n",
    "\n",
    "ydata = [i + random.randint(1, 10) for i in range(nb_element)]\n",
    "ydata2 = [i + random.randint(1, 10) for i in reversed(list(range(nb_element)))]\n",
    "\n",
    "kwargs = {}\n",
    "kwargs['bar'] = True\n",
    "\n",
    "extra_serie = {\"tooltip\": {\"y_start\": \"$ \", \"y_end\": \"\"}}\n",
    "chart5.add_serie(name=\"Count\", y=ydata, x=xdata, extra=extra_serie, **kwargs)\n",
    "\n",
    "extra_serie = {\"tooltip\": {\"y_start\": \"\", \"y_end\": \" min\"}}\n",
    "chart5.add_serie(name=\"Duration\", y=ydata2, x=xdata, extra=extra_serie)\n",
    "\n",
    "chart5\n"
   ]
  },
  {
   "cell_type": "code",
   "execution_count": 8,
   "metadata": {
    "collapsed": false
   },
   "outputs": [
    {
     "data": {
      "text/html": [
       "<!DOCTYPE html>\n",
       "<html lang=\"en\">\n",
       "    <head>\n",
       "        <meta charset=\"utf-8\" />\n",
       "        <link href=\"https://cdnjs.cloudflare.com/ajax/libs/nvd3/1.7.0/nv.d3.min.css\" rel=\"stylesheet\" />\n",
       "        <script src=\"https://cdnjs.cloudflare.com/ajax/libs/d3/3.5.5/d3.min.js\"></script>\n",
       "        <script src=\"https://cdnjs.cloudflare.com/ajax/libs/nvd3/1.7.0/nv.d3.min.js\"></script>\n",
       "    </head>\n",
       "    <body>\n",
       "        \n",
       "    \n",
       "\n",
       "<h2>lineWithFocusChart</h2>\n",
       "\n",
       "<div id=\"linewithfocuschart\"><svg style=\"width:750px;height:400px;\"></svg></div>\n",
       "\n",
       "\n",
       "    <script>\n",
       "\n",
       "\n",
       "    \n",
       "        data_linewithfocuschart=[{\"values\": [{\"y\": 7, \"x\": 1338534000000}, {\"y\": -9, \"x\": 1339534000000}, {\"y\": -2, \"x\": 1340534000000}, {\"y\": 4, \"x\": 1341534000000}, {\"y\": 2, \"x\": 1342534000000}, {\"y\": 8, \"x\": 1343534000000}, {\"y\": 14, \"x\": 1344534000000}, {\"y\": 17, \"x\": 1345534000000}, {\"y\": 0, \"x\": 1346534000000}, {\"y\": 9, \"x\": 1347534000000}, {\"y\": 7, \"x\": 1348534000000}, {\"y\": 20, \"x\": 1349534000000}, {\"y\": 14, \"x\": 1350534000000}, {\"y\": 15, \"x\": 1351534000000}, {\"y\": 18, \"x\": 1352534000000}, {\"y\": 16, \"x\": 1353534000000}, {\"y\": 24, \"x\": 1354534000000}, {\"y\": 15, \"x\": 1355534000000}, {\"y\": 12, \"x\": 1356534000000}, {\"y\": 20, \"x\": 1357534000000}, {\"y\": 21, \"x\": 1358534000000}, {\"y\": 17, \"x\": 1359534000000}, {\"y\": 14, \"x\": 1360534000000}, {\"y\": 15, \"x\": 1361534000000}, {\"y\": 18, \"x\": 1362534000000}, {\"y\": 22, \"x\": 1363534000000}, {\"y\": 25, \"x\": 1364534000000}, {\"y\": 27, \"x\": 1365534000000}, {\"y\": 29, \"x\": 1366534000000}, {\"y\": 36, \"x\": 1367534000000}, {\"y\": 31, \"x\": 1368534000000}, {\"y\": 21, \"x\": 1369534000000}, {\"y\": 32, \"x\": 1370534000000}, {\"y\": 30, \"x\": 1371534000000}, {\"y\": 33, \"x\": 1372534000000}, {\"y\": 44, \"x\": 1373534000000}, {\"y\": 37, \"x\": 1374534000000}, {\"y\": 36, \"x\": 1375534000000}, {\"y\": 39, \"x\": 1376534000000}, {\"y\": 47, \"x\": 1377534000000}, {\"y\": 34, \"x\": 1378534000000}, {\"y\": 46, \"x\": 1379534000000}, {\"y\": 35, \"x\": 1380534000000}, {\"y\": 52, \"x\": 1381534000000}, {\"y\": 48, \"x\": 1382534000000}, {\"y\": 52, \"x\": 1383534000000}, {\"y\": 54, \"x\": 1384534000000}, {\"y\": 56, \"x\": 1385534000000}, {\"y\": 44, \"x\": 1386534000000}, {\"y\": 59, \"x\": 1387534000000}, {\"y\": 45, \"x\": 1388534000000}, {\"y\": 49, \"x\": 1389534000000}, {\"y\": 56, \"x\": 1390534000000}, {\"y\": 61, \"x\": 1391534000000}, {\"y\": 63, \"x\": 1392534000000}, {\"y\": 56, \"x\": 1393534000000}, {\"y\": 47, \"x\": 1394534000000}, {\"y\": 63, \"x\": 1395534000000}, {\"y\": 58, \"x\": 1396534000000}, {\"y\": 51, \"x\": 1397534000000}, {\"y\": 54, \"x\": 1398534000000}, {\"y\": 56, \"x\": 1399534000000}, {\"y\": 58, \"x\": 1400534000000}, {\"y\": 64, \"x\": 1401534000000}, {\"y\": 65, \"x\": 1402534000000}, {\"y\": 57, \"x\": 1403534000000}, {\"y\": 74, \"x\": 1404534000000}, {\"y\": 71, \"x\": 1405534000000}, {\"y\": 64, \"x\": 1406534000000}, {\"y\": 72, \"x\": 1407534000000}, {\"y\": 77, \"x\": 1408534000000}, {\"y\": 74, \"x\": 1409534000000}, {\"y\": 64, \"x\": 1410534000000}, {\"y\": 65, \"x\": 1411534000000}, {\"y\": 77, \"x\": 1412534000000}, {\"y\": 83, \"x\": 1413534000000}, {\"y\": 75, \"x\": 1414534000000}, {\"y\": 77, \"x\": 1415534000000}, {\"y\": 80, \"x\": 1416534000000}, {\"y\": 81, \"x\": 1417534000000}, {\"y\": 75, \"x\": 1418534000000}, {\"y\": 86, \"x\": 1419534000000}, {\"y\": 84, \"x\": 1420534000000}, {\"y\": 86, \"x\": 1421534000000}, {\"y\": 75, \"x\": 1422534000000}, {\"y\": 77, \"x\": 1423534000000}, {\"y\": 86, \"x\": 1424534000000}, {\"y\": 80, \"x\": 1425534000000}, {\"y\": 91, \"x\": 1426534000000}, {\"y\": 88, \"x\": 1427534000000}, {\"y\": 80, \"x\": 1428534000000}, {\"y\": 94, \"x\": 1429534000000}, {\"y\": 94, \"x\": 1430534000000}, {\"y\": 90, \"x\": 1431534000000}, {\"y\": 89, \"x\": 1432534000000}, {\"y\": 95, \"x\": 1433534000000}, {\"y\": 98, \"x\": 1434534000000}, {\"y\": 104, \"x\": 1435534000000}, {\"y\": 99, \"x\": 1436534000000}, {\"y\": 101, \"x\": 1437534000000}], \"key\": \"serie 1\", \"yAxis\": \"1\"}, {\"values\": [{\"y\": 14, \"x\": 1338534000000}, {\"y\": -18, \"x\": 1339534000000}, {\"y\": -4, \"x\": 1340534000000}, {\"y\": 8, \"x\": 1341534000000}, {\"y\": 4, \"x\": 1342534000000}, {\"y\": 16, \"x\": 1343534000000}, {\"y\": 28, \"x\": 1344534000000}, {\"y\": 34, \"x\": 1345534000000}, {\"y\": 0, \"x\": 1346534000000}, {\"y\": 18, \"x\": 1347534000000}, {\"y\": 14, \"x\": 1348534000000}, {\"y\": 40, \"x\": 1349534000000}, {\"y\": 28, \"x\": 1350534000000}, {\"y\": 30, \"x\": 1351534000000}, {\"y\": 36, \"x\": 1352534000000}, {\"y\": 32, \"x\": 1353534000000}, {\"y\": 48, \"x\": 1354534000000}, {\"y\": 30, \"x\": 1355534000000}, {\"y\": 24, \"x\": 1356534000000}, {\"y\": 40, \"x\": 1357534000000}, {\"y\": 42, \"x\": 1358534000000}, {\"y\": 34, \"x\": 1359534000000}, {\"y\": 28, \"x\": 1360534000000}, {\"y\": 30, \"x\": 1361534000000}, {\"y\": 36, \"x\": 1362534000000}, {\"y\": 44, \"x\": 1363534000000}, {\"y\": 50, \"x\": 1364534000000}, {\"y\": 54, \"x\": 1365534000000}, {\"y\": 58, \"x\": 1366534000000}, {\"y\": 72, \"x\": 1367534000000}, {\"y\": 62, \"x\": 1368534000000}, {\"y\": 42, \"x\": 1369534000000}, {\"y\": 64, \"x\": 1370534000000}, {\"y\": 60, \"x\": 1371534000000}, {\"y\": 66, \"x\": 1372534000000}, {\"y\": 88, \"x\": 1373534000000}, {\"y\": 74, \"x\": 1374534000000}, {\"y\": 72, \"x\": 1375534000000}, {\"y\": 78, \"x\": 1376534000000}, {\"y\": 94, \"x\": 1377534000000}, {\"y\": 68, \"x\": 1378534000000}, {\"y\": 92, \"x\": 1379534000000}, {\"y\": 70, \"x\": 1380534000000}, {\"y\": 104, \"x\": 1381534000000}, {\"y\": 96, \"x\": 1382534000000}, {\"y\": 104, \"x\": 1383534000000}, {\"y\": 108, \"x\": 1384534000000}, {\"y\": 112, \"x\": 1385534000000}, {\"y\": 88, \"x\": 1386534000000}, {\"y\": 118, \"x\": 1387534000000}, {\"y\": 90, \"x\": 1388534000000}, {\"y\": 98, \"x\": 1389534000000}, {\"y\": 112, \"x\": 1390534000000}, {\"y\": 122, \"x\": 1391534000000}, {\"y\": 126, \"x\": 1392534000000}, {\"y\": 112, \"x\": 1393534000000}, {\"y\": 94, \"x\": 1394534000000}, {\"y\": 126, \"x\": 1395534000000}, {\"y\": 116, \"x\": 1396534000000}, {\"y\": 102, \"x\": 1397534000000}, {\"y\": 108, \"x\": 1398534000000}, {\"y\": 112, \"x\": 1399534000000}, {\"y\": 116, \"x\": 1400534000000}, {\"y\": 128, \"x\": 1401534000000}, {\"y\": 130, \"x\": 1402534000000}, {\"y\": 114, \"x\": 1403534000000}, {\"y\": 148, \"x\": 1404534000000}, {\"y\": 142, \"x\": 1405534000000}, {\"y\": 128, \"x\": 1406534000000}, {\"y\": 144, \"x\": 1407534000000}, {\"y\": 154, \"x\": 1408534000000}, {\"y\": 148, \"x\": 1409534000000}, {\"y\": 128, \"x\": 1410534000000}, {\"y\": 130, \"x\": 1411534000000}, {\"y\": 154, \"x\": 1412534000000}, {\"y\": 166, \"x\": 1413534000000}, {\"y\": 150, \"x\": 1414534000000}, {\"y\": 154, \"x\": 1415534000000}, {\"y\": 160, \"x\": 1416534000000}, {\"y\": 162, \"x\": 1417534000000}, {\"y\": 150, \"x\": 1418534000000}, {\"y\": 172, \"x\": 1419534000000}, {\"y\": 168, \"x\": 1420534000000}, {\"y\": 172, \"x\": 1421534000000}, {\"y\": 150, \"x\": 1422534000000}, {\"y\": 154, \"x\": 1423534000000}, {\"y\": 172, \"x\": 1424534000000}, {\"y\": 160, \"x\": 1425534000000}, {\"y\": 182, \"x\": 1426534000000}, {\"y\": 176, \"x\": 1427534000000}, {\"y\": 160, \"x\": 1428534000000}, {\"y\": 188, \"x\": 1429534000000}, {\"y\": 188, \"x\": 1430534000000}, {\"y\": 180, \"x\": 1431534000000}, {\"y\": 178, \"x\": 1432534000000}, {\"y\": 190, \"x\": 1433534000000}, {\"y\": 196, \"x\": 1434534000000}, {\"y\": 208, \"x\": 1435534000000}, {\"y\": 198, \"x\": 1436534000000}, {\"y\": 202, \"x\": 1437534000000}], \"key\": \"serie 2\", \"yAxis\": \"1\"}, {\"values\": [{\"y\": 21, \"x\": 1338534000000}, {\"y\": -27, \"x\": 1339534000000}, {\"y\": -6, \"x\": 1340534000000}, {\"y\": 12, \"x\": 1341534000000}, {\"y\": 6, \"x\": 1342534000000}, {\"y\": 24, \"x\": 1343534000000}, {\"y\": 42, \"x\": 1344534000000}, {\"y\": 51, \"x\": 1345534000000}, {\"y\": 0, \"x\": 1346534000000}, {\"y\": 27, \"x\": 1347534000000}, {\"y\": 21, \"x\": 1348534000000}, {\"y\": 60, \"x\": 1349534000000}, {\"y\": 42, \"x\": 1350534000000}, {\"y\": 45, \"x\": 1351534000000}, {\"y\": 54, \"x\": 1352534000000}, {\"y\": 48, \"x\": 1353534000000}, {\"y\": 72, \"x\": 1354534000000}, {\"y\": 45, \"x\": 1355534000000}, {\"y\": 36, \"x\": 1356534000000}, {\"y\": 60, \"x\": 1357534000000}, {\"y\": 63, \"x\": 1358534000000}, {\"y\": 51, \"x\": 1359534000000}, {\"y\": 42, \"x\": 1360534000000}, {\"y\": 45, \"x\": 1361534000000}, {\"y\": 54, \"x\": 1362534000000}, {\"y\": 66, \"x\": 1363534000000}, {\"y\": 75, \"x\": 1364534000000}, {\"y\": 81, \"x\": 1365534000000}, {\"y\": 87, \"x\": 1366534000000}, {\"y\": 108, \"x\": 1367534000000}, {\"y\": 93, \"x\": 1368534000000}, {\"y\": 63, \"x\": 1369534000000}, {\"y\": 96, \"x\": 1370534000000}, {\"y\": 90, \"x\": 1371534000000}, {\"y\": 99, \"x\": 1372534000000}, {\"y\": 132, \"x\": 1373534000000}, {\"y\": 111, \"x\": 1374534000000}, {\"y\": 108, \"x\": 1375534000000}, {\"y\": 117, \"x\": 1376534000000}, {\"y\": 141, \"x\": 1377534000000}, {\"y\": 102, \"x\": 1378534000000}, {\"y\": 138, \"x\": 1379534000000}, {\"y\": 105, \"x\": 1380534000000}, {\"y\": 156, \"x\": 1381534000000}, {\"y\": 144, \"x\": 1382534000000}, {\"y\": 156, \"x\": 1383534000000}, {\"y\": 162, \"x\": 1384534000000}, {\"y\": 168, \"x\": 1385534000000}, {\"y\": 132, \"x\": 1386534000000}, {\"y\": 177, \"x\": 1387534000000}, {\"y\": 135, \"x\": 1388534000000}, {\"y\": 147, \"x\": 1389534000000}, {\"y\": 168, \"x\": 1390534000000}, {\"y\": 183, \"x\": 1391534000000}, {\"y\": 189, \"x\": 1392534000000}, {\"y\": 168, \"x\": 1393534000000}, {\"y\": 141, \"x\": 1394534000000}, {\"y\": 189, \"x\": 1395534000000}, {\"y\": 174, \"x\": 1396534000000}, {\"y\": 153, \"x\": 1397534000000}, {\"y\": 162, \"x\": 1398534000000}, {\"y\": 168, \"x\": 1399534000000}, {\"y\": 174, \"x\": 1400534000000}, {\"y\": 192, \"x\": 1401534000000}, {\"y\": 195, \"x\": 1402534000000}, {\"y\": 171, \"x\": 1403534000000}, {\"y\": 222, \"x\": 1404534000000}, {\"y\": 213, \"x\": 1405534000000}, {\"y\": 192, \"x\": 1406534000000}, {\"y\": 216, \"x\": 1407534000000}, {\"y\": 231, \"x\": 1408534000000}, {\"y\": 222, \"x\": 1409534000000}, {\"y\": 192, \"x\": 1410534000000}, {\"y\": 195, \"x\": 1411534000000}, {\"y\": 231, \"x\": 1412534000000}, {\"y\": 249, \"x\": 1413534000000}, {\"y\": 225, \"x\": 1414534000000}, {\"y\": 231, \"x\": 1415534000000}, {\"y\": 240, \"x\": 1416534000000}, {\"y\": 243, \"x\": 1417534000000}, {\"y\": 225, \"x\": 1418534000000}, {\"y\": 258, \"x\": 1419534000000}, {\"y\": 252, \"x\": 1420534000000}, {\"y\": 258, \"x\": 1421534000000}, {\"y\": 225, \"x\": 1422534000000}, {\"y\": 231, \"x\": 1423534000000}, {\"y\": 258, \"x\": 1424534000000}, {\"y\": 240, \"x\": 1425534000000}, {\"y\": 273, \"x\": 1426534000000}, {\"y\": 264, \"x\": 1427534000000}, {\"y\": 240, \"x\": 1428534000000}, {\"y\": 282, \"x\": 1429534000000}, {\"y\": 282, \"x\": 1430534000000}, {\"y\": 270, \"x\": 1431534000000}, {\"y\": 267, \"x\": 1432534000000}, {\"y\": 285, \"x\": 1433534000000}, {\"y\": 294, \"x\": 1434534000000}, {\"y\": 312, \"x\": 1435534000000}, {\"y\": 297, \"x\": 1436534000000}, {\"y\": 303, \"x\": 1437534000000}], \"key\": \"serie 3\", \"yAxis\": \"1\"}, {\"values\": [{\"y\": 28, \"x\": 1338534000000}, {\"y\": -36, \"x\": 1339534000000}, {\"y\": -8, \"x\": 1340534000000}, {\"y\": 16, \"x\": 1341534000000}, {\"y\": 8, \"x\": 1342534000000}, {\"y\": 32, \"x\": 1343534000000}, {\"y\": 56, \"x\": 1344534000000}, {\"y\": 68, \"x\": 1345534000000}, {\"y\": 0, \"x\": 1346534000000}, {\"y\": 36, \"x\": 1347534000000}, {\"y\": 28, \"x\": 1348534000000}, {\"y\": 80, \"x\": 1349534000000}, {\"y\": 56, \"x\": 1350534000000}, {\"y\": 60, \"x\": 1351534000000}, {\"y\": 72, \"x\": 1352534000000}, {\"y\": 64, \"x\": 1353534000000}, {\"y\": 96, \"x\": 1354534000000}, {\"y\": 60, \"x\": 1355534000000}, {\"y\": 48, \"x\": 1356534000000}, {\"y\": 80, \"x\": 1357534000000}, {\"y\": 84, \"x\": 1358534000000}, {\"y\": 68, \"x\": 1359534000000}, {\"y\": 56, \"x\": 1360534000000}, {\"y\": 60, \"x\": 1361534000000}, {\"y\": 72, \"x\": 1362534000000}, {\"y\": 88, \"x\": 1363534000000}, {\"y\": 100, \"x\": 1364534000000}, {\"y\": 108, \"x\": 1365534000000}, {\"y\": 116, \"x\": 1366534000000}, {\"y\": 144, \"x\": 1367534000000}, {\"y\": 124, \"x\": 1368534000000}, {\"y\": 84, \"x\": 1369534000000}, {\"y\": 128, \"x\": 1370534000000}, {\"y\": 120, \"x\": 1371534000000}, {\"y\": 132, \"x\": 1372534000000}, {\"y\": 176, \"x\": 1373534000000}, {\"y\": 148, \"x\": 1374534000000}, {\"y\": 144, \"x\": 1375534000000}, {\"y\": 156, \"x\": 1376534000000}, {\"y\": 188, \"x\": 1377534000000}, {\"y\": 136, \"x\": 1378534000000}, {\"y\": 184, \"x\": 1379534000000}, {\"y\": 140, \"x\": 1380534000000}, {\"y\": 208, \"x\": 1381534000000}, {\"y\": 192, \"x\": 1382534000000}, {\"y\": 208, \"x\": 1383534000000}, {\"y\": 216, \"x\": 1384534000000}, {\"y\": 224, \"x\": 1385534000000}, {\"y\": 176, \"x\": 1386534000000}, {\"y\": 236, \"x\": 1387534000000}, {\"y\": 180, \"x\": 1388534000000}, {\"y\": 196, \"x\": 1389534000000}, {\"y\": 224, \"x\": 1390534000000}, {\"y\": 244, \"x\": 1391534000000}, {\"y\": 252, \"x\": 1392534000000}, {\"y\": 224, \"x\": 1393534000000}, {\"y\": 188, \"x\": 1394534000000}, {\"y\": 252, \"x\": 1395534000000}, {\"y\": 232, \"x\": 1396534000000}, {\"y\": 204, \"x\": 1397534000000}, {\"y\": 216, \"x\": 1398534000000}, {\"y\": 224, \"x\": 1399534000000}, {\"y\": 232, \"x\": 1400534000000}, {\"y\": 256, \"x\": 1401534000000}, {\"y\": 260, \"x\": 1402534000000}, {\"y\": 228, \"x\": 1403534000000}, {\"y\": 296, \"x\": 1404534000000}, {\"y\": 284, \"x\": 1405534000000}, {\"y\": 256, \"x\": 1406534000000}, {\"y\": 288, \"x\": 1407534000000}, {\"y\": 308, \"x\": 1408534000000}, {\"y\": 296, \"x\": 1409534000000}, {\"y\": 256, \"x\": 1410534000000}, {\"y\": 260, \"x\": 1411534000000}, {\"y\": 308, \"x\": 1412534000000}, {\"y\": 332, \"x\": 1413534000000}, {\"y\": 300, \"x\": 1414534000000}, {\"y\": 308, \"x\": 1415534000000}, {\"y\": 320, \"x\": 1416534000000}, {\"y\": 324, \"x\": 1417534000000}, {\"y\": 300, \"x\": 1418534000000}, {\"y\": 344, \"x\": 1419534000000}, {\"y\": 336, \"x\": 1420534000000}, {\"y\": 344, \"x\": 1421534000000}, {\"y\": 300, \"x\": 1422534000000}, {\"y\": 308, \"x\": 1423534000000}, {\"y\": 344, \"x\": 1424534000000}, {\"y\": 320, \"x\": 1425534000000}, {\"y\": 364, \"x\": 1426534000000}, {\"y\": 352, \"x\": 1427534000000}, {\"y\": 320, \"x\": 1428534000000}, {\"y\": 376, \"x\": 1429534000000}, {\"y\": 376, \"x\": 1430534000000}, {\"y\": 360, \"x\": 1431534000000}, {\"y\": 356, \"x\": 1432534000000}, {\"y\": 380, \"x\": 1433534000000}, {\"y\": 392, \"x\": 1434534000000}, {\"y\": 416, \"x\": 1435534000000}, {\"y\": 396, \"x\": 1436534000000}, {\"y\": 404, \"x\": 1437534000000}], \"key\": \"serie 4\", \"yAxis\": \"1\"}];\n",
       "\n",
       "    nv.addGraph(function() {\n",
       "        var chart = nv.models.lineWithFocusChart();\n",
       "\n",
       "        chart.margin({top: 30, right: 60, bottom: 20, left: 60});\n",
       "\n",
       "        var datum = data_linewithfocuschart;\n",
       "\n",
       "        chart.color(d3.scale.category20b().range());\n",
       "\n",
       "\n",
       "\n",
       "\n",
       "            chart.yAxis\n",
       "                .tickFormat(d3.format(',.2f'));\n",
       "            chart.y2Axis\n",
       "                .tickFormat(d3.format(',.2f'));\n",
       "            chart.xAxis\n",
       "                .tickFormat(function(d) { return d3.time.format('%d %b %Y %H')(new Date(parseInt(d))) }\n",
       ");\n",
       "            chart.x2Axis\n",
       "                .tickFormat(function(d) { return d3.time.format('%d %b %Y %H')(new Date(parseInt(d))) }\n",
       ");\n",
       "\n",
       "                chart.tooltipContent(function(key, y, e, graph) {\n",
       "                    var x = d3.time.format(\"%d %b %Y %H:%M:%S %p\")(new Date(parseInt(graph.point.x)));\n",
       "                    var y = String(graph.point.y);\n",
       "                                        if(key == 'serie 1'){\n",
       "                        var y = 'There is ' +  String(graph.point.y)  + ' calls';\n",
       "                    }\n",
       "                    if(key == 'serie 2'){\n",
       "                        var y = 'There is ' +  String(graph.point.y)  + ' calls';\n",
       "                    }\n",
       "                    if(key == 'serie 3'){\n",
       "                        var y = 'There is ' +  String(graph.point.y)  + ' calls';\n",
       "                    }\n",
       "                    if(key == 'serie 4'){\n",
       "                        var y = 'There is ' +  String(graph.point.y)  + ' calls';\n",
       "                    }\n",
       "\n",
       "                    tooltip_str = '<center><b>'+key+'</b></center>' + y + ' on ' + x;\n",
       "                    return tooltip_str;\n",
       "                });\n",
       "\n",
       "      chart.showLegend(true);\n",
       "\n",
       "\n",
       "\n",
       "        \n",
       "\n",
       "\n",
       "        d3.select('#linewithfocuschart svg')\n",
       "            .datum(datum)\n",
       "            .transition().duration(500)\n",
       "            .attr('width', 750)\n",
       "            .attr('height', 400)\n",
       "            .call(chart);\n",
       "\n",
       "\n",
       "    });\n",
       "\n",
       "\n",
       "\n",
       "\n",
       "    </script>\n",
       "\n",
       "    </body>\n",
       "</html>"
      ],
      "text/plain": [
       "<nvd3.lineWithFocusChart.lineWithFocusChart at 0x1041c26d0>"
      ]
     },
     "execution_count": 8,
     "metadata": {},
     "output_type": "execute_result"
    }
   ],
   "source": [
    "type = \"lineWithFocusChart\"\n",
    "chart6 = nvd3.lineWithFocusChart(name=type, height=400, width=750,\n",
    "                           color_category='category20b', x_is_date=True,\n",
    "                           x_axis_format=\"%d %b %Y %H\", focus_enable=True)\n",
    "chart6.set_containerheader(\"\\n\\n<h2>\" + type + \"</h2>\\n\\n\")\n",
    "\n",
    "xdata = list(range(nb_element))\n",
    "xdata = [start_time + x * 1000000000 for x in xdata]\n",
    "ydata = [i + random.randint(-10, 10) for i in range(nb_element)]\n",
    "\n",
    "ydata2 = [x * 2 for x in ydata]\n",
    "ydata3 = [x * 3 for x in ydata]\n",
    "ydata4 = [x * 4 for x in ydata]\n",
    "\n",
    "extra_serie = {\"tooltip\": {\"y_start\": \"There is \", \"y_end\": \" calls\"},\n",
    "               \"date_format\": \"%d %b %Y %H:%M:%S %p\"}\n",
    "# extra_serie = None\n",
    "chart6.add_serie(name=\"serie 1\", y=ydata, x=xdata, extra=extra_serie)\n",
    "chart6.add_serie(name=\"serie 2\", y=ydata2, x=xdata, extra=extra_serie)\n",
    "chart6.add_serie(name=\"serie 3\", y=ydata3, x=xdata, extra=extra_serie)\n",
    "chart6.add_serie(name=\"serie 4\", y=ydata4, x=xdata, extra=extra_serie)\n",
    "chart6\n"
   ]
  },
  {
   "cell_type": "code",
   "execution_count": 9,
   "metadata": {
    "collapsed": false
   },
   "outputs": [
    {
     "data": {
      "text/html": [
       "<!DOCTYPE html>\n",
       "<html lang=\"en\">\n",
       "    <head>\n",
       "        <meta charset=\"utf-8\" />\n",
       "        <link href=\"https://cdnjs.cloudflare.com/ajax/libs/nvd3/1.7.0/nv.d3.min.css\" rel=\"stylesheet\" />\n",
       "        <script src=\"https://cdnjs.cloudflare.com/ajax/libs/d3/3.5.5/d3.min.js\"></script>\n",
       "        <script src=\"https://cdnjs.cloudflare.com/ajax/libs/nvd3/1.7.0/nv.d3.min.js\"></script>\n",
       "    </head>\n",
       "    <body>\n",
       "        \n",
       "    \n",
       "\n",
       "<h2>multiBarHorizontalChart</h2>\n",
       "\n",
       "<div id=\"multibarhorizontalchart\"><svg style=\"width:750px;height:350px;\"></svg></div>\n",
       "\n",
       "\n",
       "    <script>\n",
       "\n",
       "\n",
       "\n",
       "        data_multibarhorizontalchart=[{\"values\": [{\"y\": 7, \"x\": 0}, {\"y\": -10, \"x\": 1}, {\"y\": -9, \"x\": 2}, {\"y\": -2, \"x\": 3}, {\"y\": 6, \"x\": 4}, {\"y\": 0, \"x\": 5}, {\"y\": -3, \"x\": 6}, {\"y\": -8, \"x\": 7}, {\"y\": 0, \"x\": 8}, {\"y\": -7, \"x\": 9}], \"key\": \"Count\", \"yAxis\": \"1\"}, {\"values\": [{\"y\": 14, \"x\": 0}, {\"y\": -20, \"x\": 1}, {\"y\": -18, \"x\": 2}, {\"y\": -4, \"x\": 3}, {\"y\": 12, \"x\": 4}, {\"y\": 0, \"x\": 5}, {\"y\": -6, \"x\": 6}, {\"y\": -16, \"x\": 7}, {\"y\": 0, \"x\": 8}, {\"y\": -14, \"x\": 9}], \"key\": \"Duration\", \"yAxis\": \"1\"}];\n",
       "\n",
       "    nv.addGraph(function() {\n",
       "        var chart = nv.models.multiBarHorizontalChart();\n",
       "\n",
       "        chart.margin({top: 30, right: 60, bottom: 20, left: 60});\n",
       "\n",
       "        var datum = data_multibarhorizontalchart;\n",
       "\n",
       "\n",
       "\n",
       "\n",
       "\n",
       "            chart.xAxis\n",
       "                .tickFormat(d3.format(',.2f'));\n",
       "            chart.yAxis\n",
       "                .tickFormat(d3.format(',.2f'));\n",
       "\n",
       "                    chart.tooltipContent(function(key, y, e, graph) {\n",
       "                        var x = String(graph.point.x);\n",
       "                        var y = String(graph.point.y);\n",
       "                                            if(key == 'Count'){\n",
       "                        var y =  String(graph.point.y)  + ' Calls';\n",
       "                    }\n",
       "                    if(key == 'Duration'){\n",
       "                        var y =  String(graph.point.y)  + ' Min';\n",
       "                    }\n",
       "\n",
       "                        tooltip_str = '<center><b>'+key+'</b></center>' + y + ' at ' + x;\n",
       "                        return tooltip_str;\n",
       "                    });\n",
       "\n",
       "      chart.showLegend(true);\n",
       "\n",
       "\n",
       "\n",
       "        \n",
       "\n",
       "\n",
       "        d3.select('#multibarhorizontalchart svg')\n",
       "            .datum(datum)\n",
       "            .transition().duration(500)\n",
       "            .attr('width', 750)\n",
       "            .attr('height', 350)\n",
       "            .call(chart);\n",
       "\n",
       "\n",
       "    });\n",
       "\n",
       "\n",
       "\n",
       "\n",
       "    </script>\n",
       "\n",
       "    </body>\n",
       "</html>"
      ],
      "text/plain": [
       "<nvd3.multiBarHorizontalChart.multiBarHorizontalChart at 0x1041d8310>"
      ]
     },
     "execution_count": 9,
     "metadata": {},
     "output_type": "execute_result"
    }
   ],
   "source": [
    "\n",
    "type = \"multiBarHorizontalChart\"\n",
    "chart7 = nvd3.multiBarHorizontalChart(name=type, height=350, width=750)\n",
    "chart7.set_containerheader(\"\\n\\n<h2>\" + type + \"</h2>\\n\\n\")\n",
    "\n",
    "nb_element = 10\n",
    "xdata = list(range(nb_element))\n",
    "ydata = [random.randint(-10, 10) for i in range(nb_element)]\n",
    "ydata2 = [x * 2 for x in ydata]\n",
    "extra_serie = {\"tooltip\": {\"y_start\": \"\", \"y_end\": \" Calls\"}}\n",
    "chart7.add_serie(name=\"Count\", y=ydata, x=xdata, extra=extra_serie)\n",
    "extra_serie = {\"tooltip\": {\"y_start\": \"\", \"y_end\": \" Min\"}}\n",
    "chart7.add_serie(name=\"Duration\", y=ydata2, x=xdata, extra=extra_serie)\n",
    "chart7\n"
   ]
  },
  {
   "cell_type": "code",
   "execution_count": 22,
   "metadata": {
    "collapsed": false
   },
   "outputs": [
    {
     "data": {
      "text/html": [
       "<!DOCTYPE html>\n",
       "<html lang=\"en\">\n",
       "    <head>\n",
       "        <meta charset=\"utf-8\" />\n",
       "        <link href=\"https://cdnjs.cloudflare.com/ajax/libs/nvd3/1.7.0/nv.d3.min.css\" rel=\"stylesheet\" />\n",
       "        <script src=\"https://cdnjs.cloudflare.com/ajax/libs/d3/3.5.5/d3.min.js\"></script>\n",
       "        <script src=\"https://cdnjs.cloudflare.com/ajax/libs/nvd3/1.7.0/nv.d3.min.js\"></script>\n",
       "    </head>\n",
       "    <body>\n",
       "        \n",
       "    \n",
       "\n",
       "<h2>discreteBarChart</h2>\n",
       "\n",
       "<div id=\"discretebarchart\"><svg style=\"width:750px;height:350px;\"></svg></div>\n",
       "\n",
       "\n",
       "    <script>\n",
       "\n",
       "\n",
       "\n",
       "                data_discretebarchart=[{\"values\": [{\"y\": 10, \"x\": 1338534000000}, {\"y\": 2, \"x\": 1339534000000}, {\"y\": 7, \"x\": 1340534000000}, {\"y\": 5, \"x\": 1341534000000}, {\"y\": 6, \"x\": 1342534000000}, {\"y\": 9, \"x\": 1343534000000}, {\"y\": 14, \"x\": 1344534000000}, {\"y\": 9, \"x\": 1345534000000}, {\"y\": 18, \"x\": 1346534000000}, {\"y\": 11, \"x\": 1347534000000}], \"key\": \"Serie 1\", \"yAxis\": \"1\"}];\n",
       "\n",
       "\n",
       "            nv.addGraph(function() {\n",
       "        var chart = nv.models.discreteBarChart();\n",
       "\n",
       "        chart.margin({top: 30, right: 60, bottom: 20, left: 60});\n",
       "\n",
       "        var datum = data_discretebarchart;\n",
       "\n",
       "\n",
       "\n",
       "                    chart.xAxis\n",
       "                .tickFormat(function(d) { return d3.time.format('%d-%b')(new Date(parseInt(d))) }\n",
       ");\n",
       "            chart.yAxis\n",
       "                .tickFormat(d3.format(',.0f'));\n",
       "\n",
       "    \n",
       "    \n",
       "\n",
       "        \n",
       "\n",
       "\n",
       "\n",
       "            d3.select('#discretebarchart svg')\n",
       "            .datum(datum)\n",
       "            .transition().duration(500)\n",
       "            .attr('width', 750)\n",
       "            .attr('height', 350)\n",
       "            .call(chart);\n",
       "\n",
       "    \n",
       "        });\n",
       "\n",
       "\n",
       "\n",
       "    </script>\n",
       "\n",
       "    </body>\n",
       "</html>"
      ],
      "text/plain": [
       "<nvd3.discreteBarChart.discreteBarChart at 0x105d801d0>"
      ]
     },
     "execution_count": 22,
     "metadata": {},
     "output_type": "execute_result"
    }
   ],
   "source": [
    "\n",
    "type = \"discreteBarChart\"\n",
    "\n",
    "nb_element = 10\n",
    "\n",
    "xdata = list(range(nb_element))\n",
    "xdata = [start_time + x * 1000000000 for x in xdata]\n",
    "ydata = [i + random.randint(1, 10) for i in range(nb_element)]\n",
    "\n",
    "chart8 = nvd3.discreteBarChart(name=type, height=350, width=750, x_is_date=True, x_axis_format=\"%d-%b\")\n",
    "chart8.set_containerheader(\"\\n\\n<h2>\" + type + \"</h2>\\n\\n\")\n",
    "\n",
    "extra_serie = {\"tooltip\": {\"y_start\": \"\", \"y_end\": \" cal\"}}\n",
    "chart8.add_serie(y=ydata, x=xdata, extra=extra_serie)\n",
    "chart8\n"
   ]
  },
  {
   "cell_type": "code",
   "execution_count": 28,
   "metadata": {
    "collapsed": false
   },
   "outputs": [
    {
     "data": {
      "text/html": [
       "<!DOCTYPE html>\n",
       "<html lang=\"en\">\n",
       "    <head>\n",
       "        <meta charset=\"utf-8\" />\n",
       "        <link href=\"https://cdnjs.cloudflare.com/ajax/libs/nvd3/1.7.0/nv.d3.min.css\" rel=\"stylesheet\" />\n",
       "        <script src=\"https://cdnjs.cloudflare.com/ajax/libs/d3/3.5.5/d3.min.js\"></script>\n",
       "        <script src=\"https://cdnjs.cloudflare.com/ajax/libs/nvd3/1.7.0/nv.d3.min.js\"></script>\n",
       "    </head>\n",
       "    <body>\n",
       "        \n",
       "    \n",
       "\n",
       "<h2>cumulativeLineChart</h2>\n",
       "\n",
       "<div id=\"cumulativelinechart\"><svg style=\"width:800px;height:400px;\"></svg></div>\n",
       "\n",
       "\n",
       "    <script>\n",
       "\n",
       "    $(function(){\n",
       "\n",
       "\n",
       "        data_cumulativelinechart=[{\"values\": [{\"y\": 7, \"x\": 1338534000000}, {\"y\": 6, \"x\": 1339534000000}, {\"y\": 6, \"x\": 1340534000000}, {\"y\": 6, \"x\": 1341534000000}, {\"y\": 6, \"x\": 1342534000000}, {\"y\": 15, \"x\": 1343534000000}, {\"y\": 13, \"x\": 1344534000000}, {\"y\": 15, \"x\": 1345534000000}, {\"y\": 12, \"x\": 1346534000000}, {\"y\": 13, \"x\": 1347534000000}], \"key\": \"Count\", \"yAxis\": \"1\"}, {\"values\": [{\"y\": 14, \"x\": 1338534000000}, {\"y\": 12, \"x\": 1339534000000}, {\"y\": 12, \"x\": 1340534000000}, {\"y\": 12, \"x\": 1341534000000}, {\"y\": 12, \"x\": 1342534000000}, {\"y\": 30, \"x\": 1343534000000}, {\"y\": 26, \"x\": 1344534000000}, {\"y\": 30, \"x\": 1345534000000}, {\"y\": 24, \"x\": 1346534000000}, {\"y\": 26, \"x\": 1347534000000}], \"key\": \"Duration\", \"yAxis\": \"1\"}];\n",
       "\n",
       "    nv.addGraph(function() {\n",
       "        var chart = nv.models.cumulativeLineChart();\n",
       "\n",
       "        chart.margin({top: 30, right: 60, bottom: 20, left: 60});\n",
       "\n",
       "        var datum = data_cumulativelinechart;\n",
       "\n",
       "\n",
       "\n",
       "\n",
       "\n",
       "            chart.xAxis\n",
       "                .tickFormat(function(d) { return d3.time.format('%d %b %Y')(new Date(parseInt(d))) }\n",
       ");\n",
       "            chart.yAxis\n",
       "                .tickFormat(d3.format(',.1%'));\n",
       "\n",
       "                chart.tooltipContent(function(key, y, e, graph) {\n",
       "                    var x = d3.time.format(\"%d %b %Y\")(new Date(parseInt(graph.point.x)));\n",
       "                    var y = String(graph.point.y);\n",
       "                    if(key == 'Count'){\n",
       "                        var y =  String(e)  + ' Calls';\n",
       "                    }\n",
       "if(key == 'Duration'){\n",
       "                        var y =  String(e)  + ' Min';\n",
       "                    }\n",
       "\n",
       "                    tooltip_str = '<center><b>'+key+'</b></center>' + y + ' on ' + x;\n",
       "                    return tooltip_str;\n",
       "                });\n",
       "\n",
       "      chart.showLegend(true);\n",
       "\n",
       "\n",
       "\n",
       "        \n",
       "\n",
       "\n",
       "        d3.select('#cumulativelinechart svg')\n",
       "            .datum(datum)\n",
       "            .transition().duration(500)\n",
       "            .attr('width', 800)\n",
       "            .attr('height', 400)\n",
       "            .call(chart);\n",
       "\n",
       "\n",
       "    });\n",
       "\n",
       "\n",
       "\n",
       "\n",
       "        });\n",
       "    </script>\n",
       "\n",
       "    </body>\n",
       "</html>"
      ],
      "text/plain": [
       "<nvd3.cumulativeLineChart.cumulativeLineChart at 0x105cf67d0>"
      ]
     },
     "execution_count": 28,
     "metadata": {},
     "output_type": "execute_result"
    }
   ],
   "source": [
    "\n",
    "type = \"cumulativeLineChart\"\n",
    "chart9 = nvd3.cumulativeLineChart(height=400, width=800,\n",
    "                            x_is_date=True, x_axis_format=\"%d %b %Y\",\n",
    "                            jquery_on_ready=True)\n",
    "chart9.set_containerheader(\"\\n\\n<h2>\" + type + \"</h2>\\n\\n\")\n",
    "\n",
    "xdata = list(range(nb_element))\n",
    "xdata = [start_time + x * 1000000000 for x in xdata]\n",
    "ydata = [i + random.randint(1, 10) for i in range(nb_element)]\n",
    "ydata2 = [x * 2 for x in ydata]\n",
    "\n",
    "extra_serie = {\"tooltip\": {\"y_start\": \"\", \"y_end\": \" Calls\"}}\n",
    "chart9.add_serie(name=\"Count\", y=ydata, x=xdata, extra=extra_serie)\n",
    "extra_serie = {\"tooltip\": {\"y_start\": \"\", \"y_end\": \" Min\"}}\n",
    "chart9.add_serie(name=\"Duration\", y=ydata2, x=xdata, extra=extra_serie)\n",
    "chart9\n"
   ]
  },
  {
   "cell_type": "code",
   "execution_count": null,
   "metadata": {
    "collapsed": true
   },
   "outputs": [],
   "source": []
  }
 ],
 "metadata": {
  "kernelspec": {
   "display_name": "Python 2",
   "language": "python",
   "name": "python2"
  },
  "language_info": {
   "codemirror_mode": {
    "name": "ipython",
    "version": 2
   },
   "file_extension": ".py",
   "mimetype": "text/x-python",
   "name": "python",
   "nbconvert_exporter": "python",
   "pygments_lexer": "ipython2",
   "version": "2.7.11"
  }
 },
 "nbformat": 4,
 "nbformat_minor": 0
}
