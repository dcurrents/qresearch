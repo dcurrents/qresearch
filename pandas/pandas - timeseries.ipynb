{
 "cells": [
  {
   "cell_type": "markdown",
   "metadata": {},
   "source": [
    "### Time Series Analysis"
   ]
  },
  {
   "cell_type": "code",
   "execution_count": 1,
   "metadata": {
    "collapsed": false
   },
   "outputs": [
    {
     "data": {
      "text/html": [
       "<style>body {\n",
       "    margin: 0;\n",
       "    font-family: Serif;\n",
       "}\n",
       "table.dataframe {\n",
       "    border-collapse: collapse;\n",
       "    border: none;\n",
       "}\n",
       "table.dataframe tr {\n",
       "    border: none;\n",
       "}\n",
       "table.dataframe td, table.dataframe th {\n",
       "    margin: 0;\n",
       "    border: 1px solid white;\n",
       "    padding-left: 0.25em;\n",
       "    padding-right: 0.25em;\n",
       "    font-family: Serif;\n",
       "}\n",
       "table.dataframe th:not(:empty) {\n",
       "    background-color: #fec;\n",
       "    text-align: center;\n",
       "    font-weight: bold;\n",
       "    padding-left: 0.25em;\n",
       "    padding-right: 0.25em;\n",
       "    font-family: Serif;\n",
       "}\n",
       "table.dataframe tr:nth-child(2) th:empty {\n",
       "    border-left: none;\n",
       "    border-right: 1px dashed #888;\n",
       "}\n",
       "table.dataframe td {\n",
       "    border: 2px solid #ccf;\n",
       "    background-color: #f4f4ff;\n",
       "}h3 {\n",
       "    color: white;\n",
       "    background-color: black;\n",
       "    padding: 0.5em;\n",
       "    font-family: Sans;\n",
       "}\n",
       "</style>"
      ],
      "text/plain": [
       "<IPython.core.display.HTML object>"
      ]
     },
     "execution_count": 1,
     "metadata": {},
     "output_type": "execute_result"
    }
   ],
   "source": [
    "%matplotlib inline\n",
    "\n",
    "from IPython.core.display import HTML\n",
    "from IPython.display import Image\n",
    "css = open('style-table.css').read() + open('style-notebook.css').read()\n",
    "HTML('<style>{}</style>'.format(css))"
   ]
  },
  {
   "cell_type": "code",
   "execution_count": 2,
   "metadata": {
    "collapsed": true
   },
   "outputs": [],
   "source": [
    "import numpy as np\n",
    "import matplotlib as mpl\n",
    "import matplotlib.pyplot as plt\n",
    "import seaborn as sns\n",
    "import numpy as np\n",
    "import pandas as pd\n",
    "import pandas_datareader as pdr\n",
    "import pandas_datareader.data as web\n",
    "from datetime import datetime, timedelta\n",
    "from dateutil.parser import parse\n",
    "\n",
    "sns.set(style=\"ticks\", color_codes=True)\n",
    "sns.set_context(\"notebook\")"
   ]
  },
  {
   "cell_type": "code",
   "execution_count": 3,
   "metadata": {
    "collapsed": false
   },
   "outputs": [],
   "source": [
    "# Creating requests cache. This will store data locally and reuse it.\n",
    "import requests_cache\n",
    "expire_after = timedelta(days=1)\n",
    "session = requests_cache.CachedSession(cache_name='cache', backend='sqlite', expire_after=expire_after)"
   ]
  },
  {
   "cell_type": "code",
   "execution_count": 4,
   "metadata": {
    "collapsed": false
   },
   "outputs": [],
   "source": [
    "# Get some data\n",
    "end = datetime.now()\n",
    "start = datetime(end.year - 2, end.month, end.day)\n",
    "aapl = web.DataReader(\"AAPL\",'yahoo',start,end, session = session)"
   ]
  },
  {
   "cell_type": "code",
   "execution_count": 5,
   "metadata": {
    "collapsed": false
   },
   "outputs": [
    {
     "data": {
      "text/html": [
       "<div>\n",
       "<table border=\"1\" class=\"dataframe\">\n",
       "  <thead>\n",
       "    <tr style=\"text-align: right;\">\n",
       "      <th></th>\n",
       "      <th>Open</th>\n",
       "      <th>High</th>\n",
       "      <th>Low</th>\n",
       "      <th>Close</th>\n",
       "      <th>Volume</th>\n",
       "      <th>Adj Close</th>\n",
       "    </tr>\n",
       "    <tr>\n",
       "      <th>Date</th>\n",
       "      <th></th>\n",
       "      <th></th>\n",
       "      <th></th>\n",
       "      <th></th>\n",
       "      <th></th>\n",
       "      <th></th>\n",
       "    </tr>\n",
       "  </thead>\n",
       "  <tbody>\n",
       "    <tr>\n",
       "      <th>2014-07-11</th>\n",
       "      <td>95.360001</td>\n",
       "      <td>95.889999</td>\n",
       "      <td>94.860001</td>\n",
       "      <td>95.220001</td>\n",
       "      <td>34018000</td>\n",
       "      <td>91.700244</td>\n",
       "    </tr>\n",
       "    <tr>\n",
       "      <th>2014-07-14</th>\n",
       "      <td>95.860001</td>\n",
       "      <td>96.889999</td>\n",
       "      <td>95.650002</td>\n",
       "      <td>96.449997</td>\n",
       "      <td>42810000</td>\n",
       "      <td>92.884773</td>\n",
       "    </tr>\n",
       "    <tr>\n",
       "      <th>2014-07-15</th>\n",
       "      <td>96.800003</td>\n",
       "      <td>96.849998</td>\n",
       "      <td>95.029999</td>\n",
       "      <td>95.320000</td>\n",
       "      <td>45477900</td>\n",
       "      <td>91.796546</td>\n",
       "    </tr>\n",
       "    <tr>\n",
       "      <th>2014-07-16</th>\n",
       "      <td>96.970001</td>\n",
       "      <td>97.099998</td>\n",
       "      <td>94.739998</td>\n",
       "      <td>94.779999</td>\n",
       "      <td>53396300</td>\n",
       "      <td>91.276506</td>\n",
       "    </tr>\n",
       "    <tr>\n",
       "      <th>2014-07-17</th>\n",
       "      <td>95.029999</td>\n",
       "      <td>95.279999</td>\n",
       "      <td>92.570000</td>\n",
       "      <td>93.089996</td>\n",
       "      <td>57298000</td>\n",
       "      <td>89.648973</td>\n",
       "    </tr>\n",
       "  </tbody>\n",
       "</table>\n",
       "</div>"
      ],
      "text/plain": [
       "                 Open       High        Low      Close    Volume  Adj Close\n",
       "Date                                                                       \n",
       "2014-07-11  95.360001  95.889999  94.860001  95.220001  34018000  91.700244\n",
       "2014-07-14  95.860001  96.889999  95.650002  96.449997  42810000  92.884773\n",
       "2014-07-15  96.800003  96.849998  95.029999  95.320000  45477900  91.796546\n",
       "2014-07-16  96.970001  97.099998  94.739998  94.779999  53396300  91.276506\n",
       "2014-07-17  95.029999  95.279999  92.570000  93.089996  57298000  89.648973"
      ]
     },
     "execution_count": 5,
     "metadata": {},
     "output_type": "execute_result"
    }
   ],
   "source": [
    "aapl.head()"
   ]
  },
  {
   "cell_type": "code",
   "execution_count": 6,
   "metadata": {
    "collapsed": false
   },
   "outputs": [
    {
     "data": {
      "text/plain": [
       "datetime.datetime(2010, 1, 23, 0, 0)"
      ]
     },
     "execution_count": 6,
     "metadata": {},
     "output_type": "execute_result"
    }
   ],
   "source": [
    "dt1 = parse('2010-1-23')\n",
    "dt1"
   ]
  },
  {
   "cell_type": "code",
   "execution_count": 21,
   "metadata": {
    "collapsed": false
   },
   "outputs": [
    {
     "data": {
      "text/plain": [
       "'2010-01-23'"
      ]
     },
     "execution_count": 21,
     "metadata": {},
     "output_type": "execute_result"
    }
   ],
   "source": [
    "st1 = dt1.strftime('%m-%d-%Y')\n",
    "st1 = dt1.strftime('%F')\n",
    "st1"
   ]
  },
  {
   "cell_type": "code",
   "execution_count": 8,
   "metadata": {
    "collapsed": false
   },
   "outputs": [
    {
     "data": {
      "text/plain": [
       "Timestamp('2010-01-23 00:00:00')"
      ]
     },
     "execution_count": 8,
     "metadata": {},
     "output_type": "execute_result"
    }
   ],
   "source": [
    "pd.to_datetime(st1)"
   ]
  },
  {
   "cell_type": "code",
   "execution_count": null,
   "metadata": {
    "collapsed": false
   },
   "outputs": [],
   "source": []
  },
  {
   "cell_type": "markdown",
   "metadata": {},
   "source": [
    "### Indexing, Selection, Subsetting"
   ]
  },
  {
   "cell_type": "code",
   "execution_count": 9,
   "metadata": {
    "collapsed": false
   },
   "outputs": [
    {
     "name": "stdout",
     "output_type": "stream",
     "text": [
      "2000-01-01    1.324722\n",
      "2000-01-02   -0.206807\n",
      "2000-01-03   -0.240085\n",
      "2000-01-04   -1.104607\n",
      "2000-01-05    0.522831\n",
      "Freq: D, dtype: float64\n",
      "-------\n",
      "DatetimeIndex(['2000-01-01', '2000-01-02', '2000-01-03', '2000-01-04',\n",
      "               '2000-01-05', '2000-01-06', '2000-01-07', '2000-01-08',\n",
      "               '2000-01-09', '2000-01-10',\n",
      "               ...\n",
      "               '2002-09-17', '2002-09-18', '2002-09-19', '2002-09-20',\n",
      "               '2002-09-21', '2002-09-22', '2002-09-23', '2002-09-24',\n",
      "               '2002-09-25', '2002-09-26'],\n",
      "              dtype='datetime64[ns]', length=1000, freq='D')\n"
     ]
    }
   ],
   "source": [
    "ts = pd.Series(np.random.randn(1000), index=pd.date_range('1/1/2000', periods=1000))\n",
    "print ts.head()\n",
    "print '-------'\n",
    "print ts.index"
   ]
  },
  {
   "cell_type": "code",
   "execution_count": 34,
   "metadata": {
    "collapsed": false
   },
   "outputs": [
    {
     "name": "stdout",
     "output_type": "stream",
     "text": [
      "2001-01-01   -0.236617\n",
      "2001-01-02    0.145243\n",
      "2001-01-03   -0.066866\n",
      "2001-01-04    0.902928\n",
      "2001-01-05    0.718842\n",
      "Freq: D, dtype: float64\n",
      "2001-02-01   -0.708197\n",
      "2001-02-02   -1.316464\n",
      "2001-02-03   -2.380152\n",
      "2001-02-04   -0.248703\n",
      "2001-02-05    0.028782\n",
      "Freq: D, dtype: float64\n",
      "2001-03-07   -0.288189\n",
      "2001-03-08    0.199245\n",
      "2001-03-09    1.700050\n",
      "2001-03-10    1.087340\n",
      "2001-03-11   -0.803317\n",
      "Freq: D, dtype: float64\n",
      "2001-05-01   -0.007989\n",
      "2001-05-02    1.059096\n",
      "2001-05-03   -0.586033\n",
      "2001-05-04   -1.586948\n",
      "2001-05-05   -1.034211\n",
      "Freq: D, dtype: float64\n",
      "2000-01-01    1.324722\n",
      "2000-01-02   -0.206807\n",
      "2000-01-03   -0.240085\n",
      "2000-01-04   -1.104607\n",
      "2000-01-05    0.522831\n",
      "Freq: D, dtype: float64\n",
      "2000-06-01   -1.097253\n",
      "2000-06-02    0.725093\n",
      "2000-06-03   -1.023762\n",
      "2000-06-04    0.442504\n",
      "2000-06-05   -0.125133\n",
      "Freq: D, dtype: float64\n"
     ]
    }
   ],
   "source": [
    "print ts['2001-1'].head()\n",
    "print ts['2001-2':'2001-3'].head()\n",
    "print ts[datetime(2001,3,7):datetime(2001,3,12)].head()\n",
    "print ts.truncate(before='2001-5-1').head()\n",
    "print ts.truncate(after='2001-1-1').head()\n",
    "print ts[datetime(2000,6,1):].head()"
   ]
  },
  {
   "cell_type": "code",
   "execution_count": 35,
   "metadata": {
    "collapsed": false
   },
   "outputs": [
    {
     "data": {
      "text/html": [
       "<div>\n",
       "<table border=\"1\" class=\"dataframe\">\n",
       "  <thead>\n",
       "    <tr style=\"text-align: right;\">\n",
       "      <th></th>\n",
       "      <th>Colorado</th>\n",
       "      <th>Texas</th>\n",
       "      <th>New York</th>\n",
       "      <th>Ohio</th>\n",
       "    </tr>\n",
       "  </thead>\n",
       "  <tbody>\n",
       "    <tr>\n",
       "      <th>2000-01-05</th>\n",
       "      <td>0.286472</td>\n",
       "      <td>1.237734</td>\n",
       "      <td>0.019677</td>\n",
       "      <td>0.518226</td>\n",
       "    </tr>\n",
       "    <tr>\n",
       "      <th>2000-01-12</th>\n",
       "      <td>0.033036</td>\n",
       "      <td>-1.615967</td>\n",
       "      <td>-0.279670</td>\n",
       "      <td>-2.678463</td>\n",
       "    </tr>\n",
       "    <tr>\n",
       "      <th>2000-01-19</th>\n",
       "      <td>-1.409606</td>\n",
       "      <td>0.710044</td>\n",
       "      <td>0.742960</td>\n",
       "      <td>-0.076607</td>\n",
       "    </tr>\n",
       "    <tr>\n",
       "      <th>2000-01-26</th>\n",
       "      <td>0.866514</td>\n",
       "      <td>-0.302470</td>\n",
       "      <td>1.234499</td>\n",
       "      <td>0.985711</td>\n",
       "    </tr>\n",
       "    <tr>\n",
       "      <th>2000-02-02</th>\n",
       "      <td>-1.614416</td>\n",
       "      <td>0.287276</td>\n",
       "      <td>0.956992</td>\n",
       "      <td>1.453917</td>\n",
       "    </tr>\n",
       "  </tbody>\n",
       "</table>\n",
       "</div>"
      ],
      "text/plain": [
       "            Colorado     Texas  New York      Ohio\n",
       "2000-01-05  0.286472  1.237734  0.019677  0.518226\n",
       "2000-01-12  0.033036 -1.615967 -0.279670 -2.678463\n",
       "2000-01-19 -1.409606  0.710044  0.742960 -0.076607\n",
       "2000-01-26  0.866514 -0.302470  1.234499  0.985711\n",
       "2000-02-02 -1.614416  0.287276  0.956992  1.453917"
      ]
     },
     "execution_count": 35,
     "metadata": {},
     "output_type": "execute_result"
    }
   ],
   "source": [
    "dates = pd.date_range('1/1/2000', periods=100, freq='W-WED')\n",
    "df2 = pd.DataFrame(np.random.randn(100, 4), index=dates, columns=['Colorado', 'Texas', 'New York', 'Ohio'])\n",
    "df2.head()"
   ]
  },
  {
   "cell_type": "code",
   "execution_count": 12,
   "metadata": {
    "collapsed": false
   },
   "outputs": [
    {
     "name": "stdout",
     "output_type": "stream",
     "text": [
      "2000-01-02 00:00:00\n"
     ]
    },
    {
     "data": {
      "text/plain": [
       "-0.20680686264124787"
      ]
     },
     "execution_count": 12,
     "metadata": {},
     "output_type": "execute_result"
    }
   ],
   "source": [
    "stamp = ts.index[1]\n",
    "print(stamp)\n",
    "ts[stamp]"
   ]
  },
  {
   "cell_type": "code",
   "execution_count": null,
   "metadata": {
    "collapsed": true
   },
   "outputs": [],
   "source": []
  }
 ],
 "metadata": {
  "kernelspec": {
   "display_name": "Python 2",
   "language": "python",
   "name": "python2"
  },
  "language_info": {
   "codemirror_mode": {
    "name": "ipython",
    "version": 2
   },
   "file_extension": ".py",
   "mimetype": "text/x-python",
   "name": "python",
   "nbconvert_exporter": "python",
   "pygments_lexer": "ipython2",
   "version": "2.7.11"
  }
 },
 "nbformat": 4,
 "nbformat_minor": 0
}
