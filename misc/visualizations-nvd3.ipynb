{
 "cells": [
  {
   "cell_type": "code",
   "execution_count": 1,
   "metadata": {
    "collapsed": false,
    "slideshow": {
     "slide_type": "slide"
    }
   },
   "outputs": [
    {
     "name": "stdout",
     "output_type": "stream",
     "text": [
      "loaded nvd3 IPython extension\n",
      "run nvd3.ipynb.initialize_javascript() to set up the notebook\n",
      "help(nvd3.ipynb.initialize_javascript) for options\n"
     ]
    },
    {
     "data": {
      "text/html": [
       "<link media=\"all\" href=\"https://cdnjs.cloudflare.com/ajax/libs/nvd3/1.7.0/nv.d3.min.css\" type=\"text/css\"\n",
       "                        rel=\"stylesheet\"/>"
      ],
      "text/plain": [
       "<IPython.core.display.HTML object>"
      ]
     },
     "metadata": {},
     "output_type": "display_data"
    },
    {
     "data": {
      "application/javascript": [
       "$.getScript(\"https://cdnjs.cloudflare.com/ajax/libs/nvd3/1.7.0/nv.d3.min.js\")"
      ],
      "text/plain": [
       "<IPython.core.display.Javascript object>"
      ]
     },
     "metadata": {},
     "output_type": "display_data"
    },
    {
     "data": {
      "application/javascript": [
       "$.getScript(\"https://cdnjs.cloudflare.com/ajax/libs/d3/3.5.5/d3.min.js\", function() {\n",
       "                              $.getScript(\"https://cdnjs.cloudflare.com/ajax/libs/nvd3/1.7.0/nv.d3.min.js\", function() {})});"
      ],
      "text/plain": [
       "<IPython.core.display.Javascript object>"
      ]
     },
     "metadata": {},
     "output_type": "display_data"
    },
    {
     "data": {
      "text/html": [
       "<script src=\"https://cdnjs.cloudflare.com/ajax/libs/d3/3.5.5/d3.min.js\"></script>"
      ],
      "text/plain": [
       "<IPython.core.display.HTML object>"
      ]
     },
     "metadata": {},
     "output_type": "display_data"
    },
    {
     "data": {
      "text/html": [
       "<script src=\"https://cdnjs.cloudflare.com/ajax/libs/nvd3/1.7.0/nv.d3.min.js\"></script>"
      ],
      "text/plain": [
       "<IPython.core.display.HTML object>"
      ]
     },
     "metadata": {},
     "output_type": "display_data"
    }
   ],
   "source": [
    "import random\n",
    "from IPython import display as d\n",
    "import nvd3\n",
    "nvd3.ipynb.initialize_javascript(use_remote=True)\n",
    "\n",
    "import time\n",
    "import datetime\n",
    "\n",
    "start_time = int(time.mktime(datetime.datetime(2012, 6, 1).timetuple()) * 1000)"
   ]
  },
  {
   "cell_type": "code",
   "execution_count": 2,
   "metadata": {
    "collapsed": false,
    "slideshow": {
     "slide_type": "slide"
    }
   },
   "outputs": [
    {
     "data": {
      "text/html": [
       "<link media=\"all\" href=\"https://cdnjs.cloudflare.com/ajax/libs/nvd3/1.7.0/nv.d3.min.css\" type=\"text/css\"\n",
       "                        rel=\"stylesheet\"/>"
      ],
      "text/plain": [
       "<IPython.core.display.HTML object>"
      ]
     },
     "metadata": {},
     "output_type": "display_data"
    },
    {
     "data": {
      "application/javascript": [
       "$.getScript(\"https://cdnjs.cloudflare.com/ajax/libs/nvd3/1.7.0/nv.d3.min.js\")"
      ],
      "text/plain": [
       "<IPython.core.display.Javascript object>"
      ]
     },
     "metadata": {},
     "output_type": "display_data"
    },
    {
     "data": {
      "application/javascript": [
       "$.getScript(\"https://cdnjs.cloudflare.com/ajax/libs/d3/3.5.5/d3.min.js\", function() {\n",
       "                              $.getScript(\"https://cdnjs.cloudflare.com/ajax/libs/nvd3/1.7.0/nv.d3.min.js\", function() {})});"
      ],
      "text/plain": [
       "<IPython.core.display.Javascript object>"
      ]
     },
     "metadata": {},
     "output_type": "display_data"
    },
    {
     "data": {
      "text/html": [
       "<script src=\"https://cdnjs.cloudflare.com/ajax/libs/d3/3.5.5/d3.min.js\"></script>"
      ],
      "text/plain": [
       "<IPython.core.display.HTML object>"
      ]
     },
     "metadata": {},
     "output_type": "display_data"
    },
    {
     "data": {
      "text/html": [
       "<script src=\"https://cdnjs.cloudflare.com/ajax/libs/nvd3/1.7.0/nv.d3.min.js\"></script>"
      ],
      "text/plain": [
       "<IPython.core.display.HTML object>"
      ]
     },
     "metadata": {},
     "output_type": "display_data"
    }
   ],
   "source": [
    "#help(nvd3.ipynb.initialize_javascript)\n",
    "nvd3.ipynb.initialize_javascript(use_remote=True)"
   ]
  },
  {
   "cell_type": "code",
   "execution_count": 3,
   "metadata": {
    "collapsed": false,
    "slideshow": {
     "slide_type": "slide"
    }
   },
   "outputs": [
    {
     "data": {
      "text/html": [
       "<!DOCTYPE html>\n",
       "<html lang=\"en\">\n",
       "    <head>\n",
       "        <meta charset=\"utf-8\" />\n",
       "        <link href=\"https://cdnjs.cloudflare.com/ajax/libs/nvd3/1.7.0/nv.d3.min.css\" rel=\"stylesheet\" />\n",
       "        <script src=\"https://cdnjs.cloudflare.com/ajax/libs/d3/3.5.5/d3.min.js\"></script>\n",
       "        <script src=\"https://cdnjs.cloudflare.com/ajax/libs/nvd3/1.7.0/nv.d3.min.js\"></script>\n",
       "    </head>\n",
       "    <body>\n",
       "        \n",
       "    <div id=\"stackedareachart\"><svg style=\"width:750px;height:350px;\"></svg></div>\n",
       "\n",
       "\n",
       "    <script>\n",
       "\n",
       "\n",
       "            data_stackedareachart=[{\"values\": [{\"y\": 0, \"x\": 0}, {\"y\": 7, \"x\": 1}, {\"y\": 14, \"x\": 2}, {\"y\": 6, \"x\": 3}, {\"y\": 8, \"x\": 4}, {\"y\": 5, \"x\": 5}, {\"y\": 24, \"x\": 6}, {\"y\": 56, \"x\": 7}, {\"y\": 24, \"x\": 8}, {\"y\": 27, \"x\": 9}, {\"y\": 40, \"x\": 10}, {\"y\": 44, \"x\": 11}, {\"y\": 120, \"x\": 12}, {\"y\": 26, \"x\": 13}, {\"y\": 42, \"x\": 14}, {\"y\": 75, \"x\": 15}, {\"y\": 128, \"x\": 16}, {\"y\": 136, \"x\": 17}, {\"y\": 162, \"x\": 18}, {\"y\": 19, \"x\": 19}, {\"y\": 180, \"x\": 20}, {\"y\": 126, \"x\": 21}, {\"y\": 88, \"x\": 22}, {\"y\": 207, \"x\": 23}, {\"y\": 120, \"x\": 24}, {\"y\": 250, \"x\": 25}, {\"y\": 52, \"x\": 26}, {\"y\": 270, \"x\": 27}, {\"y\": 252, \"x\": 28}, {\"y\": 174, \"x\": 29}, {\"y\": 240, \"x\": 30}, {\"y\": 248, \"x\": 31}, {\"y\": 64, \"x\": 32}, {\"y\": 198, \"x\": 33}, {\"y\": 136, \"x\": 34}, {\"y\": 280, \"x\": 35}, {\"y\": 36, \"x\": 36}, {\"y\": 111, \"x\": 37}, {\"y\": 76, \"x\": 38}, {\"y\": 390, \"x\": 39}, {\"y\": 40, \"x\": 40}, {\"y\": 82, \"x\": 41}, {\"y\": 294, \"x\": 42}, {\"y\": 301, \"x\": 43}, {\"y\": 44, \"x\": 44}, {\"y\": 270, \"x\": 45}, {\"y\": 184, \"x\": 46}, {\"y\": 470, \"x\": 47}, {\"y\": 144, \"x\": 48}, {\"y\": 196, \"x\": 49}], \"key\": \"serie 1\", \"yAxis\": \"1\"}, {\"values\": [{\"y\": 0, \"x\": 0}, {\"y\": 14, \"x\": 1}, {\"y\": 28, \"x\": 2}, {\"y\": 12, \"x\": 3}, {\"y\": 16, \"x\": 4}, {\"y\": 10, \"x\": 5}, {\"y\": 48, \"x\": 6}, {\"y\": 112, \"x\": 7}, {\"y\": 48, \"x\": 8}, {\"y\": 54, \"x\": 9}, {\"y\": 80, \"x\": 10}, {\"y\": 88, \"x\": 11}, {\"y\": 240, \"x\": 12}, {\"y\": 52, \"x\": 13}, {\"y\": 84, \"x\": 14}, {\"y\": 150, \"x\": 15}, {\"y\": 256, \"x\": 16}, {\"y\": 272, \"x\": 17}, {\"y\": 324, \"x\": 18}, {\"y\": 38, \"x\": 19}, {\"y\": 360, \"x\": 20}, {\"y\": 252, \"x\": 21}, {\"y\": 176, \"x\": 22}, {\"y\": 414, \"x\": 23}, {\"y\": 240, \"x\": 24}, {\"y\": 500, \"x\": 25}, {\"y\": 104, \"x\": 26}, {\"y\": 540, \"x\": 27}, {\"y\": 504, \"x\": 28}, {\"y\": 348, \"x\": 29}, {\"y\": 480, \"x\": 30}, {\"y\": 496, \"x\": 31}, {\"y\": 128, \"x\": 32}, {\"y\": 396, \"x\": 33}, {\"y\": 272, \"x\": 34}, {\"y\": 560, \"x\": 35}, {\"y\": 72, \"x\": 36}, {\"y\": 222, \"x\": 37}, {\"y\": 152, \"x\": 38}, {\"y\": 780, \"x\": 39}, {\"y\": 80, \"x\": 40}, {\"y\": 164, \"x\": 41}, {\"y\": 588, \"x\": 42}, {\"y\": 602, \"x\": 43}, {\"y\": 88, \"x\": 44}, {\"y\": 540, \"x\": 45}, {\"y\": 368, \"x\": 46}, {\"y\": 940, \"x\": 47}, {\"y\": 288, \"x\": 48}, {\"y\": 392, \"x\": 49}], \"key\": \"serie 2\", \"yAxis\": \"1\"}, {\"values\": [{\"y\": 0, \"x\": 0}, {\"y\": 35, \"x\": 1}, {\"y\": 70, \"x\": 2}, {\"y\": 30, \"x\": 3}, {\"y\": 40, \"x\": 4}, {\"y\": 25, \"x\": 5}, {\"y\": 120, \"x\": 6}, {\"y\": 280, \"x\": 7}, {\"y\": 120, \"x\": 8}, {\"y\": 135, \"x\": 9}, {\"y\": 200, \"x\": 10}, {\"y\": 220, \"x\": 11}, {\"y\": 600, \"x\": 12}, {\"y\": 130, \"x\": 13}, {\"y\": 210, \"x\": 14}, {\"y\": 375, \"x\": 15}, {\"y\": 640, \"x\": 16}, {\"y\": 680, \"x\": 17}, {\"y\": 810, \"x\": 18}, {\"y\": 95, \"x\": 19}, {\"y\": 900, \"x\": 20}, {\"y\": 630, \"x\": 21}, {\"y\": 440, \"x\": 22}, {\"y\": 1035, \"x\": 23}, {\"y\": 600, \"x\": 24}, {\"y\": 1250, \"x\": 25}, {\"y\": 260, \"x\": 26}, {\"y\": 1350, \"x\": 27}, {\"y\": 1260, \"x\": 28}, {\"y\": 870, \"x\": 29}, {\"y\": 1200, \"x\": 30}, {\"y\": 1240, \"x\": 31}, {\"y\": 320, \"x\": 32}, {\"y\": 990, \"x\": 33}, {\"y\": 680, \"x\": 34}, {\"y\": 1400, \"x\": 35}, {\"y\": 180, \"x\": 36}, {\"y\": 555, \"x\": 37}, {\"y\": 380, \"x\": 38}, {\"y\": 1950, \"x\": 39}, {\"y\": 200, \"x\": 40}, {\"y\": 410, \"x\": 41}, {\"y\": 1470, \"x\": 42}, {\"y\": 1505, \"x\": 43}, {\"y\": 220, \"x\": 44}, {\"y\": 1350, \"x\": 45}, {\"y\": 920, \"x\": 46}, {\"y\": 2350, \"x\": 47}, {\"y\": 720, \"x\": 48}, {\"y\": 980, \"x\": 49}], \"key\": \"serie 3\", \"yAxis\": \"1\"}];\n",
       "\n",
       "    nv.addGraph(function() {\n",
       "        var chart = nv.models.stackedAreaChart().useInteractiveGuideline(true);\n",
       "\n",
       "        chart.margin({top: 30, right: 60, bottom: 20, left: 60});\n",
       "\n",
       "        var datum = data_stackedareachart;\n",
       "\n",
       "\n",
       "\n",
       "\n",
       "\n",
       "            chart.xAxis\n",
       "                .tickFormat(d3.format(',.2f'));\n",
       "            chart.yAxis\n",
       "                .tickFormat(d3.format(',.2f'));\n",
       "\n",
       "\n",
       "      chart.showLegend(true);\n",
       "\n",
       "\n",
       "\n",
       "        \n",
       "\n",
       "\n",
       "        d3.select('#stackedareachart svg')\n",
       "            .datum(datum)\n",
       "            .transition().duration(500)\n",
       "            .attr('width', 750)\n",
       "            .attr('height', 350)\n",
       "            .call(chart);\n",
       "\n",
       "\n",
       "    });\n",
       "\n",
       "\n",
       "\n",
       "    </script>\n",
       "\n",
       "    </body>\n",
       "</html>"
      ],
      "text/plain": [
       "<nvd3.stackedAreaChart.stackedAreaChart at 0x622c278>"
      ]
     },
     "execution_count": 3,
     "metadata": {},
     "output_type": "execute_result"
    }
   ],
   "source": [
    "type = 'stackedAreaChart'\n",
    "\n",
    "chart2 = nvd3.stackedAreaChart(name=type,height=350,width=750, \n",
    "                               use_interactive_guideline=True)\n",
    "nb_element = 50\n",
    "\n",
    "xdata = range(nb_element)\n",
    "ydata = [i * random.randint(1, 10) for i in range(nb_element)]\n",
    "ydata2 = [x * 2 for x in ydata]\n",
    "ydata3 = [x * 5 for x in ydata]\n",
    "\n",
    "chart2.add_serie(name=\"serie 1\", y=ydata, x=xdata)\n",
    "chart2.add_serie(name=\"serie 2\", y=ydata2, x=xdata)\n",
    "chart2.add_serie(name=\"serie 3\", y=ydata3, x=xdata)\n",
    "chart2\n"
   ]
  },
  {
   "cell_type": "code",
   "execution_count": 4,
   "metadata": {
    "collapsed": false
   },
   "outputs": [
    {
     "data": {
      "text/html": [
       "<!DOCTYPE html>\n",
       "<html lang=\"en\">\n",
       "    <head>\n",
       "        <meta charset=\"utf-8\" />\n",
       "        <link href=\"https://cdnjs.cloudflare.com/ajax/libs/nvd3/1.7.0/nv.d3.min.css\" rel=\"stylesheet\" />\n",
       "        <script src=\"https://cdnjs.cloudflare.com/ajax/libs/d3/3.5.5/d3.min.js\"></script>\n",
       "        <script src=\"https://cdnjs.cloudflare.com/ajax/libs/nvd3/1.7.0/nv.d3.min.js\"></script>\n",
       "    </head>\n",
       "    <body>\n",
       "        \n",
       "    <div id=\"scatterchart\"><svg style=\"width:600px;height:300px;\"></svg></div>\n",
       "\n",
       "\n",
       "    <script>\n",
       "\n",
       "\n",
       "\n",
       "            data_scatterchart=[{\"values\": [{\"y\": 0, \"x\": 5, \"shape\": \"circle\", \"size\": \"1\"}, {\"y\": 7, \"x\": 7, \"shape\": \"circle\", \"size\": \"1\"}, {\"y\": 20, \"x\": 7, \"shape\": \"circle\", \"size\": \"1\"}, {\"y\": 9, \"x\": 13, \"shape\": \"circle\", \"size\": \"1\"}, {\"y\": 16, \"x\": 10, \"shape\": \"circle\", \"size\": \"1\"}, {\"y\": 30, \"x\": 11, \"shape\": \"circle\", \"size\": \"1\"}, {\"y\": 54, \"x\": 8, \"shape\": \"circle\", \"size\": \"1\"}, {\"y\": 21, \"x\": 15, \"shape\": \"circle\", \"size\": \"1\"}, {\"y\": 64, \"x\": 13, \"shape\": \"circle\", \"size\": \"1\"}, {\"y\": 27, \"x\": 17, \"shape\": \"circle\", \"size\": \"1\"}, {\"y\": 90, \"x\": 13, \"shape\": \"circle\", \"size\": \"1\"}, {\"y\": 99, \"x\": 13, \"shape\": \"circle\", \"size\": \"1\"}, {\"y\": 96, \"x\": 20, \"shape\": \"circle\", \"size\": \"1\"}, {\"y\": 104, \"x\": 22, \"shape\": \"circle\", \"size\": \"1\"}, {\"y\": 56, \"x\": 20, \"shape\": \"circle\", \"size\": \"1\"}, {\"y\": 150, \"x\": 19, \"shape\": \"circle\", \"size\": \"1\"}, {\"y\": 64, \"x\": 21, \"shape\": \"circle\", \"size\": \"1\"}, {\"y\": 85, \"x\": 26, \"shape\": \"circle\", \"size\": \"1\"}, {\"y\": 126, \"x\": 21, \"shape\": \"circle\", \"size\": \"1\"}, {\"y\": 57, \"x\": 28, \"shape\": \"circle\", \"size\": \"1\"}, {\"y\": 40, \"x\": 27, \"shape\": \"circle\", \"size\": \"1\"}, {\"y\": 42, \"x\": 30, \"shape\": \"circle\", \"size\": \"1\"}, {\"y\": 220, \"x\": 32, \"shape\": \"circle\", \"size\": \"1\"}, {\"y\": 230, \"x\": 31, \"shape\": \"circle\", \"size\": \"1\"}, {\"y\": 144, \"x\": 25, \"shape\": \"circle\", \"size\": \"1\"}, {\"y\": 200, \"x\": 32, \"shape\": \"circle\", \"size\": \"1\"}, {\"y\": 208, \"x\": 34, \"shape\": \"circle\", \"size\": \"1\"}, {\"y\": 216, \"x\": 30, \"shape\": \"circle\", \"size\": \"1\"}, {\"y\": 280, \"x\": 30, \"shape\": \"circle\", \"size\": \"1\"}, {\"y\": 116, \"x\": 31, \"shape\": \"circle\", \"size\": \"1\"}, {\"y\": 60, \"x\": 34, \"shape\": \"circle\", \"size\": \"1\"}, {\"y\": 62, \"x\": 36, \"shape\": \"circle\", \"size\": \"1\"}, {\"y\": 32, \"x\": 38, \"shape\": \"circle\", \"size\": \"1\"}, {\"y\": 264, \"x\": 37, \"shape\": \"circle\", \"size\": \"1\"}, {\"y\": 306, \"x\": 44, \"shape\": \"circle\", \"size\": \"1\"}, {\"y\": 140, \"x\": 44, \"shape\": \"circle\", \"size\": \"1\"}, {\"y\": 252, \"x\": 37, \"shape\": \"circle\", \"size\": \"1\"}, {\"y\": 222, \"x\": 40, \"shape\": \"circle\", \"size\": \"1\"}, {\"y\": 266, \"x\": 40, \"shape\": \"circle\", \"size\": \"1\"}, {\"y\": 39, \"x\": 49, \"shape\": \"circle\", \"size\": \"1\"}, {\"y\": 400, \"x\": 47, \"shape\": \"circle\", \"size\": \"1\"}, {\"y\": 328, \"x\": 45, \"shape\": \"circle\", \"size\": \"1\"}, {\"y\": 126, \"x\": 46, \"shape\": \"circle\", \"size\": \"1\"}, {\"y\": 215, \"x\": 53, \"shape\": \"circle\", \"size\": \"1\"}, {\"y\": 440, \"x\": 47, \"shape\": \"circle\", \"size\": \"1\"}, {\"y\": 315, \"x\": 52, \"shape\": \"circle\", \"size\": \"1\"}, {\"y\": 460, \"x\": 55, \"shape\": \"circle\", \"size\": \"1\"}, {\"y\": 188, \"x\": 51, \"shape\": \"circle\", \"size\": \"1\"}, {\"y\": 240, \"x\": 58, \"shape\": \"circle\", \"size\": \"1\"}, {\"y\": 490, \"x\": 57, \"shape\": \"circle\", \"size\": \"1\"}], \"key\": \"serie 1\", \"yAxis\": \"1\"}, {\"values\": [{\"y\": 0, \"x\": 5, \"shape\": \"cross\", \"size\": \"10\"}, {\"y\": 14, \"x\": 7, \"shape\": \"cross\", \"size\": \"10\"}, {\"y\": 40, \"x\": 7, \"shape\": \"cross\", \"size\": \"10\"}, {\"y\": 18, \"x\": 13, \"shape\": \"cross\", \"size\": \"10\"}, {\"y\": 32, \"x\": 10, \"shape\": \"cross\", \"size\": \"10\"}, {\"y\": 60, \"x\": 11, \"shape\": \"cross\", \"size\": \"10\"}, {\"y\": 108, \"x\": 8, \"shape\": \"cross\", \"size\": \"10\"}, {\"y\": 42, \"x\": 15, \"shape\": \"cross\", \"size\": \"10\"}, {\"y\": 128, \"x\": 13, \"shape\": \"cross\", \"size\": \"10\"}, {\"y\": 54, \"x\": 17, \"shape\": \"cross\", \"size\": \"10\"}, {\"y\": 180, \"x\": 13, \"shape\": \"cross\", \"size\": \"10\"}, {\"y\": 198, \"x\": 13, \"shape\": \"cross\", \"size\": \"10\"}, {\"y\": 192, \"x\": 20, \"shape\": \"cross\", \"size\": \"10\"}, {\"y\": 208, \"x\": 22, \"shape\": \"cross\", \"size\": \"10\"}, {\"y\": 112, \"x\": 20, \"shape\": \"cross\", \"size\": \"10\"}, {\"y\": 300, \"x\": 19, \"shape\": \"cross\", \"size\": \"10\"}, {\"y\": 128, \"x\": 21, \"shape\": \"cross\", \"size\": \"10\"}, {\"y\": 170, \"x\": 26, \"shape\": \"cross\", \"size\": \"10\"}, {\"y\": 252, \"x\": 21, \"shape\": \"cross\", \"size\": \"10\"}, {\"y\": 114, \"x\": 28, \"shape\": \"cross\", \"size\": \"10\"}, {\"y\": 80, \"x\": 27, \"shape\": \"cross\", \"size\": \"10\"}, {\"y\": 84, \"x\": 30, \"shape\": \"cross\", \"size\": \"10\"}, {\"y\": 440, \"x\": 32, \"shape\": \"cross\", \"size\": \"10\"}, {\"y\": 460, \"x\": 31, \"shape\": \"cross\", \"size\": \"10\"}, {\"y\": 288, \"x\": 25, \"shape\": \"cross\", \"size\": \"10\"}, {\"y\": 400, \"x\": 32, \"shape\": \"cross\", \"size\": \"10\"}, {\"y\": 416, \"x\": 34, \"shape\": \"cross\", \"size\": \"10\"}, {\"y\": 432, \"x\": 30, \"shape\": \"cross\", \"size\": \"10\"}, {\"y\": 560, \"x\": 30, \"shape\": \"cross\", \"size\": \"10\"}, {\"y\": 232, \"x\": 31, \"shape\": \"cross\", \"size\": \"10\"}, {\"y\": 120, \"x\": 34, \"shape\": \"cross\", \"size\": \"10\"}, {\"y\": 124, \"x\": 36, \"shape\": \"cross\", \"size\": \"10\"}, {\"y\": 64, \"x\": 38, \"shape\": \"cross\", \"size\": \"10\"}, {\"y\": 528, \"x\": 37, \"shape\": \"cross\", \"size\": \"10\"}, {\"y\": 612, \"x\": 44, \"shape\": \"cross\", \"size\": \"10\"}, {\"y\": 280, \"x\": 44, \"shape\": \"cross\", \"size\": \"10\"}, {\"y\": 504, \"x\": 37, \"shape\": \"cross\", \"size\": \"10\"}, {\"y\": 444, \"x\": 40, \"shape\": \"cross\", \"size\": \"10\"}, {\"y\": 532, \"x\": 40, \"shape\": \"cross\", \"size\": \"10\"}, {\"y\": 78, \"x\": 49, \"shape\": \"cross\", \"size\": \"10\"}, {\"y\": 800, \"x\": 47, \"shape\": \"cross\", \"size\": \"10\"}, {\"y\": 656, \"x\": 45, \"shape\": \"cross\", \"size\": \"10\"}, {\"y\": 252, \"x\": 46, \"shape\": \"cross\", \"size\": \"10\"}, {\"y\": 430, \"x\": 53, \"shape\": \"cross\", \"size\": \"10\"}, {\"y\": 880, \"x\": 47, \"shape\": \"cross\", \"size\": \"10\"}, {\"y\": 630, \"x\": 52, \"shape\": \"cross\", \"size\": \"10\"}, {\"y\": 920, \"x\": 55, \"shape\": \"cross\", \"size\": \"10\"}, {\"y\": 376, \"x\": 51, \"shape\": \"cross\", \"size\": \"10\"}, {\"y\": 480, \"x\": 58, \"shape\": \"cross\", \"size\": \"10\"}, {\"y\": 980, \"x\": 57, \"shape\": \"cross\", \"size\": \"10\"}], \"key\": \"serie 2\", \"yAxis\": \"1\"}, {\"values\": [{\"y\": 0, \"x\": 5, \"shape\": \"triangle-up\", \"size\": \"100\"}, {\"y\": 35, \"x\": 7, \"shape\": \"triangle-up\", \"size\": \"100\"}, {\"y\": 100, \"x\": 7, \"shape\": \"triangle-up\", \"size\": \"100\"}, {\"y\": 45, \"x\": 13, \"shape\": \"triangle-up\", \"size\": \"100\"}, {\"y\": 80, \"x\": 10, \"shape\": \"triangle-up\", \"size\": \"100\"}, {\"y\": 150, \"x\": 11, \"shape\": \"triangle-up\", \"size\": \"100\"}, {\"y\": 270, \"x\": 8, \"shape\": \"triangle-up\", \"size\": \"100\"}, {\"y\": 105, \"x\": 15, \"shape\": \"triangle-up\", \"size\": \"100\"}, {\"y\": 320, \"x\": 13, \"shape\": \"triangle-up\", \"size\": \"100\"}, {\"y\": 135, \"x\": 17, \"shape\": \"triangle-up\", \"size\": \"100\"}, {\"y\": 450, \"x\": 13, \"shape\": \"triangle-up\", \"size\": \"100\"}, {\"y\": 495, \"x\": 13, \"shape\": \"triangle-up\", \"size\": \"100\"}, {\"y\": 480, \"x\": 20, \"shape\": \"triangle-up\", \"size\": \"100\"}, {\"y\": 520, \"x\": 22, \"shape\": \"triangle-up\", \"size\": \"100\"}, {\"y\": 280, \"x\": 20, \"shape\": \"triangle-up\", \"size\": \"100\"}, {\"y\": 750, \"x\": 19, \"shape\": \"triangle-up\", \"size\": \"100\"}, {\"y\": 320, \"x\": 21, \"shape\": \"triangle-up\", \"size\": \"100\"}, {\"y\": 425, \"x\": 26, \"shape\": \"triangle-up\", \"size\": \"100\"}, {\"y\": 630, \"x\": 21, \"shape\": \"triangle-up\", \"size\": \"100\"}, {\"y\": 285, \"x\": 28, \"shape\": \"triangle-up\", \"size\": \"100\"}, {\"y\": 200, \"x\": 27, \"shape\": \"triangle-up\", \"size\": \"100\"}, {\"y\": 210, \"x\": 30, \"shape\": \"triangle-up\", \"size\": \"100\"}, {\"y\": 1100, \"x\": 32, \"shape\": \"triangle-up\", \"size\": \"100\"}, {\"y\": 1150, \"x\": 31, \"shape\": \"triangle-up\", \"size\": \"100\"}, {\"y\": 720, \"x\": 25, \"shape\": \"triangle-up\", \"size\": \"100\"}, {\"y\": 1000, \"x\": 32, \"shape\": \"triangle-up\", \"size\": \"100\"}, {\"y\": 1040, \"x\": 34, \"shape\": \"triangle-up\", \"size\": \"100\"}, {\"y\": 1080, \"x\": 30, \"shape\": \"triangle-up\", \"size\": \"100\"}, {\"y\": 1400, \"x\": 30, \"shape\": \"triangle-up\", \"size\": \"100\"}, {\"y\": 580, \"x\": 31, \"shape\": \"triangle-up\", \"size\": \"100\"}, {\"y\": 300, \"x\": 34, \"shape\": \"triangle-up\", \"size\": \"100\"}, {\"y\": 310, \"x\": 36, \"shape\": \"triangle-up\", \"size\": \"100\"}, {\"y\": 160, \"x\": 38, \"shape\": \"triangle-up\", \"size\": \"100\"}, {\"y\": 1320, \"x\": 37, \"shape\": \"triangle-up\", \"size\": \"100\"}, {\"y\": 1530, \"x\": 44, \"shape\": \"triangle-up\", \"size\": \"100\"}, {\"y\": 700, \"x\": 44, \"shape\": \"triangle-up\", \"size\": \"100\"}, {\"y\": 1260, \"x\": 37, \"shape\": \"triangle-up\", \"size\": \"100\"}, {\"y\": 1110, \"x\": 40, \"shape\": \"triangle-up\", \"size\": \"100\"}, {\"y\": 1330, \"x\": 40, \"shape\": \"triangle-up\", \"size\": \"100\"}, {\"y\": 195, \"x\": 49, \"shape\": \"triangle-up\", \"size\": \"100\"}, {\"y\": 2000, \"x\": 47, \"shape\": \"triangle-up\", \"size\": \"100\"}, {\"y\": 1640, \"x\": 45, \"shape\": \"triangle-up\", \"size\": \"100\"}, {\"y\": 630, \"x\": 46, \"shape\": \"triangle-up\", \"size\": \"100\"}, {\"y\": 1075, \"x\": 53, \"shape\": \"triangle-up\", \"size\": \"100\"}, {\"y\": 2200, \"x\": 47, \"shape\": \"triangle-up\", \"size\": \"100\"}, {\"y\": 1575, \"x\": 52, \"shape\": \"triangle-up\", \"size\": \"100\"}, {\"y\": 2300, \"x\": 55, \"shape\": \"triangle-up\", \"size\": \"100\"}, {\"y\": 940, \"x\": 51, \"shape\": \"triangle-up\", \"size\": \"100\"}, {\"y\": 1200, \"x\": 58, \"shape\": \"triangle-up\", \"size\": \"100\"}, {\"y\": 2450, \"x\": 57, \"shape\": \"triangle-up\", \"size\": \"100\"}], \"key\": \"serie 3\", \"yAxis\": \"1\"}];\n",
       "\n",
       "\n",
       "        nv.addGraph(function() {\n",
       "        var chart = nv.models.scatterChart();\n",
       "\n",
       "        chart.margin({top: 30, right: 60, bottom: 20, left: 60});\n",
       "\n",
       "        var datum = data_scatterchart;\n",
       "\n",
       "\n",
       "\n",
       "                chart.xAxis\n",
       "                .tickFormat(d3.format(',.02f'));\n",
       "            chart.yAxis\n",
       "                .tickFormat(d3.format(',.02f'));\n",
       "\n",
       "\n",
       "\n",
       "          chart.showLegend(true);\n",
       "\n",
       "\n",
       "    \n",
       "\n",
       "        \n",
       "\n",
       "\n",
       "\n",
       "\n",
       "    chart\n",
       "        .showDistX(true)\n",
       "        .showDistY(true)\n",
       "        .color(d3.scale.category10().range());\n",
       "\n",
       "            d3.select('#scatterchart svg')\n",
       "            .datum(datum)\n",
       "            .transition().duration(500)\n",
       "            .attr('width', 600)\n",
       "            .attr('height', 300)\n",
       "            .call(chart);\n",
       "\n",
       "\n",
       "        });\n",
       "\n",
       "\n",
       "\n",
       "    </script>\n",
       "\n",
       "    </body>\n",
       "</html>"
      ],
      "text/plain": [
       "<nvd3.scatterChart.scatterChart at 0x6307400>"
      ]
     },
     "execution_count": 4,
     "metadata": {},
     "output_type": "execute_result"
    }
   ],
   "source": [
    "type = 'ScatterChart'\n",
    "\n",
    "chart3 = nvd3.scatterChart(name=type, width=600, height=300, x_is_date=False)\n",
    "nb_element = 50\n",
    "\n",
    "xdata = [i + random.randint(1, 10) for i in range(nb_element)]\n",
    "ydata = [i * random.randint(1, 10) for i in range(nb_element)]\n",
    "ydata2 = [x * 2 for x in ydata]\n",
    "ydata3 = [x * 5 for x in ydata]\n",
    "\n",
    "kwargs1 = {'shape': 'circle', 'size': '1'}\n",
    "kwargs2 = {'shape': 'cross', 'size': '10'}\n",
    "kwargs3 = {'shape': 'triangle-up', 'size': '100'}\n",
    "\n",
    "extra_serie = {\"tooltip\": {\"y_start\": \"\", \"y_end\": \" calls\"}}\n",
    "chart3.add_serie(name=\"serie 1\", y=ydata, x=xdata, extra=extra_serie, **kwargs1)\n",
    "chart3.add_serie(name=\"serie 2\", y=ydata2, x=xdata, extra=extra_serie, **kwargs2)\n",
    "chart3.add_serie(name=\"serie 3\", y=ydata3, x=xdata, extra=extra_serie, **kwargs3)\n",
    "chart3\n"
   ]
  },
  {
   "cell_type": "code",
   "execution_count": 5,
   "metadata": {
    "collapsed": false
   },
   "outputs": [
    {
     "data": {
      "text/html": [
       "<!DOCTYPE html>\n",
       "<html lang=\"en\">\n",
       "    <head>\n",
       "        <meta charset=\"utf-8\" />\n",
       "        <link href=\"https://cdnjs.cloudflare.com/ajax/libs/nvd3/1.7.0/nv.d3.min.css\" rel=\"stylesheet\" />\n",
       "        <script src=\"https://cdnjs.cloudflare.com/ajax/libs/d3/3.5.5/d3.min.js\"></script>\n",
       "        <script src=\"https://cdnjs.cloudflare.com/ajax/libs/nvd3/1.7.0/nv.d3.min.js\"></script>\n",
       "    </head>\n",
       "    <body>\n",
       "        \n",
       "    \n",
       "\n",
       "<h2>pieChart</h2>\n",
       "\n",
       "<div id=\"piechart\"><svg style=\"width:750px;height:350px;\"></svg></div>\n",
       "\n",
       "\n",
       "    <script>\n",
       "\n",
       "\n",
       "\n",
       "    data_piechart=[{\"values\": [{\"value\": 3, \"label\": \"Orange\"}, {\"value\": 4, \"label\": \"Banana\"}, {\"value\": 0, \"label\": \"Pear\"}, {\"value\": 1, \"label\": \"Kiwi\"}, {\"value\": 5, \"label\": \"Apple\"}, {\"value\": 7, \"label\": \"Strawberry\"}, {\"value\": 3, \"label\": \"Pineapple\"}], \"key\": \"Serie 1\"}];\n",
       "\n",
       "    nv.addGraph(function() {\n",
       "        var chart = nv.models.pieChart();\n",
       "        chart.margin({top: 30, right: 60, bottom: 20, left: 60});\n",
       "        var datum = data_piechart[0].values;\n",
       "\n",
       "        chart.color(d3.scale.category20c().range());\n",
       "\n",
       "    chart.tooltipContent(function(key, y, e, graph) {\n",
       "          var x = String(key);\n",
       "              var y =  String(y)  + ' cal';\n",
       "\n",
       "              tooltip_str = '<center><b>'+x+'</b></center>' + y;\n",
       "              return tooltip_str;\n",
       "              });\n",
       "        chart.showLabels(true);\n",
       "\n",
       "            chart.donut(false);\n",
       "\n",
       "    chart.showLegend(true);\n",
       "\n",
       "\n",
       "\n",
       "\n",
       "        chart\n",
       "            .x(function(d) { return d.label })\n",
       "            .y(function(d) { return d.value });\n",
       "\n",
       "        chart.width(750);\n",
       "\n",
       "        chart.height(350);\n",
       "\n",
       "\n",
       "            d3.select('#piechart svg')\n",
       "            .datum(datum)\n",
       "            .transition().duration(500)\n",
       "            .attr('width', 750)\n",
       "            .attr('height', 350)\n",
       "            .call(chart);\n",
       "\n",
       "\n",
       "        });\n",
       "\n",
       "\n",
       "\n",
       "    </script>\n",
       "\n",
       "    </body>\n",
       "</html>"
      ],
      "text/plain": [
       "<nvd3.pieChart.pieChart at 0x622ccf8>"
      ]
     },
     "execution_count": 5,
     "metadata": {},
     "output_type": "execute_result"
    }
   ],
   "source": [
    "type = 'pieChart'\n",
    "chart4 = nvd3.pieChart(name=type, color_category='category20c', height=350, width=750)\n",
    "chart4.set_containerheader(\"\\n\\n<h2>\" + type + \"</h2>\\n\\n\")\n",
    "\n",
    "#Create the keys\n",
    "xdata = [\"Orange\", \"Banana\", \"Pear\", \"Kiwi\", \"Apple\", \"Strawberry\", \"Pineapple\"]\n",
    "ydata = [3, 4, 0, 1, 5, 7, 3]\n",
    "\n",
    "#Add the serie\n",
    "extra_serie = {\"tooltip\": {\"y_start\": \"\", \"y_end\": \" cal\"}}\n",
    "chart4.add_serie(y=ydata, x=xdata, extra=extra_serie)\n",
    "chart4\n"
   ]
  },
  {
   "cell_type": "code",
   "execution_count": 6,
   "metadata": {
    "collapsed": false
   },
   "outputs": [
    {
     "data": {
      "text/html": [
       "<!DOCTYPE html>\n",
       "<html lang=\"en\">\n",
       "    <head>\n",
       "        <meta charset=\"utf-8\" />\n",
       "        <link href=\"https://cdnjs.cloudflare.com/ajax/libs/nvd3/1.7.0/nv.d3.min.css\" rel=\"stylesheet\" />\n",
       "        <script src=\"https://cdnjs.cloudflare.com/ajax/libs/d3/3.5.5/d3.min.js\"></script>\n",
       "        <script src=\"https://cdnjs.cloudflare.com/ajax/libs/nvd3/1.7.0/nv.d3.min.js\"></script>\n",
       "    </head>\n",
       "    <body>\n",
       "        \n",
       "    \n",
       "\n",
       "<h2>linePlusBarChart</h2>\n",
       "\n",
       "<div id=\"lineplusbarchart\"><svg style=\"width:750px;height:350px;\"></svg></div>\n",
       "\n",
       "\n",
       "    <script>\n",
       "\n",
       "\n",
       "\n",
       "            data_lineplusbarchart=[{\"bar\": \"true\", \"values\": [{\"y\": 3, \"x\": 1338534000000}, {\"y\": 11, \"x\": 1339534000000}, {\"y\": 10, \"x\": 1340534000000}, {\"y\": 7, \"x\": 1341534000000}, {\"y\": 12, \"x\": 1342534000000}, {\"y\": 13, \"x\": 1343534000000}, {\"y\": 11, \"x\": 1344534000000}, {\"y\": 12, \"x\": 1345534000000}, {\"y\": 18, \"x\": 1346534000000}, {\"y\": 14, \"x\": 1347534000000}, {\"y\": 14, \"x\": 1348534000000}, {\"y\": 21, \"x\": 1349534000000}, {\"y\": 22, \"x\": 1350534000000}, {\"y\": 22, \"x\": 1351534000000}, {\"y\": 17, \"x\": 1352534000000}, {\"y\": 18, \"x\": 1353534000000}, {\"y\": 25, \"x\": 1354534000000}, {\"y\": 26, \"x\": 1355534000000}, {\"y\": 26, \"x\": 1356534000000}, {\"y\": 21, \"x\": 1357534000000}, {\"y\": 24, \"x\": 1358534000000}, {\"y\": 31, \"x\": 1359534000000}, {\"y\": 25, \"x\": 1360534000000}, {\"y\": 33, \"x\": 1361534000000}, {\"y\": 33, \"x\": 1362534000000}, {\"y\": 31, \"x\": 1363534000000}, {\"y\": 32, \"x\": 1364534000000}, {\"y\": 35, \"x\": 1365534000000}, {\"y\": 31, \"x\": 1366534000000}, {\"y\": 33, \"x\": 1367534000000}, {\"y\": 34, \"x\": 1368534000000}, {\"y\": 35, \"x\": 1369534000000}, {\"y\": 36, \"x\": 1370534000000}, {\"y\": 42, \"x\": 1371534000000}, {\"y\": 43, \"x\": 1372534000000}, {\"y\": 37, \"x\": 1373534000000}, {\"y\": 37, \"x\": 1374534000000}, {\"y\": 43, \"x\": 1375534000000}, {\"y\": 47, \"x\": 1376534000000}, {\"y\": 41, \"x\": 1377534000000}, {\"y\": 42, \"x\": 1378534000000}, {\"y\": 50, \"x\": 1379534000000}, {\"y\": 44, \"x\": 1380534000000}, {\"y\": 52, \"x\": 1381534000000}, {\"y\": 46, \"x\": 1382534000000}, {\"y\": 49, \"x\": 1383534000000}, {\"y\": 52, \"x\": 1384534000000}, {\"y\": 54, \"x\": 1385534000000}, {\"y\": 53, \"x\": 1386534000000}, {\"y\": 58, \"x\": 1387534000000}, {\"y\": 59, \"x\": 1388534000000}, {\"y\": 57, \"x\": 1389534000000}, {\"y\": 54, \"x\": 1390534000000}, {\"y\": 63, \"x\": 1391534000000}, {\"y\": 61, \"x\": 1392534000000}, {\"y\": 63, \"x\": 1393534000000}, {\"y\": 57, \"x\": 1394534000000}, {\"y\": 59, \"x\": 1395534000000}, {\"y\": 62, \"x\": 1396534000000}, {\"y\": 66, \"x\": 1397534000000}, {\"y\": 65, \"x\": 1398534000000}, {\"y\": 69, \"x\": 1399534000000}, {\"y\": 66, \"x\": 1400534000000}, {\"y\": 67, \"x\": 1401534000000}, {\"y\": 69, \"x\": 1402534000000}, {\"y\": 68, \"x\": 1403534000000}, {\"y\": 71, \"x\": 1404534000000}, {\"y\": 68, \"x\": 1405534000000}, {\"y\": 74, \"x\": 1406534000000}, {\"y\": 78, \"x\": 1407534000000}, {\"y\": 78, \"x\": 1408534000000}, {\"y\": 72, \"x\": 1409534000000}, {\"y\": 79, \"x\": 1410534000000}, {\"y\": 80, \"x\": 1411534000000}, {\"y\": 79, \"x\": 1412534000000}, {\"y\": 85, \"x\": 1413534000000}, {\"y\": 81, \"x\": 1414534000000}, {\"y\": 79, \"x\": 1415534000000}, {\"y\": 80, \"x\": 1416534000000}, {\"y\": 85, \"x\": 1417534000000}, {\"y\": 86, \"x\": 1418534000000}, {\"y\": 85, \"x\": 1419534000000}, {\"y\": 86, \"x\": 1420534000000}, {\"y\": 93, \"x\": 1421534000000}, {\"y\": 92, \"x\": 1422534000000}, {\"y\": 93, \"x\": 1423534000000}, {\"y\": 93, \"x\": 1424534000000}, {\"y\": 89, \"x\": 1425534000000}, {\"y\": 93, \"x\": 1426534000000}, {\"y\": 94, \"x\": 1427534000000}, {\"y\": 94, \"x\": 1428534000000}, {\"y\": 99, \"x\": 1429534000000}, {\"y\": 95, \"x\": 1430534000000}, {\"y\": 97, \"x\": 1431534000000}, {\"y\": 97, \"x\": 1432534000000}, {\"y\": 105, \"x\": 1433534000000}, {\"y\": 104, \"x\": 1434534000000}, {\"y\": 102, \"x\": 1435534000000}, {\"y\": 105, \"x\": 1436534000000}, {\"y\": 107, \"x\": 1437534000000}], \"key\": \"Count\", \"yAxis\": \"1\"}, {\"values\": [{\"y\": 106, \"x\": 1338534000000}, {\"y\": 108, \"x\": 1339534000000}, {\"y\": 99, \"x\": 1340534000000}, {\"y\": 104, \"x\": 1341534000000}, {\"y\": 101, \"x\": 1342534000000}, {\"y\": 103, \"x\": 1343534000000}, {\"y\": 95, \"x\": 1344534000000}, {\"y\": 94, \"x\": 1345534000000}, {\"y\": 100, \"x\": 1346534000000}, {\"y\": 92, \"x\": 1347534000000}, {\"y\": 99, \"x\": 1348534000000}, {\"y\": 98, \"x\": 1349534000000}, {\"y\": 92, \"x\": 1350534000000}, {\"y\": 91, \"x\": 1351534000000}, {\"y\": 87, \"x\": 1352534000000}, {\"y\": 85, \"x\": 1353534000000}, {\"y\": 93, \"x\": 1354534000000}, {\"y\": 87, \"x\": 1355534000000}, {\"y\": 86, \"x\": 1356534000000}, {\"y\": 90, \"x\": 1357534000000}, {\"y\": 81, \"x\": 1358534000000}, {\"y\": 85, \"x\": 1359534000000}, {\"y\": 81, \"x\": 1360534000000}, {\"y\": 77, \"x\": 1361534000000}, {\"y\": 79, \"x\": 1362534000000}, {\"y\": 83, \"x\": 1363534000000}, {\"y\": 75, \"x\": 1364534000000}, {\"y\": 81, \"x\": 1365534000000}, {\"y\": 75, \"x\": 1366534000000}, {\"y\": 74, \"x\": 1367534000000}, {\"y\": 74, \"x\": 1368534000000}, {\"y\": 78, \"x\": 1369534000000}, {\"y\": 69, \"x\": 1370534000000}, {\"y\": 70, \"x\": 1371534000000}, {\"y\": 71, \"x\": 1372534000000}, {\"y\": 70, \"x\": 1373534000000}, {\"y\": 64, \"x\": 1374534000000}, {\"y\": 72, \"x\": 1375534000000}, {\"y\": 67, \"x\": 1376534000000}, {\"y\": 63, \"x\": 1377534000000}, {\"y\": 60, \"x\": 1378534000000}, {\"y\": 68, \"x\": 1379534000000}, {\"y\": 66, \"x\": 1380534000000}, {\"y\": 57, \"x\": 1381534000000}, {\"y\": 57, \"x\": 1382534000000}, {\"y\": 58, \"x\": 1383534000000}, {\"y\": 60, \"x\": 1384534000000}, {\"y\": 61, \"x\": 1385534000000}, {\"y\": 59, \"x\": 1386534000000}, {\"y\": 58, \"x\": 1387534000000}, {\"y\": 54, \"x\": 1388534000000}, {\"y\": 58, \"x\": 1389534000000}, {\"y\": 48, \"x\": 1390534000000}, {\"y\": 53, \"x\": 1391534000000}, {\"y\": 53, \"x\": 1392534000000}, {\"y\": 54, \"x\": 1393534000000}, {\"y\": 51, \"x\": 1394534000000}, {\"y\": 47, \"x\": 1395534000000}, {\"y\": 50, \"x\": 1396534000000}, {\"y\": 42, \"x\": 1397534000000}, {\"y\": 40, \"x\": 1398534000000}, {\"y\": 42, \"x\": 1399534000000}, {\"y\": 47, \"x\": 1400534000000}, {\"y\": 42, \"x\": 1401534000000}, {\"y\": 39, \"x\": 1402534000000}, {\"y\": 37, \"x\": 1403534000000}, {\"y\": 37, \"x\": 1404534000000}, {\"y\": 33, \"x\": 1405534000000}, {\"y\": 40, \"x\": 1406534000000}, {\"y\": 39, \"x\": 1407534000000}, {\"y\": 35, \"x\": 1408534000000}, {\"y\": 31, \"x\": 1409534000000}, {\"y\": 33, \"x\": 1410534000000}, {\"y\": 34, \"x\": 1411534000000}, {\"y\": 31, \"x\": 1412534000000}, {\"y\": 33, \"x\": 1413534000000}, {\"y\": 26, \"x\": 1414534000000}, {\"y\": 23, \"x\": 1415534000000}, {\"y\": 27, \"x\": 1416534000000}, {\"y\": 25, \"x\": 1417534000000}, {\"y\": 28, \"x\": 1418534000000}, {\"y\": 23, \"x\": 1419534000000}, {\"y\": 27, \"x\": 1420534000000}, {\"y\": 20, \"x\": 1421534000000}, {\"y\": 17, \"x\": 1422534000000}, {\"y\": 18, \"x\": 1423534000000}, {\"y\": 18, \"x\": 1424534000000}, {\"y\": 19, \"x\": 1425534000000}, {\"y\": 20, \"x\": 1426534000000}, {\"y\": 20, \"x\": 1427534000000}, {\"y\": 19, \"x\": 1428534000000}, {\"y\": 17, \"x\": 1429534000000}, {\"y\": 9, \"x\": 1430534000000}, {\"y\": 14, \"x\": 1431534000000}, {\"y\": 9, \"x\": 1432534000000}, {\"y\": 12, \"x\": 1433534000000}, {\"y\": 7, \"x\": 1434534000000}, {\"y\": 3, \"x\": 1435534000000}, {\"y\": 2, \"x\": 1436534000000}, {\"y\": 7, \"x\": 1437534000000}], \"key\": \"Duration\", \"yAxis\": \"1\"}];\n",
       "\n",
       "\n",
       "        nv.addGraph(function() {\n",
       "        var chart = nv.models.linePlusBarChart();\n",
       "\n",
       "        chart.margin({top: 30, right: 60, bottom: 20, left: 60});\n",
       "\n",
       "        var datum = data_lineplusbarchart;\n",
       "\n",
       "\n",
       "\n",
       "        chart.focusEnable(true);\n",
       "\n",
       "                chart.y1Axis\n",
       "                .tickFormat(function(d) { return d3.format(',f')(d) });\n",
       "            chart.y2Axis\n",
       "                .tickFormat(function(d) { return d3.format(',f')(d) });\n",
       "            chart.xAxis\n",
       "                .tickFormat(function(d) { return d3.time.format('%d %b %Y')(new Date(parseInt(d))) }\n",
       ");\n",
       "            chart.x2Axis\n",
       "                .tickFormat(function(d) { return d3.time.format('%d %b %Y')(new Date(parseInt(d))) }\n",
       ");\n",
       "\n",
       "\n",
       "          chart.showLegend(true);\n",
       "\n",
       "\n",
       "    \n",
       "\n",
       "        \n",
       "\n",
       "\n",
       "\n",
       "            d3.select('#lineplusbarchart svg')\n",
       "            .datum(datum)\n",
       "            .transition().duration(500)\n",
       "            .attr('width', 750)\n",
       "            .attr('height', 350)\n",
       "            .call(chart);\n",
       "\n",
       "\n",
       "        });\n",
       "\n",
       "\n",
       "\n",
       "    </script>\n",
       "\n",
       "    </body>\n",
       "</html>"
      ],
      "text/plain": [
       "<nvd3.linePlusBarChart.linePlusBarChart at 0x6307320>"
      ]
     },
     "execution_count": 6,
     "metadata": {},
     "output_type": "execute_result"
    }
   ],
   "source": [
    "type = \"linePlusBarChart\"\n",
    "chart5 = nvd3.linePlusBarChart(name=type, height=350, width=750,\n",
    "                         x_is_date=True, x_axis_format=\"%d %b %Y\",\n",
    "                         focus_enable=True)\n",
    "chart5.set_containerheader(\"\\n\\n<h2>\" + type + \"</h2>\\n\\n\")\n",
    "\n",
    "nb_element = 100\n",
    "xdata = list(range(nb_element))\n",
    "xdata = [start_time + x * 1000000000 for x in xdata]\n",
    "\n",
    "ydata = [i + random.randint(1, 10) for i in range(nb_element)]\n",
    "ydata2 = [i + random.randint(1, 10) for i in reversed(list(range(nb_element)))]\n",
    "\n",
    "kwargs = {}\n",
    "kwargs['bar'] = True\n",
    "\n",
    "extra_serie = {\"tooltip\": {\"y_start\": \"$ \", \"y_end\": \"\"}}\n",
    "chart5.add_serie(name=\"Count\", y=ydata, x=xdata, extra=extra_serie, **kwargs)\n",
    "\n",
    "extra_serie = {\"tooltip\": {\"y_start\": \"\", \"y_end\": \" min\"}}\n",
    "chart5.add_serie(name=\"Duration\", y=ydata2, x=xdata, extra=extra_serie)\n",
    "\n",
    "chart5\n"
   ]
  },
  {
   "cell_type": "code",
   "execution_count": 7,
   "metadata": {
    "collapsed": false
   },
   "outputs": [
    {
     "data": {
      "text/html": [
       "<!DOCTYPE html>\n",
       "<html lang=\"en\">\n",
       "    <head>\n",
       "        <meta charset=\"utf-8\" />\n",
       "        <link href=\"https://cdnjs.cloudflare.com/ajax/libs/nvd3/1.7.0/nv.d3.min.css\" rel=\"stylesheet\" />\n",
       "        <script src=\"https://cdnjs.cloudflare.com/ajax/libs/d3/3.5.5/d3.min.js\"></script>\n",
       "        <script src=\"https://cdnjs.cloudflare.com/ajax/libs/nvd3/1.7.0/nv.d3.min.js\"></script>\n",
       "    </head>\n",
       "    <body>\n",
       "        \n",
       "    \n",
       "\n",
       "<h2>lineWithFocusChart</h2>\n",
       "\n",
       "<div id=\"linewithfocuschart\"><svg style=\"width:750px;height:400px;\"></svg></div>\n",
       "\n",
       "\n",
       "    <script>\n",
       "\n",
       "\n",
       "    \n",
       "        data_linewithfocuschart=[{\"values\": [{\"y\": 7, \"x\": 1338534000000}, {\"y\": -4, \"x\": 1339534000000}, {\"y\": 3, \"x\": 1340534000000}, {\"y\": 3, \"x\": 1341534000000}, {\"y\": -2, \"x\": 1342534000000}, {\"y\": 4, \"x\": 1343534000000}, {\"y\": 15, \"x\": 1344534000000}, {\"y\": 6, \"x\": 1345534000000}, {\"y\": 18, \"x\": 1346534000000}, {\"y\": 15, \"x\": 1347534000000}, {\"y\": 4, \"x\": 1348534000000}, {\"y\": 2, \"x\": 1349534000000}, {\"y\": 20, \"x\": 1350534000000}, {\"y\": 18, \"x\": 1351534000000}, {\"y\": 9, \"x\": 1352534000000}, {\"y\": 22, \"x\": 1353534000000}, {\"y\": 24, \"x\": 1354534000000}, {\"y\": 22, \"x\": 1355534000000}, {\"y\": 24, \"x\": 1356534000000}, {\"y\": 21, \"x\": 1357534000000}, {\"y\": 17, \"x\": 1358534000000}, {\"y\": 15, \"x\": 1359534000000}, {\"y\": 31, \"x\": 1360534000000}, {\"y\": 28, \"x\": 1361534000000}, {\"y\": 31, \"x\": 1362534000000}, {\"y\": 30, \"x\": 1363534000000}, {\"y\": 19, \"x\": 1364534000000}, {\"y\": 19, \"x\": 1365534000000}, {\"y\": 35, \"x\": 1366534000000}, {\"y\": 32, \"x\": 1367534000000}, {\"y\": 24, \"x\": 1368534000000}, {\"y\": 40, \"x\": 1369534000000}, {\"y\": 24, \"x\": 1370534000000}, {\"y\": 43, \"x\": 1371534000000}, {\"y\": 40, \"x\": 1372534000000}, {\"y\": 34, \"x\": 1373534000000}, {\"y\": 39, \"x\": 1374534000000}, {\"y\": 33, \"x\": 1375534000000}, {\"y\": 41, \"x\": 1376534000000}, {\"y\": 39, \"x\": 1377534000000}, {\"y\": 50, \"x\": 1378534000000}, {\"y\": 50, \"x\": 1379534000000}, {\"y\": 32, \"x\": 1380534000000}, {\"y\": 52, \"x\": 1381534000000}, {\"y\": 46, \"x\": 1382534000000}, {\"y\": 55, \"x\": 1383534000000}, {\"y\": 47, \"x\": 1384534000000}, {\"y\": 42, \"x\": 1385534000000}, {\"y\": 45, \"x\": 1386534000000}, {\"y\": 42, \"x\": 1387534000000}, {\"y\": 46, \"x\": 1388534000000}, {\"y\": 45, \"x\": 1389534000000}, {\"y\": 48, \"x\": 1390534000000}, {\"y\": 49, \"x\": 1391534000000}, {\"y\": 50, \"x\": 1392534000000}, {\"y\": 54, \"x\": 1393534000000}, {\"y\": 56, \"x\": 1394534000000}, {\"y\": 53, \"x\": 1395534000000}, {\"y\": 52, \"x\": 1396534000000}, {\"y\": 49, \"x\": 1397534000000}, {\"y\": 58, \"x\": 1398534000000}, {\"y\": 52, \"x\": 1399534000000}, {\"y\": 58, \"x\": 1400534000000}, {\"y\": 62, \"x\": 1401534000000}, {\"y\": 71, \"x\": 1402534000000}, {\"y\": 67, \"x\": 1403534000000}, {\"y\": 70, \"x\": 1404534000000}, {\"y\": 75, \"x\": 1405534000000}, {\"y\": 66, \"x\": 1406534000000}, {\"y\": 65, \"x\": 1407534000000}, {\"y\": 74, \"x\": 1408534000000}, {\"y\": 72, \"x\": 1409534000000}, {\"y\": 80, \"x\": 1410534000000}, {\"y\": 76, \"x\": 1411534000000}, {\"y\": 83, \"x\": 1412534000000}, {\"y\": 78, \"x\": 1413534000000}, {\"y\": 73, \"x\": 1414534000000}, {\"y\": 71, \"x\": 1415534000000}, {\"y\": 76, \"x\": 1416534000000}, {\"y\": 74, \"x\": 1417534000000}, {\"y\": 82, \"x\": 1418534000000}, {\"y\": 78, \"x\": 1419534000000}, {\"y\": 78, \"x\": 1420534000000}, {\"y\": 85, \"x\": 1421534000000}, {\"y\": 89, \"x\": 1422534000000}, {\"y\": 77, \"x\": 1423534000000}, {\"y\": 80, \"x\": 1424534000000}, {\"y\": 92, \"x\": 1425534000000}, {\"y\": 98, \"x\": 1426534000000}, {\"y\": 87, \"x\": 1427534000000}, {\"y\": 84, \"x\": 1428534000000}, {\"y\": 98, \"x\": 1429534000000}, {\"y\": 95, \"x\": 1430534000000}, {\"y\": 96, \"x\": 1431534000000}, {\"y\": 90, \"x\": 1432534000000}, {\"y\": 103, \"x\": 1433534000000}, {\"y\": 98, \"x\": 1434534000000}, {\"y\": 94, \"x\": 1435534000000}, {\"y\": 100, \"x\": 1436534000000}, {\"y\": 108, \"x\": 1437534000000}], \"key\": \"serie 1\", \"yAxis\": \"1\"}, {\"values\": [{\"y\": 14, \"x\": 1338534000000}, {\"y\": -8, \"x\": 1339534000000}, {\"y\": 6, \"x\": 1340534000000}, {\"y\": 6, \"x\": 1341534000000}, {\"y\": -4, \"x\": 1342534000000}, {\"y\": 8, \"x\": 1343534000000}, {\"y\": 30, \"x\": 1344534000000}, {\"y\": 12, \"x\": 1345534000000}, {\"y\": 36, \"x\": 1346534000000}, {\"y\": 30, \"x\": 1347534000000}, {\"y\": 8, \"x\": 1348534000000}, {\"y\": 4, \"x\": 1349534000000}, {\"y\": 40, \"x\": 1350534000000}, {\"y\": 36, \"x\": 1351534000000}, {\"y\": 18, \"x\": 1352534000000}, {\"y\": 44, \"x\": 1353534000000}, {\"y\": 48, \"x\": 1354534000000}, {\"y\": 44, \"x\": 1355534000000}, {\"y\": 48, \"x\": 1356534000000}, {\"y\": 42, \"x\": 1357534000000}, {\"y\": 34, \"x\": 1358534000000}, {\"y\": 30, \"x\": 1359534000000}, {\"y\": 62, \"x\": 1360534000000}, {\"y\": 56, \"x\": 1361534000000}, {\"y\": 62, \"x\": 1362534000000}, {\"y\": 60, \"x\": 1363534000000}, {\"y\": 38, \"x\": 1364534000000}, {\"y\": 38, \"x\": 1365534000000}, {\"y\": 70, \"x\": 1366534000000}, {\"y\": 64, \"x\": 1367534000000}, {\"y\": 48, \"x\": 1368534000000}, {\"y\": 80, \"x\": 1369534000000}, {\"y\": 48, \"x\": 1370534000000}, {\"y\": 86, \"x\": 1371534000000}, {\"y\": 80, \"x\": 1372534000000}, {\"y\": 68, \"x\": 1373534000000}, {\"y\": 78, \"x\": 1374534000000}, {\"y\": 66, \"x\": 1375534000000}, {\"y\": 82, \"x\": 1376534000000}, {\"y\": 78, \"x\": 1377534000000}, {\"y\": 100, \"x\": 1378534000000}, {\"y\": 100, \"x\": 1379534000000}, {\"y\": 64, \"x\": 1380534000000}, {\"y\": 104, \"x\": 1381534000000}, {\"y\": 92, \"x\": 1382534000000}, {\"y\": 110, \"x\": 1383534000000}, {\"y\": 94, \"x\": 1384534000000}, {\"y\": 84, \"x\": 1385534000000}, {\"y\": 90, \"x\": 1386534000000}, {\"y\": 84, \"x\": 1387534000000}, {\"y\": 92, \"x\": 1388534000000}, {\"y\": 90, \"x\": 1389534000000}, {\"y\": 96, \"x\": 1390534000000}, {\"y\": 98, \"x\": 1391534000000}, {\"y\": 100, \"x\": 1392534000000}, {\"y\": 108, \"x\": 1393534000000}, {\"y\": 112, \"x\": 1394534000000}, {\"y\": 106, \"x\": 1395534000000}, {\"y\": 104, \"x\": 1396534000000}, {\"y\": 98, \"x\": 1397534000000}, {\"y\": 116, \"x\": 1398534000000}, {\"y\": 104, \"x\": 1399534000000}, {\"y\": 116, \"x\": 1400534000000}, {\"y\": 124, \"x\": 1401534000000}, {\"y\": 142, \"x\": 1402534000000}, {\"y\": 134, \"x\": 1403534000000}, {\"y\": 140, \"x\": 1404534000000}, {\"y\": 150, \"x\": 1405534000000}, {\"y\": 132, \"x\": 1406534000000}, {\"y\": 130, \"x\": 1407534000000}, {\"y\": 148, \"x\": 1408534000000}, {\"y\": 144, \"x\": 1409534000000}, {\"y\": 160, \"x\": 1410534000000}, {\"y\": 152, \"x\": 1411534000000}, {\"y\": 166, \"x\": 1412534000000}, {\"y\": 156, \"x\": 1413534000000}, {\"y\": 146, \"x\": 1414534000000}, {\"y\": 142, \"x\": 1415534000000}, {\"y\": 152, \"x\": 1416534000000}, {\"y\": 148, \"x\": 1417534000000}, {\"y\": 164, \"x\": 1418534000000}, {\"y\": 156, \"x\": 1419534000000}, {\"y\": 156, \"x\": 1420534000000}, {\"y\": 170, \"x\": 1421534000000}, {\"y\": 178, \"x\": 1422534000000}, {\"y\": 154, \"x\": 1423534000000}, {\"y\": 160, \"x\": 1424534000000}, {\"y\": 184, \"x\": 1425534000000}, {\"y\": 196, \"x\": 1426534000000}, {\"y\": 174, \"x\": 1427534000000}, {\"y\": 168, \"x\": 1428534000000}, {\"y\": 196, \"x\": 1429534000000}, {\"y\": 190, \"x\": 1430534000000}, {\"y\": 192, \"x\": 1431534000000}, {\"y\": 180, \"x\": 1432534000000}, {\"y\": 206, \"x\": 1433534000000}, {\"y\": 196, \"x\": 1434534000000}, {\"y\": 188, \"x\": 1435534000000}, {\"y\": 200, \"x\": 1436534000000}, {\"y\": 216, \"x\": 1437534000000}], \"key\": \"serie 2\", \"yAxis\": \"1\"}, {\"values\": [{\"y\": 21, \"x\": 1338534000000}, {\"y\": -12, \"x\": 1339534000000}, {\"y\": 9, \"x\": 1340534000000}, {\"y\": 9, \"x\": 1341534000000}, {\"y\": -6, \"x\": 1342534000000}, {\"y\": 12, \"x\": 1343534000000}, {\"y\": 45, \"x\": 1344534000000}, {\"y\": 18, \"x\": 1345534000000}, {\"y\": 54, \"x\": 1346534000000}, {\"y\": 45, \"x\": 1347534000000}, {\"y\": 12, \"x\": 1348534000000}, {\"y\": 6, \"x\": 1349534000000}, {\"y\": 60, \"x\": 1350534000000}, {\"y\": 54, \"x\": 1351534000000}, {\"y\": 27, \"x\": 1352534000000}, {\"y\": 66, \"x\": 1353534000000}, {\"y\": 72, \"x\": 1354534000000}, {\"y\": 66, \"x\": 1355534000000}, {\"y\": 72, \"x\": 1356534000000}, {\"y\": 63, \"x\": 1357534000000}, {\"y\": 51, \"x\": 1358534000000}, {\"y\": 45, \"x\": 1359534000000}, {\"y\": 93, \"x\": 1360534000000}, {\"y\": 84, \"x\": 1361534000000}, {\"y\": 93, \"x\": 1362534000000}, {\"y\": 90, \"x\": 1363534000000}, {\"y\": 57, \"x\": 1364534000000}, {\"y\": 57, \"x\": 1365534000000}, {\"y\": 105, \"x\": 1366534000000}, {\"y\": 96, \"x\": 1367534000000}, {\"y\": 72, \"x\": 1368534000000}, {\"y\": 120, \"x\": 1369534000000}, {\"y\": 72, \"x\": 1370534000000}, {\"y\": 129, \"x\": 1371534000000}, {\"y\": 120, \"x\": 1372534000000}, {\"y\": 102, \"x\": 1373534000000}, {\"y\": 117, \"x\": 1374534000000}, {\"y\": 99, \"x\": 1375534000000}, {\"y\": 123, \"x\": 1376534000000}, {\"y\": 117, \"x\": 1377534000000}, {\"y\": 150, \"x\": 1378534000000}, {\"y\": 150, \"x\": 1379534000000}, {\"y\": 96, \"x\": 1380534000000}, {\"y\": 156, \"x\": 1381534000000}, {\"y\": 138, \"x\": 1382534000000}, {\"y\": 165, \"x\": 1383534000000}, {\"y\": 141, \"x\": 1384534000000}, {\"y\": 126, \"x\": 1385534000000}, {\"y\": 135, \"x\": 1386534000000}, {\"y\": 126, \"x\": 1387534000000}, {\"y\": 138, \"x\": 1388534000000}, {\"y\": 135, \"x\": 1389534000000}, {\"y\": 144, \"x\": 1390534000000}, {\"y\": 147, \"x\": 1391534000000}, {\"y\": 150, \"x\": 1392534000000}, {\"y\": 162, \"x\": 1393534000000}, {\"y\": 168, \"x\": 1394534000000}, {\"y\": 159, \"x\": 1395534000000}, {\"y\": 156, \"x\": 1396534000000}, {\"y\": 147, \"x\": 1397534000000}, {\"y\": 174, \"x\": 1398534000000}, {\"y\": 156, \"x\": 1399534000000}, {\"y\": 174, \"x\": 1400534000000}, {\"y\": 186, \"x\": 1401534000000}, {\"y\": 213, \"x\": 1402534000000}, {\"y\": 201, \"x\": 1403534000000}, {\"y\": 210, \"x\": 1404534000000}, {\"y\": 225, \"x\": 1405534000000}, {\"y\": 198, \"x\": 1406534000000}, {\"y\": 195, \"x\": 1407534000000}, {\"y\": 222, \"x\": 1408534000000}, {\"y\": 216, \"x\": 1409534000000}, {\"y\": 240, \"x\": 1410534000000}, {\"y\": 228, \"x\": 1411534000000}, {\"y\": 249, \"x\": 1412534000000}, {\"y\": 234, \"x\": 1413534000000}, {\"y\": 219, \"x\": 1414534000000}, {\"y\": 213, \"x\": 1415534000000}, {\"y\": 228, \"x\": 1416534000000}, {\"y\": 222, \"x\": 1417534000000}, {\"y\": 246, \"x\": 1418534000000}, {\"y\": 234, \"x\": 1419534000000}, {\"y\": 234, \"x\": 1420534000000}, {\"y\": 255, \"x\": 1421534000000}, {\"y\": 267, \"x\": 1422534000000}, {\"y\": 231, \"x\": 1423534000000}, {\"y\": 240, \"x\": 1424534000000}, {\"y\": 276, \"x\": 1425534000000}, {\"y\": 294, \"x\": 1426534000000}, {\"y\": 261, \"x\": 1427534000000}, {\"y\": 252, \"x\": 1428534000000}, {\"y\": 294, \"x\": 1429534000000}, {\"y\": 285, \"x\": 1430534000000}, {\"y\": 288, \"x\": 1431534000000}, {\"y\": 270, \"x\": 1432534000000}, {\"y\": 309, \"x\": 1433534000000}, {\"y\": 294, \"x\": 1434534000000}, {\"y\": 282, \"x\": 1435534000000}, {\"y\": 300, \"x\": 1436534000000}, {\"y\": 324, \"x\": 1437534000000}], \"key\": \"serie 3\", \"yAxis\": \"1\"}, {\"values\": [{\"y\": 28, \"x\": 1338534000000}, {\"y\": -16, \"x\": 1339534000000}, {\"y\": 12, \"x\": 1340534000000}, {\"y\": 12, \"x\": 1341534000000}, {\"y\": -8, \"x\": 1342534000000}, {\"y\": 16, \"x\": 1343534000000}, {\"y\": 60, \"x\": 1344534000000}, {\"y\": 24, \"x\": 1345534000000}, {\"y\": 72, \"x\": 1346534000000}, {\"y\": 60, \"x\": 1347534000000}, {\"y\": 16, \"x\": 1348534000000}, {\"y\": 8, \"x\": 1349534000000}, {\"y\": 80, \"x\": 1350534000000}, {\"y\": 72, \"x\": 1351534000000}, {\"y\": 36, \"x\": 1352534000000}, {\"y\": 88, \"x\": 1353534000000}, {\"y\": 96, \"x\": 1354534000000}, {\"y\": 88, \"x\": 1355534000000}, {\"y\": 96, \"x\": 1356534000000}, {\"y\": 84, \"x\": 1357534000000}, {\"y\": 68, \"x\": 1358534000000}, {\"y\": 60, \"x\": 1359534000000}, {\"y\": 124, \"x\": 1360534000000}, {\"y\": 112, \"x\": 1361534000000}, {\"y\": 124, \"x\": 1362534000000}, {\"y\": 120, \"x\": 1363534000000}, {\"y\": 76, \"x\": 1364534000000}, {\"y\": 76, \"x\": 1365534000000}, {\"y\": 140, \"x\": 1366534000000}, {\"y\": 128, \"x\": 1367534000000}, {\"y\": 96, \"x\": 1368534000000}, {\"y\": 160, \"x\": 1369534000000}, {\"y\": 96, \"x\": 1370534000000}, {\"y\": 172, \"x\": 1371534000000}, {\"y\": 160, \"x\": 1372534000000}, {\"y\": 136, \"x\": 1373534000000}, {\"y\": 156, \"x\": 1374534000000}, {\"y\": 132, \"x\": 1375534000000}, {\"y\": 164, \"x\": 1376534000000}, {\"y\": 156, \"x\": 1377534000000}, {\"y\": 200, \"x\": 1378534000000}, {\"y\": 200, \"x\": 1379534000000}, {\"y\": 128, \"x\": 1380534000000}, {\"y\": 208, \"x\": 1381534000000}, {\"y\": 184, \"x\": 1382534000000}, {\"y\": 220, \"x\": 1383534000000}, {\"y\": 188, \"x\": 1384534000000}, {\"y\": 168, \"x\": 1385534000000}, {\"y\": 180, \"x\": 1386534000000}, {\"y\": 168, \"x\": 1387534000000}, {\"y\": 184, \"x\": 1388534000000}, {\"y\": 180, \"x\": 1389534000000}, {\"y\": 192, \"x\": 1390534000000}, {\"y\": 196, \"x\": 1391534000000}, {\"y\": 200, \"x\": 1392534000000}, {\"y\": 216, \"x\": 1393534000000}, {\"y\": 224, \"x\": 1394534000000}, {\"y\": 212, \"x\": 1395534000000}, {\"y\": 208, \"x\": 1396534000000}, {\"y\": 196, \"x\": 1397534000000}, {\"y\": 232, \"x\": 1398534000000}, {\"y\": 208, \"x\": 1399534000000}, {\"y\": 232, \"x\": 1400534000000}, {\"y\": 248, \"x\": 1401534000000}, {\"y\": 284, \"x\": 1402534000000}, {\"y\": 268, \"x\": 1403534000000}, {\"y\": 280, \"x\": 1404534000000}, {\"y\": 300, \"x\": 1405534000000}, {\"y\": 264, \"x\": 1406534000000}, {\"y\": 260, \"x\": 1407534000000}, {\"y\": 296, \"x\": 1408534000000}, {\"y\": 288, \"x\": 1409534000000}, {\"y\": 320, \"x\": 1410534000000}, {\"y\": 304, \"x\": 1411534000000}, {\"y\": 332, \"x\": 1412534000000}, {\"y\": 312, \"x\": 1413534000000}, {\"y\": 292, \"x\": 1414534000000}, {\"y\": 284, \"x\": 1415534000000}, {\"y\": 304, \"x\": 1416534000000}, {\"y\": 296, \"x\": 1417534000000}, {\"y\": 328, \"x\": 1418534000000}, {\"y\": 312, \"x\": 1419534000000}, {\"y\": 312, \"x\": 1420534000000}, {\"y\": 340, \"x\": 1421534000000}, {\"y\": 356, \"x\": 1422534000000}, {\"y\": 308, \"x\": 1423534000000}, {\"y\": 320, \"x\": 1424534000000}, {\"y\": 368, \"x\": 1425534000000}, {\"y\": 392, \"x\": 1426534000000}, {\"y\": 348, \"x\": 1427534000000}, {\"y\": 336, \"x\": 1428534000000}, {\"y\": 392, \"x\": 1429534000000}, {\"y\": 380, \"x\": 1430534000000}, {\"y\": 384, \"x\": 1431534000000}, {\"y\": 360, \"x\": 1432534000000}, {\"y\": 412, \"x\": 1433534000000}, {\"y\": 392, \"x\": 1434534000000}, {\"y\": 376, \"x\": 1435534000000}, {\"y\": 400, \"x\": 1436534000000}, {\"y\": 432, \"x\": 1437534000000}], \"key\": \"serie 4\", \"yAxis\": \"1\"}];\n",
       "\n",
       "    nv.addGraph(function() {\n",
       "        var chart = nv.models.lineWithFocusChart();\n",
       "\n",
       "        chart.margin({top: 30, right: 60, bottom: 20, left: 60});\n",
       "\n",
       "        var datum = data_linewithfocuschart;\n",
       "\n",
       "        chart.color(d3.scale.category20b().range());\n",
       "\n",
       "\n",
       "\n",
       "\n",
       "            chart.yAxis\n",
       "                .tickFormat(d3.format(',.2f'));\n",
       "            chart.y2Axis\n",
       "                .tickFormat(d3.format(',.2f'));\n",
       "            chart.xAxis\n",
       "                .tickFormat(function(d) { return d3.time.format('%d %b %Y %H')(new Date(parseInt(d))) }\n",
       ");\n",
       "            chart.x2Axis\n",
       "                .tickFormat(function(d) { return d3.time.format('%d %b %Y %H')(new Date(parseInt(d))) }\n",
       ");\n",
       "\n",
       "                chart.tooltipContent(function(key, y, e, graph) {\n",
       "                    var x = d3.time.format(\"%d %b %Y %H:%M:%S %p\")(new Date(parseInt(graph.point.x)));\n",
       "                    var y = String(graph.point.y);\n",
       "                                        if(key == 'serie 1'){\n",
       "                        var y = 'There is ' +  String(graph.point.y)  + ' calls';\n",
       "                    }\n",
       "                    if(key == 'serie 2'){\n",
       "                        var y = 'There is ' +  String(graph.point.y)  + ' calls';\n",
       "                    }\n",
       "                    if(key == 'serie 3'){\n",
       "                        var y = 'There is ' +  String(graph.point.y)  + ' calls';\n",
       "                    }\n",
       "                    if(key == 'serie 4'){\n",
       "                        var y = 'There is ' +  String(graph.point.y)  + ' calls';\n",
       "                    }\n",
       "\n",
       "                    tooltip_str = '<center><b>'+key+'</b></center>' + y + ' on ' + x;\n",
       "                    return tooltip_str;\n",
       "                });\n",
       "\n",
       "      chart.showLegend(true);\n",
       "\n",
       "\n",
       "\n",
       "        \n",
       "\n",
       "\n",
       "        d3.select('#linewithfocuschart svg')\n",
       "            .datum(datum)\n",
       "            .transition().duration(500)\n",
       "            .attr('width', 750)\n",
       "            .attr('height', 400)\n",
       "            .call(chart);\n",
       "\n",
       "\n",
       "    });\n",
       "\n",
       "\n",
       "\n",
       "\n",
       "    </script>\n",
       "\n",
       "    </body>\n",
       "</html>"
      ],
      "text/plain": [
       "<nvd3.lineWithFocusChart.lineWithFocusChart at 0x6307860>"
      ]
     },
     "execution_count": 7,
     "metadata": {},
     "output_type": "execute_result"
    }
   ],
   "source": [
    "type = \"lineWithFocusChart\"\n",
    "chart6 = nvd3.lineWithFocusChart(name=type, height=400, width=750,\n",
    "                           color_category='category20b', x_is_date=True,\n",
    "                           x_axis_format=\"%d %b %Y %H\", focus_enable=True)\n",
    "chart6.set_containerheader(\"\\n\\n<h2>\" + type + \"</h2>\\n\\n\")\n",
    "\n",
    "xdata = list(range(nb_element))\n",
    "xdata = [start_time + x * 1000000000 for x in xdata]\n",
    "ydata = [i + random.randint(-10, 10) for i in range(nb_element)]\n",
    "\n",
    "ydata2 = [x * 2 for x in ydata]\n",
    "ydata3 = [x * 3 for x in ydata]\n",
    "ydata4 = [x * 4 for x in ydata]\n",
    "\n",
    "extra_serie = {\"tooltip\": {\"y_start\": \"There is \", \"y_end\": \" calls\"},\n",
    "               \"date_format\": \"%d %b %Y %H:%M:%S %p\"}\n",
    "# extra_serie = None\n",
    "chart6.add_serie(name=\"serie 1\", y=ydata, x=xdata, extra=extra_serie)\n",
    "chart6.add_serie(name=\"serie 2\", y=ydata2, x=xdata, extra=extra_serie)\n",
    "chart6.add_serie(name=\"serie 3\", y=ydata3, x=xdata, extra=extra_serie)\n",
    "chart6.add_serie(name=\"serie 4\", y=ydata4, x=xdata, extra=extra_serie)\n",
    "chart6\n"
   ]
  },
  {
   "cell_type": "code",
   "execution_count": 8,
   "metadata": {
    "collapsed": false
   },
   "outputs": [
    {
     "data": {
      "text/html": [
       "<!DOCTYPE html>\n",
       "<html lang=\"en\">\n",
       "    <head>\n",
       "        <meta charset=\"utf-8\" />\n",
       "        <link href=\"https://cdnjs.cloudflare.com/ajax/libs/nvd3/1.7.0/nv.d3.min.css\" rel=\"stylesheet\" />\n",
       "        <script src=\"https://cdnjs.cloudflare.com/ajax/libs/d3/3.5.5/d3.min.js\"></script>\n",
       "        <script src=\"https://cdnjs.cloudflare.com/ajax/libs/nvd3/1.7.0/nv.d3.min.js\"></script>\n",
       "    </head>\n",
       "    <body>\n",
       "        \n",
       "    \n",
       "\n",
       "<h2>multiBarHorizontalChart</h2>\n",
       "\n",
       "<div id=\"multibarhorizontalchart\"><svg style=\"width:750px;height:350px;\"></svg></div>\n",
       "\n",
       "\n",
       "    <script>\n",
       "\n",
       "\n",
       "\n",
       "        data_multibarhorizontalchart=[{\"values\": [{\"y\": -7, \"x\": 0}, {\"y\": 2, \"x\": 1}, {\"y\": 7, \"x\": 2}, {\"y\": -1, \"x\": 3}, {\"y\": -1, \"x\": 4}, {\"y\": 7, \"x\": 5}, {\"y\": -7, \"x\": 6}, {\"y\": 7, \"x\": 7}, {\"y\": -2, \"x\": 8}, {\"y\": 4, \"x\": 9}], \"key\": \"Count\", \"yAxis\": \"1\"}, {\"values\": [{\"y\": -14, \"x\": 0}, {\"y\": 4, \"x\": 1}, {\"y\": 14, \"x\": 2}, {\"y\": -2, \"x\": 3}, {\"y\": -2, \"x\": 4}, {\"y\": 14, \"x\": 5}, {\"y\": -14, \"x\": 6}, {\"y\": 14, \"x\": 7}, {\"y\": -4, \"x\": 8}, {\"y\": 8, \"x\": 9}], \"key\": \"Duration\", \"yAxis\": \"1\"}];\n",
       "\n",
       "    nv.addGraph(function() {\n",
       "        var chart = nv.models.multiBarHorizontalChart();\n",
       "\n",
       "        chart.margin({top: 30, right: 60, bottom: 20, left: 60});\n",
       "\n",
       "        var datum = data_multibarhorizontalchart;\n",
       "\n",
       "\n",
       "\n",
       "\n",
       "\n",
       "            chart.xAxis\n",
       "                .tickFormat(d3.format(',.2f'));\n",
       "            chart.yAxis\n",
       "                .tickFormat(d3.format(',.2f'));\n",
       "\n",
       "                    chart.tooltipContent(function(key, y, e, graph) {\n",
       "                        var x = String(graph.point.x);\n",
       "                        var y = String(graph.point.y);\n",
       "                                            if(key == 'Count'){\n",
       "                        var y =  String(graph.point.y)  + ' Calls';\n",
       "                    }\n",
       "                    if(key == 'Duration'){\n",
       "                        var y =  String(graph.point.y)  + ' Min';\n",
       "                    }\n",
       "\n",
       "                        tooltip_str = '<center><b>'+key+'</b></center>' + y + ' at ' + x;\n",
       "                        return tooltip_str;\n",
       "                    });\n",
       "\n",
       "      chart.showLegend(true);\n",
       "\n",
       "\n",
       "\n",
       "        \n",
       "\n",
       "\n",
       "        d3.select('#multibarhorizontalchart svg')\n",
       "            .datum(datum)\n",
       "            .transition().duration(500)\n",
       "            .attr('width', 750)\n",
       "            .attr('height', 350)\n",
       "            .call(chart);\n",
       "\n",
       "\n",
       "    });\n",
       "\n",
       "\n",
       "\n",
       "\n",
       "    </script>\n",
       "\n",
       "    </body>\n",
       "</html>"
      ],
      "text/plain": [
       "<nvd3.multiBarHorizontalChart.multiBarHorizontalChart at 0x2ce4588>"
      ]
     },
     "execution_count": 8,
     "metadata": {},
     "output_type": "execute_result"
    }
   ],
   "source": [
    "\n",
    "type = \"multiBarHorizontalChart\"\n",
    "chart7 = nvd3.multiBarHorizontalChart(name=type, height=350, width=750)\n",
    "chart7.set_containerheader(\"\\n\\n<h2>\" + type + \"</h2>\\n\\n\")\n",
    "\n",
    "nb_element = 10\n",
    "xdata = list(range(nb_element))\n",
    "ydata = [random.randint(-10, 10) for i in range(nb_element)]\n",
    "ydata2 = [x * 2 for x in ydata]\n",
    "extra_serie = {\"tooltip\": {\"y_start\": \"\", \"y_end\": \" Calls\"}}\n",
    "chart7.add_serie(name=\"Count\", y=ydata, x=xdata, extra=extra_serie)\n",
    "extra_serie = {\"tooltip\": {\"y_start\": \"\", \"y_end\": \" Min\"}}\n",
    "chart7.add_serie(name=\"Duration\", y=ydata2, x=xdata, extra=extra_serie)\n",
    "chart7\n"
   ]
  },
  {
   "cell_type": "code",
   "execution_count": 9,
   "metadata": {
    "collapsed": false
   },
   "outputs": [
    {
     "data": {
      "text/html": [
       "<!DOCTYPE html>\n",
       "<html lang=\"en\">\n",
       "    <head>\n",
       "        <meta charset=\"utf-8\" />\n",
       "        <link href=\"https://cdnjs.cloudflare.com/ajax/libs/nvd3/1.7.0/nv.d3.min.css\" rel=\"stylesheet\" />\n",
       "        <script src=\"https://cdnjs.cloudflare.com/ajax/libs/d3/3.5.5/d3.min.js\"></script>\n",
       "        <script src=\"https://cdnjs.cloudflare.com/ajax/libs/nvd3/1.7.0/nv.d3.min.js\"></script>\n",
       "    </head>\n",
       "    <body>\n",
       "        \n",
       "    \n",
       "\n",
       "<h2>discreteBarChart</h2>\n",
       "\n",
       "<div id=\"discretebarchart\"><svg style=\"width:750px;height:350px;\"></svg></div>\n",
       "\n",
       "\n",
       "    <script>\n",
       "\n",
       "\n",
       "\n",
       "                data_discretebarchart=[{\"values\": [{\"y\": 9, \"x\": 1338534000000}, {\"y\": 3, \"x\": 1339534000000}, {\"y\": 4, \"x\": 1340534000000}, {\"y\": 10, \"x\": 1341534000000}, {\"y\": 13, \"x\": 1342534000000}, {\"y\": 8, \"x\": 1343534000000}, {\"y\": 11, \"x\": 1344534000000}, {\"y\": 12, \"x\": 1345534000000}, {\"y\": 9, \"x\": 1346534000000}, {\"y\": 17, \"x\": 1347534000000}], \"key\": \"Serie 1\", \"yAxis\": \"1\"}];\n",
       "\n",
       "\n",
       "            nv.addGraph(function() {\n",
       "        var chart = nv.models.discreteBarChart();\n",
       "\n",
       "        chart.margin({top: 30, right: 60, bottom: 20, left: 60});\n",
       "\n",
       "        var datum = data_discretebarchart;\n",
       "\n",
       "\n",
       "\n",
       "                    chart.xAxis\n",
       "                .tickFormat(function(d) { return d3.time.format('%d-%b')(new Date(parseInt(d))) }\n",
       ");\n",
       "            chart.yAxis\n",
       "                .tickFormat(d3.format(',.0f'));\n",
       "\n",
       "    \n",
       "    \n",
       "\n",
       "        \n",
       "\n",
       "\n",
       "\n",
       "            d3.select('#discretebarchart svg')\n",
       "            .datum(datum)\n",
       "            .transition().duration(500)\n",
       "            .attr('width', 750)\n",
       "            .attr('height', 350)\n",
       "            .call(chart);\n",
       "\n",
       "    \n",
       "        });\n",
       "\n",
       "\n",
       "\n",
       "    </script>\n",
       "\n",
       "    </body>\n",
       "</html>"
      ],
      "text/plain": [
       "<nvd3.discreteBarChart.discreteBarChart at 0x62297b8>"
      ]
     },
     "execution_count": 9,
     "metadata": {},
     "output_type": "execute_result"
    }
   ],
   "source": [
    "\n",
    "type = \"discreteBarChart\"\n",
    "\n",
    "nb_element = 10\n",
    "\n",
    "xdata = list(range(nb_element))\n",
    "xdata = [start_time + x * 1000000000 for x in xdata]\n",
    "ydata = [i + random.randint(1, 10) for i in range(nb_element)]\n",
    "\n",
    "chart8 = nvd3.discreteBarChart(name=type, height=350, width=750, x_is_date=True, x_axis_format=\"%d-%b\")\n",
    "chart8.set_containerheader(\"\\n\\n<h2>\" + type + \"</h2>\\n\\n\")\n",
    "\n",
    "extra_serie = {\"tooltip\": {\"y_start\": \"\", \"y_end\": \" cal\"}}\n",
    "chart8.add_serie(y=ydata, x=xdata, extra=extra_serie)\n",
    "chart8\n"
   ]
  },
  {
   "cell_type": "code",
   "execution_count": 10,
   "metadata": {
    "collapsed": false
   },
   "outputs": [
    {
     "data": {
      "text/html": [
       "<!DOCTYPE html>\n",
       "<html lang=\"en\">\n",
       "    <head>\n",
       "        <meta charset=\"utf-8\" />\n",
       "        <link href=\"https://cdnjs.cloudflare.com/ajax/libs/nvd3/1.7.0/nv.d3.min.css\" rel=\"stylesheet\" />\n",
       "        <script src=\"https://cdnjs.cloudflare.com/ajax/libs/d3/3.5.5/d3.min.js\"></script>\n",
       "        <script src=\"https://cdnjs.cloudflare.com/ajax/libs/nvd3/1.7.0/nv.d3.min.js\"></script>\n",
       "    </head>\n",
       "    <body>\n",
       "        \n",
       "    \n",
       "\n",
       "<h2>cumulativeLineChart</h2>\n",
       "\n",
       "<div id=\"cumulativelinechart\"><svg style=\"width:800px;height:400px;\"></svg></div>\n",
       "\n",
       "\n",
       "    <script>\n",
       "\n",
       "    $(function(){\n",
       "\n",
       "\n",
       "        data_cumulativelinechart=[{\"values\": [{\"y\": 4, \"x\": 1338534000000}, {\"y\": 10, \"x\": 1339534000000}, {\"y\": 12, \"x\": 1340534000000}, {\"y\": 8, \"x\": 1341534000000}, {\"y\": 11, \"x\": 1342534000000}, {\"y\": 8, \"x\": 1343534000000}, {\"y\": 9, \"x\": 1344534000000}, {\"y\": 11, \"x\": 1345534000000}, {\"y\": 11, \"x\": 1346534000000}, {\"y\": 14, \"x\": 1347534000000}], \"key\": \"Count\", \"yAxis\": \"1\"}, {\"values\": [{\"y\": 8, \"x\": 1338534000000}, {\"y\": 20, \"x\": 1339534000000}, {\"y\": 24, \"x\": 1340534000000}, {\"y\": 16, \"x\": 1341534000000}, {\"y\": 22, \"x\": 1342534000000}, {\"y\": 16, \"x\": 1343534000000}, {\"y\": 18, \"x\": 1344534000000}, {\"y\": 22, \"x\": 1345534000000}, {\"y\": 22, \"x\": 1346534000000}, {\"y\": 28, \"x\": 1347534000000}], \"key\": \"Duration\", \"yAxis\": \"1\"}];\n",
       "\n",
       "    nv.addGraph(function() {\n",
       "        var chart = nv.models.cumulativeLineChart();\n",
       "\n",
       "        chart.margin({top: 30, right: 60, bottom: 20, left: 60});\n",
       "\n",
       "        var datum = data_cumulativelinechart;\n",
       "\n",
       "\n",
       "\n",
       "\n",
       "\n",
       "            chart.xAxis\n",
       "                .tickFormat(function(d) { return d3.time.format('%d %b %Y')(new Date(parseInt(d))) }\n",
       ");\n",
       "            chart.yAxis\n",
       "                .tickFormat(d3.format(',.1%'));\n",
       "\n",
       "                chart.tooltipContent(function(key, y, e, graph) {\n",
       "                    var x = d3.time.format(\"%d %b %Y\")(new Date(parseInt(graph.point.x)));\n",
       "                    var y = String(graph.point.y);\n",
       "                    if(key == 'Count'){\n",
       "                        var y =  String(e)  + ' Calls';\n",
       "                    }\n",
       "if(key == 'Duration'){\n",
       "                        var y =  String(e)  + ' Min';\n",
       "                    }\n",
       "\n",
       "                    tooltip_str = '<center><b>'+key+'</b></center>' + y + ' on ' + x;\n",
       "                    return tooltip_str;\n",
       "                });\n",
       "\n",
       "      chart.showLegend(true);\n",
       "\n",
       "\n",
       "\n",
       "        \n",
       "\n",
       "\n",
       "        d3.select('#cumulativelinechart svg')\n",
       "            .datum(datum)\n",
       "            .transition().duration(500)\n",
       "            .attr('width', 800)\n",
       "            .attr('height', 400)\n",
       "            .call(chart);\n",
       "\n",
       "\n",
       "    });\n",
       "\n",
       "\n",
       "\n",
       "\n",
       "        });\n",
       "    </script>\n",
       "\n",
       "    </body>\n",
       "</html>"
      ],
      "text/plain": [
       "<nvd3.cumulativeLineChart.cumulativeLineChart at 0x2cc7e48>"
      ]
     },
     "execution_count": 10,
     "metadata": {},
     "output_type": "execute_result"
    }
   ],
   "source": [
    "\n",
    "type = \"cumulativeLineChart\"\n",
    "chart9 = nvd3.cumulativeLineChart(height=400, width=800,\n",
    "                            x_is_date=True, x_axis_format=\"%d %b %Y\",\n",
    "                            jquery_on_ready=True)\n",
    "chart9.set_containerheader(\"\\n\\n<h2>\" + type + \"</h2>\\n\\n\")\n",
    "\n",
    "xdata = list(range(nb_element))\n",
    "xdata = [start_time + x * 1000000000 for x in xdata]\n",
    "ydata = [i + random.randint(1, 10) for i in range(nb_element)]\n",
    "ydata2 = [x * 2 for x in ydata]\n",
    "\n",
    "extra_serie = {\"tooltip\": {\"y_start\": \"\", \"y_end\": \" Calls\"}}\n",
    "chart9.add_serie(name=\"Count\", y=ydata, x=xdata, extra=extra_serie)\n",
    "extra_serie = {\"tooltip\": {\"y_start\": \"\", \"y_end\": \" Min\"}}\n",
    "chart9.add_serie(name=\"Duration\", y=ydata2, x=xdata, extra=extra_serie)\n",
    "chart9\n"
   ]
  },
  {
   "cell_type": "code",
   "execution_count": null,
   "metadata": {
    "collapsed": true
   },
   "outputs": [],
   "source": []
  }
 ],
 "metadata": {
  "anaconda-cloud": {},
  "kernelspec": {
   "display_name": "Python [conda root]",
   "language": "python",
   "name": "conda-root-py"
  },
  "language_info": {
   "codemirror_mode": {
    "name": "ipython",
    "version": 2
   },
   "file_extension": ".py",
   "mimetype": "text/x-python",
   "name": "python",
   "nbconvert_exporter": "python",
   "pygments_lexer": "ipython2",
   "version": "2.7.12"
  }
 },
 "nbformat": 4,
 "nbformat_minor": 0
}
